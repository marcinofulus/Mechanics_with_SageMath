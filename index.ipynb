{
 "cells": [
  {
   "cell_type": "markdown",
   "metadata": {},
   "source": [
    "# Problems in Physics\n",
    "\n",
    "Use the links below to jump directly to these notebooks to read the book"
   ]
  },
  {
   "cell_type": "markdown",
   "metadata": {},
   "source": [
    "- [Preface](00-Preface.ipynb)\n",
    "- [Introduction to classical mechanics](001-Introduction_to_classical_mechanics.ipynb)\n",
    "- [One dimensional potential well](012-1d_potential_well.ipynb)\n",
    "- [Multistability](013-1d-multistable.ipynb)\n",
    "- [Solving problems using dAlembert principle with CAS](02-dAlembert_with_CAS.ipynb)\n",
    "- [03-dAlembert_pendulum_sin_pl](03-dAlembert_pendulum_sin_pl.ipynb)\n",
    "- [04-dAlembert_wahadlo_slizg_podwiesz_stripped](04-dAlembert_wahadlo_slizg_podwiesz_stripped.ipynb)\n",
    "- [05-Langrange_oscillating_support](05-Langrange_oscillating_support.ipynb)\n",
    "- [06-dAlembert_koralik](06-dAlembert_koralik.ipynb)\n",
    "- [07-dAlembert_wahadlo_podwojne](07-dAlembert_wahadlo_podwojne.ipynb)\n",
    "- [08-dAlembert_spherical_pendulum](08-dAlembert_spherical_pendulum.ipynb)\n",
    "- [09-Paraboloid_pendulum](09-Paraboloid_pendulum.ipynb)\n",
    "- [10-Cone](10-Cone.ipynb)\n",
    "- [11-Paraglider](11-Paraglider.ipynb)\n",
    "- [99-gentle_intro_ode](99-gentle_intro_ode.ipynb)"
   ]
  },
  {
   "cell_type": "code",
   "execution_count": 2,
   "metadata": {},
   "outputs": [
    {
     "name": "stdout",
     "output_type": "stream",
     "text": [
      "- [00-Preface](00-Preface.ipynb)\n",
      "- [001-Introduction_to_classical_mechanics](001-Introduction_to_classical_mechanics.ipynb)\n",
      "- [012-1d_potential_well](012-1d_potential_well.ipynb)\n",
      "- [013-1d-multistable](013-1d-multistable.ipynb)\n",
      "- [02-dAlembert_with_CAS](02-dAlembert_with_CAS.ipynb)\n",
      "- [03-dAlembert_pendulum_sin_pl](03-dAlembert_pendulum_sin_pl.ipynb)\n",
      "- [04-dAlembert_wahadlo_slizg_podwiesz_stripped](04-dAlembert_wahadlo_slizg_podwiesz_stripped.ipynb)\n",
      "- [05-Langrange_oscillating_support](05-Langrange_oscillating_support.ipynb)\n",
      "- [06-dAlembert_koralik](06-dAlembert_koralik.ipynb)\n",
      "- [07-dAlembert_wahadlo_podwojne](07-dAlembert_wahadlo_podwojne.ipynb)\n",
      "- [08-dAlembert_spherical_pendulum](08-dAlembert_spherical_pendulum.ipynb)\n",
      "- [09-Paraboloid_pendulum](09-Paraboloid_pendulum.ipynb)\n",
      "- [10-Cone](10-Cone.ipynb)\n",
      "- [11-Paraglider](11-Paraglider.ipynb)\n",
      "- [99-gentle_intro_ode](99-gentle_intro_ode.ipynb)\n"
     ]
    }
   ],
   "source": [
    "import glob\n",
    "for ch in sorted(glob.glob(\"*-*.ipynb\")):\n",
    "    print(\"- [\"+ch[:-6]+\"](\"+ch+\")\")"
   ]
  }
 ],
 "metadata": {
  "anaconda-cloud": {},
  "kernelspec": {
   "display_name": "SageMath 8.7",
   "language": "",
   "name": "sagemath"
  },
  "language_info": {
   "codemirror_mode": {
    "name": "ipython",
    "version": 2
   },
   "file_extension": ".py",
   "mimetype": "text/x-python",
   "name": "python",
   "nbconvert_exporter": "python",
   "pygments_lexer": "ipython2",
   "version": "2.7.15"
  },
  "nbTranslate": {
   "displayLangs": [
    "en",
    "pl"
   ],
   "hotkey": "alt-t",
   "langInMainMenu": true,
   "sourceLang": "pl",
   "targetLang": "en",
   "useGoogleTranslate": true
  },
  "toc": {
   "base_numbering": 1,
   "nav_menu": {},
   "number_sections": true,
   "sideBar": true,
   "skip_h1_title": false,
   "title_cell": "Table of Contents",
   "title_sidebar": "Contents",
   "toc_cell": false,
   "toc_position": {},
   "toc_section_display": true,
   "toc_window_display": false
  }
 },
 "nbformat": 4,
 "nbformat_minor": 2
}
