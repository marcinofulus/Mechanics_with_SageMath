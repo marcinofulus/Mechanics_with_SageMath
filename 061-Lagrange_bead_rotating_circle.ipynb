{
 "cells": [
  {
   "cell_type": "markdown",
   "metadata": {},
   "source": [
    "# Bead on a rotating circle\n",
    "\n",
    "\n",
    "\n",
    "We consider a movement of a material point (bead) with the mass $m$ in a gravitational field, along a vertical circle with a radius $l$ rotating with the frequency $\\omega$ around a vertical axis, passing through the center of the circle.\n",
    "\n",
    "Turning circle creates a virtual sphere with a $R$ radius and a bead moves in this sphere. Therefore, it is most convenient to choose a reference system in $(r, \\theta, \\phi)$ spherical variables:\n",
    "\n",
    "\\begin{eqnarray}\n",
    "x&=&r \\sin \\theta \\cos \\phi \\\\\n",
    "y&=&r \\sin \\theta \\sin \\phi \\\\\n",
    "z&=&r \\cos \\theta\n",
    "\\end{eqnarray}\n",
    "\n",
    "It is a system with constraints and therefore it is convenient to analyze this issue in the framework of Lagrange mechanics.\n",
    "\n",
    "The Lagrange function is the difference in the kinetic energy of the bead and its potential energy (particles in the gravitational field):\n",
    "\n",
    "$$L=L(r, \\theta, \\phi, \\dot{r}, \\dot{\\theta}, \\dot{\\phi}) = E_k -E_p$$\n",
    "\n",
    "The kinetic energy of the bead is given by the formula:\n",
    "\n",
    "\\begin{equation}\n",
    "\\label{eq:Ek_spherical}\n",
    "E_k =\\frac{m v^2}{2} = \\frac{m}{2} [\\dot{x}^2 + \\dot{y}^2 + \\dot{z}^2] =  \\frac{m}{2}[\\dot{r}^2 + r^2 \\dot{\\theta}^2 + r^2 \\sin^2 (\\theta) \\dot{\\phi}^2]\n",
    "\\end{equation}\n",
    "\n",
    "The potential energy of the bead has the form\n",
    "$$E_p = mgz = mgr \\cos(\\theta)$$"
   ]
  },
  {
   "cell_type": "markdown",
   "metadata": {},
   "source": [
    "## Lagrange aproach in spherical coordinates\n",
    "\n",
    "We can  write Lagrangian of the system in   spherical coordinates. Contraints in spherical coordinates have simple form:\n",
    "\n",
    " - $r = l$ - radius is constant.\n",
    " - $\\phi(t)=\\omega_0 t$ - the azimuthal angle is forced by the  constraint.\n",
    " \n",
    "Effectively, the only degree of freedom is a polar angle $\\theta$. \n",
    " \n",
    "We will used CAS to derive both the form of the Lagrangian as well as equation of motion."
   ]
  },
  {
   "cell_type": "code",
   "execution_count": null,
   "metadata": {},
   "outputs": [],
   "source": [
    "load('cas_utils.sage')"
   ]
  },
  {
   "cell_type": "code",
   "execution_count": null,
   "metadata": {},
   "outputs": [],
   "source": [
    "var('t')\n",
    "var('l g w0')\n",
    "xy_names = [('x','x'),('y','y'),('z','z')]\n",
    "uv_names = [('r','r'),('phi',r'\\phi'),('theta',r'\\theta')]\n",
    "\n",
    "load('cas_utils.sage')\n",
    "\n",
    "to_fun, to_var = make_symbols(xy_names,uv_names)\n",
    "x2u = {x:r*sin(theta)*cos(phi),\n",
    "       y: r*sin(theta)*sin(phi),\n",
    "       z: r*cos(theta)}\n",
    "_  = transform_virtual_displacements(xy_names,uv_names,suffix='_uv')"
   ]
  },
  {
   "cell_type": "code",
   "execution_count": null,
   "metadata": {},
   "outputs": [],
   "source": [
    "Ek = 1/2*sum([x_.subs(x2u).subs(to_fun).diff(t).subs(to_var)^2 \\\n",
    "              for x_ in [x,y,z]])"
   ]
  },
  {
   "cell_type": "markdown",
   "metadata": {},
   "source": [
    "The symbolic variable is kinetic energy in spherical coordinates \\ref{eq:Ek_spherical},"
   ]
  },
  {
   "cell_type": "code",
   "execution_count": null,
   "metadata": {},
   "outputs": [],
   "source": [
    "showmath(Ek.trig_simplify())"
   ]
  },
  {
   "cell_type": "markdown",
   "metadata": {},
   "source": [
    "At this point we can substitute conditions resulting from constraints. Note that since we have already time derivatives $\\dot r$ and $\\dot phi$, we have to also substitute them explicitely."
   ]
  },
  {
   "cell_type": "code",
   "execution_count": null,
   "metadata": {},
   "outputs": [],
   "source": [
    "Ek = Ek.subs({phi:w0*t,phid:w0,rd:0,r:l}).trig_simplify()\n",
    "showmath(Ek)"
   ]
  },
  {
   "cell_type": "markdown",
   "metadata": {},
   "source": [
    "The potential energy can be computer in a similar way:"
   ]
  },
  {
   "cell_type": "code",
   "execution_count": null,
   "metadata": {},
   "outputs": [],
   "source": [
    "Ep = g*z.subs(x2u).subs({r:l})\n",
    "showmath(Ep)"
   ]
  },
  {
   "cell_type": "markdown",
   "metadata": {},
   "source": [
    "Langrange function is a difference between $E_k$ and $E_{pot}$:"
   ]
  },
  {
   "cell_type": "code",
   "execution_count": null,
   "metadata": {},
   "outputs": [],
   "source": [
    "L = Ek-Ep\n",
    "showmath(L.trig_simplify())"
   ]
  },
  {
   "cell_type": "markdown",
   "metadata": {},
   "source": [
    "We have single Euler-Lagrange equation in generalized coodinate: polar angle $\\theta$."
   ]
  },
  {
   "cell_type": "code",
   "execution_count": null,
   "metadata": {},
   "outputs": [],
   "source": [
    "EL = L.diff(thetad).subs(to_fun).diff(t).subs(to_var) - L.diff(theta)"
   ]
  },
  {
   "cell_type": "code",
   "execution_count": null,
   "metadata": {},
   "outputs": [],
   "source": [
    "showmath(EL.trig_simplify())"
   ]
  },
  {
   "cell_type": "markdown",
   "metadata": {},
   "source": [
    "## Analysis of the system\n",
    "\n",
    "### Effective potential \n",
    "\n",
    "Fist, we can notice that the form of Lagrangian contains kinetic part, with term contatining $\\dot \\theta$ and two terms dependent only on $\\theta$. We can interpret the latter as an effective potential of 1d motion in $\\theta$ coordinate.  The term comes from kinetic energy.\n",
    "\n",
    "We can extract it symbolically in SageMath by setting $\\dot \\theta=0$ in Lagrangian:"
   ]
  },
  {
   "cell_type": "code",
   "execution_count": null,
   "metadata": {},
   "outputs": [],
   "source": [
    "Ueff = -L.subs(thetad==0)\n",
    "showmath(Ueff)"
   ]
  },
  {
   "cell_type": "code",
   "execution_count": null,
   "metadata": {},
   "outputs": [],
   "source": [
    "plot?"
   ]
  },
  {
   "cell_type": "code",
   "execution_count": null,
   "metadata": {},
   "outputs": [],
   "source": [
    "w0s = [0,3,4,5]\n",
    "p_u1 = plot([Ueff.subs({w0:w0_,l:1,g:9.81}) for w0_ in w0s],\\\n",
    "            (theta,-3*pi/2-0.01,pi/2),\n",
    "           legend_label=[r'$\\omega_0=%0.1f$'%w_ for w_ in w0s], \n",
    "         tick_formatter=pi, gridlines=[[-pi],None])\n",
    "p_u1.show(figsize=(6,3))"
   ]
  },
  {
   "cell_type": "markdown",
   "metadata": {},
   "source": [
    "\\newpage"
   ]
  }
 ],
 "metadata": {
  "kernelspec": {
   "display_name": "SageMath 8.7",
   "language": "",
   "name": "sagemath"
  },
  "language": "python",
  "language_info": {
   "codemirror_mode": {
    "name": "ipython",
    "version": 2
   },
   "file_extension": ".py",
   "mimetype": "text/x-python",
   "name": "python",
   "nbconvert_exporter": "python",
   "pygments_lexer": "ipython2",
   "version": "2.7.15"
  },
  "nbTranslate": {
   "displayLangs": [
    "en",
    "pl"
   ],
   "hotkey": "alt-t",
   "langInMainMenu": true,
   "sourceLang": "pl",
   "targetLang": "en",
   "useGoogleTranslate": true
  },
  "toc": {
   "base_numbering": 1,
   "nav_menu": {},
   "number_sections": true,
   "sideBar": true,
   "skip_h1_title": false,
   "title_cell": "Table of Contents",
   "title_sidebar": "Contents",
   "toc_cell": false,
   "toc_position": {},
   "toc_section_display": true,
   "toc_window_display": false
  }
 },
 "nbformat": 4,
 "nbformat_minor": 2
}
