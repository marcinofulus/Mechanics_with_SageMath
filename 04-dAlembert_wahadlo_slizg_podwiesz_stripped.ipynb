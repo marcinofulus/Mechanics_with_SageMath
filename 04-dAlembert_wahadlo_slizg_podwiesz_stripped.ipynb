{
 "cells": [
  {
   "cell_type": "markdown",
   "metadata": {
    "lang": "en"
   },
   "source": [
    "# A pendulum with a slipping suspension point  "
   ]
  },
  {
   "cell_type": "markdown",
   "metadata": {
    "lang": "en"
   },
   "source": [
    "A pendulum with a slipping point of suspension\n",
    "\n",
    "Consider a pendulum for which the suspension point can move horizontally freely."
   ]
  },
  {
   "cell_type": "code",
   "execution_count": null,
   "metadata": {},
   "outputs": [],
   "source": [
    "load('cas_utils.sage')"
   ]
  },
  {
   "cell_type": "code",
   "execution_count": null,
   "metadata": {},
   "outputs": [],
   "source": [
    "var('t')\n",
    "var('l g m1 m2')\n",
    "\n",
    "xy_wsp = [('x1','x_1'),('y1','y_1'),('x2','x_2'),('y2','y_2')]\n",
    "\n",
    "uv_wsp = [('phi','\\phi'),('x','x')]\n",
    "\n",
    "to_fun, to_var = make_symbols(xy_wsp, uv_wsp)"
   ]
  },
  {
   "cell_type": "markdown",
   "metadata": {
    "lang": "en"
   },
   "source": [
    "## Equations of motion in a Cartesian system\n",
    "Let us derive the equations of motion in the Cartesian system. Let's start with the d'Alembert rule:"
   ]
  },
  {
   "cell_type": "code",
   "execution_count": null,
   "metadata": {},
   "outputs": [],
   "source": [
    "dAlemb = (m1*x1.subs(to_fun).diff(t,2))*dx1 + \\\n",
    "         (m1*y1.subs(to_fun).diff(t,2)+m1*g)*dy1+\\\n",
    "         (m2*x2.subs(to_fun).diff(t,2))*dx2 + \\\n",
    "         (m2*y2.subs(to_fun).diff(t,2)+m2*g)*dy2\n",
    "dAlemb = dAlemb.subs(to_var)\n",
    "showmath(dAlemb)"
   ]
  },
  {
   "cell_type": "markdown",
   "metadata": {
    "lang": "en"
   },
   "source": [
    "Equations of constraints for the system are:\n",
    "\n",
    " - $y_1=0$\n",
    " - $(x_1-x_2)^2+(y_1-y_2)^2=l^2$\n",
    "\n",
    "We calculate the variation of constraint equations (ie we present constraints in a differential form) using the formulas:\n",
    "$$\\delta f  = \\frac{\\partial f}{\\partial x_1}\\delta x_1 +\\frac{\\partial f}{\\partial x_2}\\delta x_2 + \\frac{\\partial f}{\\partial y_1}\\delta y_1 +\\frac{\\partial f}{\\partial y_2}\\delta y_2$$\n",
    "This difference is analogous to a general differential with the difference that time is treated as a constant."
   ]
  },
  {
   "cell_type": "code",
   "execution_count": null,
   "metadata": {},
   "outputs": [],
   "source": [
    "f = (x1-x2)^2+(y1-y2)^2-l^2\n",
    "df = f.diff(x1)*dx1 + f.diff(x2)*dx2 + f.diff(y1)*dy1 + f.diff(y2)*dy2\n",
    "showmath(df)"
   ]
  },
  {
   "cell_type": "code",
   "execution_count": null,
   "metadata": {},
   "outputs": [],
   "source": [
    "# wzor na df mozna zautomatyzowac w nastepujacy sposob\n",
    "# df = sum([f.diff(w)*vars()['d'+repr(w)] for w in xy])"
   ]
  },
  {
   "cell_type": "markdown",
   "metadata": {
    "lang": "en"
   },
   "source": [
    "We substitute  $\\delta y_1 = 0$ and $y_1 = 0$ and then calculate $\\delta y_2$ as a function of $\\delta x_1$ and $\\delta x_2$:"
   ]
  },
  {
   "cell_type": "code",
   "execution_count": null,
   "metadata": {},
   "outputs": [],
   "source": [
    "dy2_wiezy = df.subs({dy1:0,y1:0}).solve(dy2)[0].rhs()\n",
    "showmath( dy2_wiezy )"
   ]
  },
  {
   "cell_type": "markdown",
   "metadata": {
    "lang": "pl"
   },
   "source": [
    "By substituting the term d'Alembert for the $\\delta y_2$ expression as a function of the other shifts and $\\delta y_1=0$, we get:"
   ]
  },
  {
   "cell_type": "code",
   "execution_count": null,
   "metadata": {},
   "outputs": [],
   "source": [
    "showmath(  dAlemb.subs({dy2:dy2_wiezy,dy1:0}) )"
   ]
  },
  {
   "cell_type": "markdown",
   "metadata": {
    "lang": "pl"
   },
   "source": [
    "Możemy teraz pomnożyć tak otrzymaną zasadę d'Alemberta przez $y_2$ oraz wyciągnąć przed nawias współczynniki przy niezależnych przesunięciach $\\delta x_1$ oraz $\\delta x_2$."
   ]
  },
  {
   "cell_type": "markdown",
   "metadata": {
    "lang": "en"
   },
   "source": [
    "We can now multiply the so-obtained d'Alembert rule by $y_2$ and take parentheses with independent $\\delta x_1$ and $\\delta x_2$ offsets."
   ]
  },
  {
   "cell_type": "code",
   "execution_count": null,
   "metadata": {},
   "outputs": [],
   "source": [
    "showmath(  (dAlemb.subs({dy2:dy2_wiezy,dy1:0})*y2).expand().collect(dx1).collect(dx2) )"
   ]
  },
  {
   "cell_type": "markdown",
   "metadata": {
    "lang": "en"
   },
   "source": [
    "Because the $\\delta x_1$ and $\\delta x_2$ virtual offsets are completely arbitrary (we have already used the dependency using constraints equations), both coefficients next to them must disappear so that the entire expression will be zeroed identically. In this way, we get two differential equations, which together with equations of constants describe the dynamics of our system:"
   ]
  },
  {
   "cell_type": "code",
   "execution_count": null,
   "metadata": {},
   "outputs": [],
   "source": [
    "r1 = (dAlemb.subs({dy2:dy2_wiezy,dy1:0})*y2).expand().coefficient(dx1) \n",
    "r2 = (dAlemb.subs({dy2:dy2_wiezy,dy1:0})*y2).expand().coefficient(dx2)\n",
    "showmath( r1 )\n"
   ]
  },
  {
   "cell_type": "code",
   "execution_count": null,
   "metadata": {},
   "outputs": [],
   "source": [
    "showmath( r2 )"
   ]
  },
  {
   "cell_type": "markdown",
   "metadata": {
    "lang": "en"
   },
   "source": [
    "In order to be able to apply a numerical procedure to the above equations, the equation resulting from the differentiation of constraints comes:"
   ]
  },
  {
   "cell_type": "code",
   "execution_count": null,
   "metadata": {},
   "outputs": [],
   "source": [
    "r3 = f.subs({y1:0}).subs(to_fun).diff(t,2).subs(to_var)\n",
    "showmath( r3 )"
   ]
  },
  {
   "cell_type": "markdown",
   "metadata": {
    "lang": "en"
   },
   "source": [
    "The above three equations can be solved on $\\ddot x_1$, $\\ddot x_2$, $\\ddot y_1$ and explicitly write a system of second degree equations that is directly applicable to numerical resolution:"
   ]
  },
  {
   "cell_type": "code",
   "execution_count": null,
   "metadata": {},
   "outputs": [],
   "source": [
    "sol =  solve([r1,r2,r3],[x1dd,x2dd,y2dd])[0]"
   ]
  },
  {
   "cell_type": "code",
   "execution_count": null,
   "metadata": {},
   "outputs": [],
   "source": [
    "showmath(sol[0])"
   ]
  },
  {
   "cell_type": "code",
   "execution_count": null,
   "metadata": {},
   "outputs": [],
   "source": [
    "showmath(sol[1])"
   ]
  },
  {
   "cell_type": "code",
   "execution_count": null,
   "metadata": {},
   "outputs": [],
   "source": [
    "showmath(sol[2])"
   ]
  },
  {
   "cell_type": "markdown",
   "metadata": {},
   "source": [
    " \n",
    "\n",
    "\n",
    " "
   ]
  },
  {
   "cell_type": "markdown",
   "metadata": {
    "lang": "en"
   },
   "source": [
    "### Equations of motion in a system consistent with constraints\n",
    "A much better idea is to solve the above problem in coordinates consistent with constraints. In this case, we will not have to additionally create a differential equation from the equation of constraints, the number of equations will be equal to the number of degrees of freedom (including cases 2). In addition, any solution to the system of differential equations will be"
   ]
  },
  {
   "cell_type": "code",
   "execution_count": null,
   "metadata": {},
   "outputs": [],
   "source": [
    "x2u = {x1:x,x2:x+l*sin(phi),y2:-l*cos(phi),y1:0} \n",
    "showmath(x2u)"
   ]
  },
  {
   "cell_type": "markdown",
   "metadata": {
    "lang": "en"
   },
   "source": [
    "To go to the description of the system in such parameterization:\n",
    "\n",
    " - save $\\ddot x_i - F_i$ expressions in new variables.\n",
    " - save $\\delta x_1,\\delta y_1,\\delta y_2,\\delta y_2$ virtual shifts as shifting functions in new $\\delta x,\\delta\\phi$ variables using the formulas:\n",
    "\n",
    "\n",
    "\n",
    "$$ \\delta x_1 = \\frac{\\partial x_1}{\\partial x}\\delta x + \\frac{\\partial x_1}{\\partial \\phi}\\delta \\phi$$\n",
    "\n",
    "In order to execute the second point, let's define the 'dx1_polar' variables in Sage ... which are the expression of virtual offsets in the new parameterization:"
   ]
  },
  {
   "cell_type": "code",
   "execution_count": null,
   "metadata": {},
   "outputs": [],
   "source": [
    "transform_virtual_displacements(xy_wsp, uv_wsp, verbose=True)"
   ]
  },
  {
   "cell_type": "markdown",
   "metadata": {
    "lang": "en"
   },
   "source": [
    "The first point requires the transformation of the second Cartesian coordinate derivatives to the new parameterization. We can do this for every variable, let's take $x_1$ for example:\n",
    "\n",
    " - we change coordinates to new ones\n",
    " - we change algebraic variables into time functions\n",
    " - we count the derivative over time\n",
    " - we are going back to algebraic variables"
   ]
  },
  {
   "cell_type": "code",
   "execution_count": null,
   "metadata": {},
   "outputs": [],
   "source": [
    "showmath( x2.subs(x2u).subs(to_fun).diff(t,2).subs(to_var) )"
   ]
  },
  {
   "cell_type": "markdown",
   "metadata": {
    "lang": "en"
   },
   "source": [
    "Using this technique, we can rewrite the d'Alembert principle for our problem:"
   ]
  },
  {
   "cell_type": "code",
   "execution_count": null,
   "metadata": {},
   "outputs": [],
   "source": [
    "dAlemb = (m1*x1.subs(x2u).subs(to_fun).diff(t,2)  )*dx1_polar + \\\n",
    "         (m1*y1.subs(x2u).subs(to_fun).diff(t,2)+m1*g)*dy1_polar + \\\n",
    "         (m2*x2.subs(x2u).subs(to_fun).diff(t,2)  )*dx2_polar + \\\n",
    "         (m2*y2.subs(x2u).subs(to_fun).diff(t,2)+m2*g)*dy2_polar\n",
    "dAlemb = dAlemb.subs(to_var)"
   ]
  },
  {
   "cell_type": "markdown",
   "metadata": {
    "lang": "en"
   },
   "source": [
    "It looks like this:"
   ]
  },
  {
   "cell_type": "code",
   "execution_count": null,
   "metadata": {},
   "outputs": [],
   "source": [
    "showmath(dAlemb)"
   ]
  },
  {
   "cell_type": "markdown",
   "metadata": {
    "lang": "en"
   },
   "source": [
    "As in the previous case, the coefficients at $\\delta x$ and $\\delta \\phi$ must be zeroed, which implies giving us two conditions that are the equations of motion:"
   ]
  },
  {
   "cell_type": "code",
   "execution_count": null,
   "metadata": {},
   "outputs": [],
   "source": [
    "r1 = dAlemb.expand().coefficient(dx).trig_simplify()\n",
    "r2 = dAlemb.expand().coefficient(dphi).trig_simplify()\n",
    "showmath(r1)"
   ]
  },
  {
   "cell_type": "code",
   "execution_count": null,
   "metadata": {},
   "outputs": [],
   "source": [
    "showmath(r2)"
   ]
  },
  {
   "cell_type": "markdown",
   "metadata": {
    "lang": "en"
   },
   "source": [
    "Because each of these equations contains a second derivative of both variables, treating the above equations as a system of equations (linear) on $\\ddot{ x}$ and $\\ddot{ \\phi}$ we solve it:"
   ]
  },
  {
   "cell_type": "code",
   "execution_count": null,
   "metadata": {},
   "outputs": [],
   "source": [
    "sol = solve([r1,r2],[xdd,phidd])[0]\n",
    "showmath(sol[0])"
   ]
  },
  {
   "cell_type": "code",
   "execution_count": null,
   "metadata": {},
   "outputs": [],
   "source": [
    "showmath(sol[1])"
   ]
  },
  {
   "cell_type": "markdown",
   "metadata": {
    "lang": "en"
   },
   "source": [
    "For further analysis, we can assign equations to the variables s1 and s2:"
   ]
  },
  {
   "cell_type": "code",
   "execution_count": null,
   "metadata": {},
   "outputs": [],
   "source": [
    "s1,s2 = solve([r1,r2],[xdd,phidd])[0]"
   ]
  },
  {
   "cell_type": "code",
   "execution_count": null,
   "metadata": {},
   "outputs": [],
   "source": [
    "showmath( expand( s1.rhs().denominator()/m2 ) )"
   ]
  },
  {
   "cell_type": "code",
   "execution_count": null,
   "metadata": {},
   "outputs": [],
   "source": [
    "sol = solve([r1,r2],[xdd,phidd])[0]"
   ]
  },
  {
   "cell_type": "code",
   "execution_count": null,
   "metadata": {},
   "outputs": [],
   "source": [
    "showmath(sol[0])"
   ]
  },
  {
   "cell_type": "code",
   "execution_count": null,
   "metadata": {},
   "outputs": [],
   "source": [
    "showmath(sol[1])"
   ]
  },
  {
   "cell_type": "markdown",
   "metadata": {
    "lang": "en"
   },
   "source": [
    "### Case study $m_1 >> m_2$\n",
    "One would expect that if the first mass is much larger than the other, the system of equations will strive for a mathematical pendulum. To do this, let's divide by $m_1$:\n"
   ]
  },
  {
   "cell_type": "code",
   "execution_count": null,
   "metadata": {},
   "outputs": [],
   "source": [
    "showmath( ((s1.rhs().numerator()/m1).expand() )/( (s1.rhs().denominator()/m1).expand() ) )"
   ]
  },
  {
   "cell_type": "code",
   "execution_count": null,
   "metadata": {},
   "outputs": [],
   "source": [
    "showmath( ((s2.rhs().numerator()/m1).expand() )/( (s2.rhs().denominator()/m1).expand() ) )"
   ]
  },
  {
   "cell_type": "markdown",
   "metadata": {
    "lang": "en"
   },
   "source": [
    "You can see that the first expression tends to zero and the second to\n",
    "$$\\frac{g \\sin\\left(\\phi\\right)}{l}$$\n",
    "\n",
    "We can also use the function limit, which directly leads to the result:"
   ]
  },
  {
   "cell_type": "code",
   "execution_count": null,
   "metadata": {},
   "outputs": [],
   "source": [
    "limit(s1.rhs(),m1=oo)"
   ]
  },
  {
   "cell_type": "code",
   "execution_count": null,
   "metadata": {},
   "outputs": [],
   "source": [
    "showmath( limit(s2.rhs(),m1=oo) ) "
   ]
  },
  {
   "cell_type": "markdown",
   "metadata": {
    "lang": "en"
   },
   "source": [
    "### Case study $m_2 >> m_1$\n",
    "\n",
    "In this case, the first mass is negligible."
   ]
  },
  {
   "cell_type": "code",
   "execution_count": null,
   "metadata": {},
   "outputs": [],
   "source": [
    "showmath( limit(s1.rhs(),m2=oo) )"
   ]
  },
  {
   "cell_type": "code",
   "execution_count": null,
   "metadata": {},
   "outputs": [],
   "source": [
    "showmath( limit(s2.rhs(),m2=oo) )"
   ]
  },
  {
   "cell_type": "code",
   "execution_count": null,
   "metadata": {},
   "outputs": [],
   "source": [
    "showmath([s1.rhs().taylor(phi,0,1),s2.rhs().taylor(phi,0,1)])"
   ]
  },
  {
   "cell_type": "markdown",
   "metadata": {
    "lang": "en"
   },
   "source": [
    "### Numerical analysis of the system\n",
    "The initial condition is four $x,\\phi,\\dot x,\\dot \\phi$ numbers. Consider, however, a subset of those conditions for which the total momentum of the system is zero.\n",
    "Note that the case of a system that has a non-zero total momentum can be reduced to a zero moment event by transformation to the center of mass system.\n",
    "So we have:\n",
    "$$ m_1 \\dot x_1 + m_2 \\dot x_2 = 0$$\n",
    "or\n",
    "$$ m_1 \\dot x + m_2 \\dot x + m_2 l \\dot \\phi\\cos(\\phi) = 0$$\n",
    "for the case of $m_1=m_2$ and starting from the lowest position of the second mass ($\\phi=0$) we will have:\n",
    "$$ 2 \\dot x = - l \\dot \\phi = 0.$$\n",
    "So for this case, we have a one-parameter family of solutions in which the speed $\\dot \\phi = \\omega_0$ is independent:\n",
    "$$x =0 ,\\phi=0,\\dot x=-\\frac{2}{l}\\omega_0,\\omega_0$$\n",
    "\n"
   ]
  },
  {
   "cell_type": "code",
   "execution_count": null,
   "metadata": {},
   "outputs": [],
   "source": [
    "showmath( solve(m1*x+m2*x+m2*l*phid*cos(phi),x)[0].rhs() )"
   ]
  },
  {
   "cell_type": "code",
   "execution_count": null,
   "metadata": {},
   "outputs": [],
   "source": [
    "pars = {l:1,g:9.81,m1:2.1,m2:130}\n",
    "ode=[xd,phid,s1.rhs().subs(pars),s2.rhs().subs(pars)]\n",
    "times=srange(0,2.25,0.015)\n",
    "ics=[0,0,-(1/2),14.]\n",
    "#ics=[0,pi/2,0,3]\n",
    "w0 = 6.2\n",
    "ics = [0,0,(-l*m2*w0/(m1+m2)).subs(pars),w0]\n",
    "sol = desolve_odeint(ode,ics,times,[x,phi,xd,phid])"
   ]
  },
  {
   "cell_type": "code",
   "execution_count": null,
   "metadata": {},
   "outputs": [],
   "source": [
    "line( zip(times,sol[:,0]),figsize=4 )"
   ]
  },
  {
   "cell_type": "code",
   "execution_count": null,
   "metadata": {},
   "outputs": [],
   "source": [
    "import numpy as np \n",
    "line( zip(np.sin(sol[:,1])+sol[:,0],-np.cos(sol[:,1])),figsize=4 )+\\\n",
    " line( zip(np.sin(sol[:,1])+sol[:,0],-np.cos(sol[:,1])),figsize=4 )"
   ]
  },
  {
   "cell_type": "code",
   "execution_count": null,
   "metadata": {},
   "outputs": [],
   "source": [
    "def draw_system(ith=0,l=1):\n",
    "    x,phi = sol[ith,:2]\n",
    "    x1,y1,x2,y2 =x, 0,  l*sin(phi) + x,-l*cos(phi)\n",
    "    \n",
    "    p = point( (x1,y1), size=40) +\\\n",
    "     point( (x2,y2), size=40,color='red',figsize=3) +\\\n",
    "     line( [(x1,y1),(x2,y2)],aspect_ratio=1)\n",
    "    n=20\n",
    "    i0 = max(0,ith-n)\n",
    "    trace = sum([point((l*sin(phi) + x,-l*cos(phi)),hue=(0,(i)/n,1)) for i,(x,phi) in enumerate(sol[i0:ith,:2])])\n",
    "    trace2 = sum([point((x,0),hue=(.51,(i)/n,1)) for i,(x,phi) in enumerate(sol[i0:ith,:2])])\n",
    "    #print i0,ith,[(i)/n. for i,(x,phi) in enumerate(sol[i0:ith,:2])]\n",
    "    p += trace+trace2\n",
    "    \n",
    "    p.set_axes_range(-1.2,1.2,-1.2,1.2)\n",
    "    p.set_aspect_ratio(1)\n",
    "    return p"
   ]
  },
  {
   "cell_type": "code",
   "execution_count": null,
   "metadata": {},
   "outputs": [],
   "source": [
    "sol.shape"
   ]
  },
  {
   "cell_type": "code",
   "execution_count": null,
   "metadata": {},
   "outputs": [],
   "source": [
    "graphics_array([draw_system(i*11) for i in range(9)],ncols=3).show(figsize=8)"
   ]
  },
  {
   "cell_type": "markdown",
   "metadata": {},
   "source": [
    "    %%time\n",
    "    N = sol.shape[0]\n",
    "    every = int(N/25)\n",
    "    anim = animate([draw_system(i) for i in range(0,N,every)])\n",
    "    anim.show()"
   ]
  },
  {
   "cell_type": "markdown",
   "metadata": {},
   "source": [
    "    @interact\n",
    "    def _(ith=slider(range(N))):\n",
    "        plt = draw_system(ith=ith,l=1)\n",
    "        plt.show(figsize=6)"
   ]
  },
  {
   "cell_type": "markdown",
   "metadata": {
    "lang": "en"
   },
   "source": [
    "###  Problems\n",
    "\n",
    " - Compare the layout solution in a general form to solutions of special cases:\n",
    " - $m_1>>m_2$\n",
    " - How does the period of movement depend on total energy? Compare the result with the mathematical pendulum."
   ]
  },
  {
   "cell_type": "markdown",
   "metadata": {},
   "source": [
    "\\newpage"
   ]
  }
 ],
 "metadata": {
  "kernelspec": {
   "display_name": "SageMath 8.7",
   "language": "",
   "name": "sagemath"
  },
  "language": "python",
  "language_info": {
   "codemirror_mode": {
    "name": "ipython",
    "version": 2
   },
   "file_extension": ".py",
   "mimetype": "text/x-python",
   "name": "python",
   "nbconvert_exporter": "python",
   "pygments_lexer": "ipython2",
   "version": "2.7.15"
  },
  "nbTranslate": {
   "displayLangs": [
    "en",
    "pl"
   ],
   "hotkey": "alt-t",
   "langInMainMenu": true,
   "sourceLang": "pl",
   "targetLang": "en",
   "useGoogleTranslate": true
  },
  "toc": {
   "base_numbering": 1,
   "nav_menu": {},
   "number_sections": true,
   "sideBar": true,
   "skip_h1_title": false,
   "title_cell": "Table of Contents",
   "title_sidebar": "Contents",
   "toc_cell": false,
   "toc_position": {},
   "toc_section_display": true,
   "toc_window_display": false
  }
 },
 "nbformat": 4,
 "nbformat_minor": 2
}
