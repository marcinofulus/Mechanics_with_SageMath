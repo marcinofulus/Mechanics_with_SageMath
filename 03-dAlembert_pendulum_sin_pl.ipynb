{
 "cells": [
  {
   "cell_type": "markdown",
   "metadata": {},
   "source": [
    "# Pendulum on $\\sin (x)$.\n",
    "\n",
    "## System definition\n",
    "\n",
    "Consider a pendulum with mass $m_2$ hanging from a rod of length $l$. The support point has a mass $m_1$, and can move without friction along a  curve given by formula $y=f(x)$ \n",
    "\n",
    "![Pendulum](images/pendulum.png)"
   ]
  },
  {
   "cell_type": "markdown",
   "metadata": {},
   "source": [
    "We will need some helpers for the algebra:"
   ]
  },
  {
   "cell_type": "code",
   "execution_count": null,
   "metadata": {},
   "outputs": [],
   "source": [
    "load(\"cas_utils.sage\")"
   ]
  },
  {
   "cell_type": "code",
   "execution_count": null,
   "metadata": {},
   "outputs": [],
   "source": [
    "var('t')\n",
    "var('l g m1 m2')\n",
    "xy_wsp = [('x1','x_1'),('y1','y_1'),('x2','x_2'),('y2','y_2')]\n",
    "\n",
    "uv_wsp = [('phi','\\phi'),('x','x')]\n",
    "\n",
    "to_fun, to_var = make_symbols(xy_wsp + uv_wsp)\n",
    "\n",
    "uv = [vars()[v] for v,lv in uv_wsp]\n",
    "xy = [vars()[v] for v,lv in xy_wsp]\n"
   ]
  },
  {
   "cell_type": "markdown",
   "metadata": {},
   "source": [
    "We introduce generalized coordinates compliant with contraints: $\\varphi$, and $x$."
   ]
  },
  {
   "cell_type": "code",
   "execution_count": null,
   "metadata": {},
   "outputs": [],
   "source": [
    "f(x) = sin(x)\n",
    "x2u = {x1:x,x2:x+l*sin(phi),y2:-l*cos(phi)+sin(x),y1:f(x)} \n",
    "showmath(x2u)"
   ]
  },
  {
   "cell_type": "markdown",
   "metadata": {},
   "source": [
    "We express virtual displacement:$\\delta x_1,...$ as function of virtual displacements of new coordinates: $\\delta x,\\delta \\phi.$"
   ]
  },
  {
   "cell_type": "code",
   "execution_count": null,
   "metadata": {},
   "outputs": [],
   "source": [
    "for w in xy:\n",
    "    vars()['d'+repr(w)+'_polar']=sum([w.subs(x2u).diff(w2)*vars()['d'+repr(w2)] for w2 in uv])\n",
    "    showmath([vars()['d'+repr(w)],vars()['d'+repr(w)+'_polar']])"
   ]
  },
  {
   "cell_type": "markdown",
   "metadata": {},
   "source": [
    "Now we can write d'Alembert principle:\n",
    "\n",
    "$$\\sum_{i} ( \\mathbf {F}_{i} - m_i \\mathbf{a}_i )\\cdot \\delta \\mathbf r_i = 0,$$\n"
   ]
  },
  {
   "cell_type": "code",
   "execution_count": null,
   "metadata": {},
   "outputs": [],
   "source": [
    "dAlemb = (m1*x1.subs(x2u).subs(to_fun).diff(t,2)  )*dx1_polar + \\\n",
    "         (m1*y1.subs(x2u).subs(to_fun).diff(t,2)+m1*g)*dy1_polar + \\\n",
    "         (m2*x2.subs(x2u).subs(to_fun).diff(t,2)  )*dx2_polar + \\\n",
    "         (m2*y2.subs(x2u).subs(to_fun).diff(t,2)+m2*g)*dy2_polar\n",
    "dAlemb = dAlemb.subs(to_var)\n",
    "showmath(dAlemb.collect(dx).collect(dphi))"
   ]
  },
  {
   "cell_type": "markdown",
   "metadata": {},
   "source": [
    "and derive  equations of motion in new coordintes:"
   ]
  },
  {
   "cell_type": "code",
   "execution_count": null,
   "metadata": {},
   "outputs": [],
   "source": [
    "r1 = dAlemb.coefficient(dx)\n",
    "r2 = dAlemb.coefficient(dphi)\n",
    "w1,w2 =  solve([r1,r2],[xdd,phidd])[0] \n",
    "showmath(w1.trig_simplify())"
   ]
  },
  {
   "cell_type": "code",
   "execution_count": null,
   "metadata": {},
   "outputs": [],
   "source": [
    "showmath(w2)"
   ]
  },
  {
   "cell_type": "markdown",
   "metadata": {},
   "source": [
    "#### Special case\n",
    "\n",
    "$m_1\\to\\infty$, $x=-\\frac{\\pi}{2}$"
   ]
  },
  {
   "cell_type": "code",
   "execution_count": null,
   "metadata": {},
   "outputs": [],
   "source": [
    "showmath( limit(w1.rhs(),m1=oo).subs({xdd:0,xd:0,x:-pi/2})  )"
   ]
  },
  {
   "cell_type": "code",
   "execution_count": null,
   "metadata": {},
   "outputs": [],
   "source": [
    "showmath( limit(w2.rhs(),m1=oo).subs({xdd:0,xd:0,x:-pi/2}).trig_reduce() )"
   ]
  },
  {
   "cell_type": "markdown",
   "metadata": {},
   "source": [
    "We obtain mathematical pendulum if"
   ]
  },
  {
   "cell_type": "code",
   "execution_count": null,
   "metadata": {},
   "outputs": [],
   "source": [
    "showmath( limit(w1.rhs(),m1=0).trig_reduce() )"
   ]
  },
  {
   "cell_type": "code",
   "execution_count": null,
   "metadata": {},
   "outputs": [],
   "source": [
    "showmath( limit(w2.rhs(),m1=0).trig_reduce() )"
   ]
  },
  {
   "cell_type": "markdown",
   "metadata": {},
   "source": [
    "## Numerical analysis of the system\n",
    "Initial conditions are four numbers: $x,\\phi,\\dot x,\\dot \\phi$. \n"
   ]
  },
  {
   "cell_type": "code",
   "execution_count": null,
   "metadata": {},
   "outputs": [],
   "source": [
    "import numpy as np"
   ]
  },
  {
   "cell_type": "code",
   "execution_count": null,
   "metadata": {},
   "outputs": [],
   "source": [
    "%%time\n",
    "pars = {l:1,g:9.81,m1:1.,m2:1}\n",
    "ode = [xd,phid,w1.rhs().subs(pars),w2.rhs().subs(pars)]\n",
    "times = srange(0,10.25,0.01)\n",
    "ics = [1, 0, 0, 1]\n",
    "sol = desolve_odeint(ode, ics, times, [x,phi,xd,phid])"
   ]
  },
  {
   "cell_type": "code",
   "execution_count": null,
   "metadata": {},
   "outputs": [],
   "source": [
    "line( zip(times,sol[::1,0]),figsize=(8,2) )+\\\n",
    " line( zip(times,sol[::1,1]),color='red')"
   ]
  },
  {
   "cell_type": "code",
   "execution_count": null,
   "metadata": {},
   "outputs": [],
   "source": [
    "line( zip(times,sol[:,0]),figsize=4 )\n",
    "line( zip(np.sin(sol[:,1])+sol[:,0],-np.cos(sol[:,1])),figsize=4 )+\\\n",
    " line( zip(np.sin(sol[:,1])+sol[:,0],-np.cos(sol[:,1])),figsize=4 )"
   ]
  },
  {
   "cell_type": "markdown",
   "metadata": {},
   "source": [
    "### Visualization\n",
    "\n",
    "It is helpfull to write simple function displaying configuration of the system for given set of variables."
   ]
  },
  {
   "cell_type": "code",
   "execution_count": null,
   "metadata": {},
   "outputs": [],
   "source": [
    "def draw_system(ith=0,l=1):\n",
    "    x,phi = sol[ith,:2]\n",
    "    x1,y1,x2,y2 =x, f(x),  l*sin(phi) + x,f(x)-l*cos(phi)\n",
    "    \n",
    "    p = point( (x1,y1), size=40) +\\\n",
    "     point( (x2,y2), size=40,color='red',figsize=3) +\\\n",
    "     line( [(x1,y1),(x2,y2)],aspect_ratio=1)\n",
    "    n=40\n",
    "    i0 = max(0,ith-n)\n",
    "  \n",
    "    trace = sum([point((l*sin(phi) + x,f(x)-l*cos(phi)),hue=(0,1-(i)/n,1)) for i,(x,phi) in enumerate(sol[ith:i0:-1,:2])])\n",
    "    trace2 = sum([point((x,f(x)),hue=(.51,(i)/n,1)) for i,(x,phi) in enumerate(sol[i0:ith,:2])])\n",
    " \n",
    "    p += trace+trace2\n",
    "    var('x_')\n",
    "    p += plot(f(x_),(x_,-4.5,1),figsize=6 ) \n",
    "    p.set_axes_range(-4.5,1,-2,1)\n",
    "    p.set_aspect_ratio(1)\n",
    "    return p"
   ]
  },
  {
   "cell_type": "markdown",
   "metadata": {},
   "source": [
    "Let's try:"
   ]
  },
  {
   "cell_type": "code",
   "execution_count": null,
   "metadata": {},
   "outputs": [],
   "source": [
    "draw_system(120)"
   ]
  },
  {
   "cell_type": "markdown",
   "metadata": {},
   "source": [
    "We can animate:"
   ]
  },
  {
   "cell_type": "code",
   "execution_count": null,
   "metadata": {},
   "outputs": [],
   "source": [
    "from IPython.display import clear_output\n",
    "import time\n",
    "for ith in range(0,len(sol),20):\n",
    "    plt = draw_system(ith=ith,l=1)\n",
    "    clear_output(wait=True)\n",
    "    plt.show(figsize=3)\n",
    "    time.sleep(0.021)\n"
   ]
  },
  {
   "cell_type": "markdown",
   "metadata": {},
   "source": [
    "Alternatively one can use slider:"
   ]
  },
  {
   "cell_type": "code",
   "execution_count": null,
   "metadata": {},
   "outputs": [],
   "source": [
    "@interact\n",
    "def _(ith=slider(range(len(sol)))):\n",
    "    plt = draw_system(ith=ith,l=2)\n",
    "    plt.show(figsize=6)  "
   ]
  },
  {
   "cell_type": "markdown",
   "metadata": {},
   "source": [
    "### Chaotic properties of the solution\n",
    "\n",
    "#### Spectrum\n",
    "\n",
    "The solution looks chaotic, but it can be caused by mixing of few frequencies. We can, however, calculate the Fourier transform of one of the system variables and see."
   ]
  },
  {
   "cell_type": "code",
   "execution_count": null,
   "metadata": {},
   "outputs": [],
   "source": [
    "%%time\n",
    "pars = {l:1,g:9.81,m1:1.1,m2:1}\n",
    "ode = [xd,phid,w1.rhs().subs(pars),w2.rhs().subs(pars)]\n",
    "times = srange(0,5000.25,0.2)\n",
    "ics = [1,0,0,0]\n",
    "sol = desolve_odeint(ode,ics,times,[x,phi,xd,phid])\n",
    "xfft = np.fft.fft(sol[:,0])\n",
    "n1 = xfft.shape[0]"
   ]
  },
  {
   "cell_type": "code",
   "execution_count": null,
   "metadata": {},
   "outputs": [],
   "source": [
    "plt = line(enumerate(np.abs(np.fft.fftshift(xfft))),ymax=2500,thickness=0.1)\n",
    "plt.show(figsize=(8,2))"
   ]
  },
  {
   "cell_type": "markdown",
   "metadata": {},
   "source": [
    "Let us check for comparison that sum of two signals with different frequencies would not cause such effect"
   ]
  },
  {
   "cell_type": "code",
   "execution_count": null,
   "metadata": {},
   "outputs": [],
   "source": [
    "expr = sin(1.2*t)+sin(sqrt(1.2)*t)"
   ]
  },
  {
   "cell_type": "code",
   "execution_count": null,
   "metadata": {},
   "outputs": [],
   "source": [
    "import numpy as np\n",
    "import sympy\n",
    "expr_np = np.vectorize( sympy.lambdify(t, sympy.sympify( expr ) ) )"
   ]
  },
  {
   "cell_type": "code",
   "execution_count": null,
   "metadata": {},
   "outputs": [],
   "source": [
    "nonchaotic = expr_np(np.linspace(0,5000,10000))"
   ]
  },
  {
   "cell_type": "code",
   "execution_count": null,
   "metadata": {},
   "outputs": [],
   "source": [
    "%time nonchaotic_fft = np.fft.fft(nonchaotic)"
   ]
  },
  {
   "cell_type": "code",
   "execution_count": null,
   "metadata": {},
   "outputs": [],
   "source": [
    "line(enumerate(nonchaotic[:234])).show(figsize=(7,2))"
   ]
  },
  {
   "cell_type": "code",
   "execution_count": null,
   "metadata": {},
   "outputs": [],
   "source": [
    "plt2 = line(enumerate(np.abs(np.fft.fftshift(nonchaotic_fft))),alpha=1)\n",
    "plt2.show(figsize=(8,2))"
   ]
  },
  {
   "cell_type": "markdown",
   "metadata": {},
   "source": [
    "#### Sensitivity to initial conditions\n",
    "\n",
    "Let us compare two solution which differ by $\\frac{1}{1000000}$ in initial velocity."
   ]
  },
  {
   "cell_type": "code",
   "execution_count": null,
   "metadata": {},
   "outputs": [],
   "source": [
    "%%time\n",
    "pars = {l:1,g:9.81,m1:1.1,m2:1}\n",
    "ode = [xd,phid,w1.rhs().subs(pars),w2.rhs().subs(pars)]\n",
    "times = srange(0,35.,0.1)\n",
    "ics = [1,0,0,0]\n",
    "sol = desolve_odeint(ode,ics,times,[x,phi,xd,phid])\n",
    "ics2 = [1+1e-6,0,0,0]\n",
    "sol2 = desolve_odeint(ode,ics2,times,[x,phi,xd,phid])\n"
   ]
  },
  {
   "cell_type": "code",
   "execution_count": null,
   "metadata": {},
   "outputs": [],
   "source": [
    "line(zip(times,sol[:,0]))+line(zip(times,sol2[:,0]),color='red',figsize=(6,3))"
   ]
  },
  {
   "cell_type": "markdown",
   "metadata": {},
   "source": [
    "We can have a look how the error propagetes in log-scale:"
   ]
  },
  {
   "cell_type": "code",
   "execution_count": null,
   "metadata": {},
   "outputs": [],
   "source": [
    "line(zip(times[1:],log(abs(sol[1:,0]-sol2[1:,0]))),figsize=(6,3)) "
   ]
  },
  {
   "cell_type": "markdown",
   "metadata": {},
   "source": [
    "\\newpage"
   ]
  }
 ],
 "metadata": {
  "kernelspec": {
   "display_name": "SageMath 8.7",
   "language": "",
   "name": "sagemath"
  },
  "language": "python",
  "language_info": {
   "codemirror_mode": {
    "name": "ipython",
    "version": 2
   },
   "file_extension": ".py",
   "mimetype": "text/x-python",
   "name": "python",
   "nbconvert_exporter": "python",
   "pygments_lexer": "ipython2",
   "version": "2.7.15"
  },
  "nbTranslate": {
   "displayLangs": [
    "en",
    "pl"
   ],
   "hotkey": "alt-t",
   "langInMainMenu": true,
   "sourceLang": "pl",
   "targetLang": "en",
   "useGoogleTranslate": true
  },
  "toc": {
   "base_numbering": 1,
   "nav_menu": {},
   "number_sections": true,
   "sideBar": true,
   "skip_h1_title": false,
   "title_cell": "Table of Contents",
   "title_sidebar": "Contents",
   "toc_cell": false,
   "toc_position": {},
   "toc_section_display": true,
   "toc_window_display": false
  }
 },
 "nbformat": 4,
 "nbformat_minor": 2
}
