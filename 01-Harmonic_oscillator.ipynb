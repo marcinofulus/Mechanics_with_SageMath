{
 "cells": [
  {
   "cell_type": "markdown",
   "metadata": {
    "lang": "en"
   },
   "source": [
    "# Harmonic oscillator with computer algebra"
   ]
  },
  {
   "cell_type": "markdown",
   "metadata": {
    "lang": "en"
   },
   "source": [
    "## Harmonic oscillator\n",
    "This material includes the derivation of harmonic oscillator solutions using Sage in the following classic cases:\n",
    "\n",
    "- free oscillator\n",
    "- free damped oscillator\n",
    "- forced oscillator with damping: resonance phenomenon\n",
    " \n",
    "\n",
    "### What is a harmonic oscillator?\n",
    "\n",
    "\n",
    "The harmonic oscillator is a point particle with mass $m$ in the force field, which depends linearly on the position. The restoring force to the equilibrium position depends linearly on the amount of the deflection. An example of such a force may be the reaction of a flexible body applying Hook's law. In other words, we have a material point with mass $m$ in a square potential.\n",
    "\n",
    "Consider this last definition, let's have potential:\n",
    "$$ U(x) = \\frac{1}{2}k x^2$$\n",
    "then the Newton equation for a material point will be:\n",
    "$$ m a = -\\frac{\\partial U(x)}{\\partial x} = - kx,$$\n",
    "and because acceleration $a$ is the second derivative of the position after the time we have finally:\n",
    "$$ m \\ddot x   =  -kx.$$\n",
    "This is the equation of motion for the harmonic oscillator. Another method of obtaining it is to substitute the force derived from the linear span - that is the Hook's law $\\vec F = -k \\vec x$, to equate $m\\vec a = \\vec F$.\n",
    "\n",
    "### Approximation of small oscillations\n",
    "\n",
    "The harmonic oscillator is an extremely important model that appears in many real situations. Note that for any   potential, which in the point $x=0$  has a local minimum, its Taylor series takes the form:\n",
    "$$ U(x) = U(0) + U'(0)x + \\frac{1}{2}U''(0) x^2+ ...$$\n",
    "Since we have assumed that $x=0$ is minimum, the derivative at this point is zero, i.e.,  $U'(0) = 0$ and therefore:\n",
    "$$ U(x) = U(0) + \\frac{1}{2}U''(0) x^2+ ...$$\n",
    "The Taylor's series can be approximated by keeping only the first two non-vanishing terms. The first term is constant and can be neglected because the corresponding force does not depend on this constant.  As a result, the potential is approximated by the expression:\n",
    "$$ U(x) = \\frac{1}{2}U''(0) x^2.$$\n",
    "\n",
    "The potential is identical to the potential of the harmonic oscillator and  the second derivative of the potential at the point of its minimum U '' (0) is identified with the elastic constant $k$. So we see that the movement in the vicinity of the potential minimum  can be approximated by a harmonic oscillator. This fact is the reason why the harmonic oscillator is such a frequently used model in physics.\n",
    "\n"
   ]
  },
  {
   "cell_type": "markdown",
   "metadata": {
    "lang": "en"
   },
   "source": [
    "## Free oscillator\n",
    "Consider the equation of motion for a harmonic oscillator that does not contain friction or any external force. It has a form:\n",
    "$$  m \\ddot x   =  -kx.$$\n",
    "It is conveniet to use dimensionless variables, in which we have:\n",
    "$$  \\ddot x   =  -\\omega_0^2x,$$\n",
    "where $\\omega_0 = \\sqrt{\\frac{k}{m}}$ is a positive number.\n",
    "\n",
    "It is a linear second order  ordinary differential equation with constant coefficients. Equations from this class can be easily solved - assuming the form of a solution and substituting it for the equation. With the computer algebra system included in SageMath, we can simplify this procedure using the desolve function:"
   ]
  },
  {
   "cell_type": "code",
   "execution_count": null,
   "metadata": {},
   "outputs": [],
   "source": [
    "load('cas_utils.sage')"
   ]
  },
  {
   "cell_type": "code",
   "execution_count": null,
   "metadata": {},
   "outputs": [],
   "source": [
    "var('omega0 x0')\n",
    "assume(omega0>0)\n",
    "\n",
    "var('t')\n",
    "X = function('X')(t)\n",
    "\n",
    "osc = diff(X,t,2) == -omega0^2*X \n",
    "showmath( osc )"
   ]
  },
  {
   "cell_type": "markdown",
   "metadata": {
    "lang": "en"
   },
   "source": [
    "Because we use a set of variables for operations on expressions containing derivatives, the above cell will give us a mathematical formula of the differential equation representing the harmonic oscillator.\n",
    "\n",
    "With this expression, we can use computer algebra to solve the differential equation:"
   ]
  },
  {
   "cell_type": "code",
   "execution_count": null,
   "metadata": {},
   "outputs": [],
   "source": [
    "phi_anal = desolve(osc,dvar=X,ivar=t,show_method=True)\n",
    "showmath(phi_anal)"
   ]
  },
  {
   "cell_type": "markdown",
   "metadata": {
    "lang": "en"
   },
   "source": [
    "First, we see that we must assume that $\\omega_0$ is non-zero. Otherwise, the solution would have a different form."
   ]
  },
  {
   "cell_type": "markdown",
   "metadata": {
    "lang": "en"
   },
   "source": [
    "Secondly, we see that we have been scrubbing the so-called a general solution that depends on two constants. We can determine these two constants knowing the position and speed of the oscillator at some point in time. Because equations of motion do not depend on time, without the limitation of generality, $t=0$ can be used as an initial moment. \n",
    "\n",
    "\n",
    "Sage, can also do determine constants, so if in the moment $t=0$, the oscillator was in the rest state: $x(0)=x_0$ and $v(0)=0$, then we have:"
   ]
  },
  {
   "cell_type": "code",
   "execution_count": null,
   "metadata": {},
   "outputs": [],
   "source": [
    "phi_anal = desolve(osc,dvar=X,ivar=t,ics=[0,x0,0])\n",
    "showmath(phi_anal)"
   ]
  },
  {
   "cell_type": "markdown",
   "metadata": {
    "lang": "en"
   },
   "source": [
    "and if, at $t=0$, the oscillator was at $x(0)=0$ and $v(0)=v_0$, then we have:"
   ]
  },
  {
   "cell_type": "code",
   "execution_count": null,
   "metadata": {},
   "outputs": [],
   "source": [
    "var('v0 x0')\n",
    "phi_anal = desolve(osc,dvar=X,ivar=t,ics=[0,0,v0])\n",
    "showmath(phi_anal)"
   ]
  },
  {
   "cell_type": "markdown",
   "metadata": {
    "lang": "en"
   },
   "source": [
    "at the moment of $t=0$, the oscillator was at $x(0)=x_0$ and $v(0)=v_0$, then we have:"
   ]
  },
  {
   "cell_type": "code",
   "execution_count": null,
   "metadata": {},
   "outputs": [],
   "source": [
    "var('v0 x0')\n",
    "phi_anal = desolve(osc,dvar=X,ivar=t,ics=[0,x0,v0])\n",
    "showmath(phi_anal)"
   ]
  },
  {
   "cell_type": "markdown",
   "metadata": {
    "lang": "en"
   },
   "source": [
    "We can also set specific numerical values:"
   ]
  },
  {
   "cell_type": "code",
   "execution_count": null,
   "metadata": {},
   "outputs": [],
   "source": [
    "phi_anal = desolve(osc,dvar=X,ivar=t,ics=[0,2,3])\n",
    "showmath(phi_anal)"
   ]
  },
  {
   "cell_type": "markdown",
   "metadata": {
    "lang": "pl"
   },
   "source": [
    "Let's plot of this solution with initial condition $x_0=2$  $v_0=3$ for  $\\omega_0=1$. We see that the solution is tangent to $3/\\omega_0$ line that passes point $(0,2)$:"
   ]
  },
  {
   "cell_type": "code",
   "execution_count": null,
   "metadata": {},
   "outputs": [],
   "source": [
    "plot(phi_anal.subs(omega0==1),(t,0,5),figsize=4)+\\\n",
    " plot( 3*t+2,(t,-1,1),color='gray')+\\\n",
    " point([0,2],color='red')"
   ]
  },
  {
   "cell_type": "markdown",
   "metadata": {
    "lang": "en"
   },
   "source": [
    "We can examine how the solution depends on the parameters $\\omega_0$ and $x_0$ (with $v_0=0$)."
   ]
  },
  {
   "cell_type": "code",
   "execution_count": null,
   "metadata": {},
   "outputs": [],
   "source": [
    "#@interact\n",
    "def free_oscilator_xt(w0=slider(0.1,3,0.1,default=1),x0=slider(0.1,3,0.1,default=1)):\n",
    "    phi_anal = desolve(osc,dvar=X,ivar=t,ics=[0,1,0])\n",
    "    p = plot(phi_anal.subs({omega0:1}),(t,0,7),color='gray')\n",
    "    phi_anal = desolve(osc,dvar=X,ivar=t,ics=[0,x0,0])\n",
    "    p += plot(phi_anal.subs({omega0:w0}),(t,0,7))\n",
    "    p.show( ticks=[[0,pi/2,pi,3/2*pi,2*pi],1/2],tick_formatter=\"latex\",figsize=(6,2))"
   ]
  },
  {
   "cell_type": "code",
   "execution_count": null,
   "metadata": {},
   "outputs": [],
   "source": [
    "free_oscilator_xt(w0=1, x0=1)\n",
    "free_oscilator_xt(w0=3, x0=1)\n",
    "free_oscilator_xt(w0=1/2, x0=1)"
   ]
  },
  {
   "cell_type": "markdown",
   "metadata": {
    "lang": "en"
   },
   "source": [
    "## Damped oscillator\n",
    "As we have seen from previous considerations, the free hamon oscillator performs vibrations infinitively long. In practice, every classic harmonic oscillator is subjected to certain damping forces, which cause the vibration to decay in time. It is so called damped oscillator. A special case of the friction force, which is taken into account when testing the motion of the oscillator - is the friction directly proportional to the speed:\n",
    "$$ \\vec F_D = - \\gamma \\vec v.$$\n",
    "Such friction occurs, for example, when the ball is in the liquid with small Reynolds numbers and is called viscous friction. If the Reynolds number is large, then the friction depends more on the speed - in aerodynamics a quadratic relationship is a good model.\n",
    "\n",
    "Consideration of linearly rate-dependent friction has the basic advantage that, despite adding an additional member to the equation of motion, we still  deal with a linear equation with constant coefficients and a full mathematical analysis of solutions can be carried out. So we have the equation:\n",
    "\n",
    "\n",
    "$$m \\ddot x   + \\Gamma \\dot x  + kx  =  0.$$\n",
    "\n",
    "Let's divide this equation by $m$ and enter the new $\\gamma=\\Gamma/m$ designation, and for $k/m$, put $\\omega_0^2$ as in the previous case:\n",
    "\n",
    "$$\\ddot x   + \\gamma \\dot x  + \\omega_0^2 x  =  0.$$\n",
    "\n",
    "From the theory of linear differential equations, we know that we should consider the roots of a characteristic polynomial  for a given equation and depending on their nature we have a different solution. It can be easily done assuming that solution to the equation in an exponent $e^{k t}$ and substitute this form into ODE:"
   ]
  },
  {
   "cell_type": "code",
   "execution_count": null,
   "metadata": {},
   "outputs": [],
   "source": [
    "var('k t')\n",
    "var('omega omega0')\n",
    "var('g', latex_name='\\gamma')\n",
    "\n",
    "f = exp(k*t)\n",
    "eq = f.diff(t,2)+g*f.diff(t)+omega0^2*f\n",
    "showmath(eq)"
   ]
  },
  {
   "cell_type": "markdown",
   "metadata": {},
   "source": [
    "Now we can factorize this expression:"
   ]
  },
  {
   "cell_type": "code",
   "execution_count": null,
   "metadata": {},
   "outputs": [],
   "source": [
    "eq.factor().show()"
   ]
  },
  {
   "cell_type": "markdown",
   "metadata": {},
   "source": [
    "It is zero for all $t$ only when ${\\gamma} k + k^{2} + \\omega_{0}^{2}=0$. This is quadratic equation which has follwing solutions:"
   ]
  },
  {
   "cell_type": "code",
   "execution_count": null,
   "metadata": {},
   "outputs": [],
   "source": [
    "showmath( (eq.factor()*exp(-k*t)).solve(k) )"
   ]
  },
  {
   "cell_type": "markdown",
   "metadata": {
    "lang": "en"
   },
   "source": [
    "There are three different values of determinant:\n",
    "\n",
    "$$\\Delta = \\sqrt{\\gamma^2-4 \\omega_0^2}$$\n",
    "\n",
    "for which soltuion have qualitatively different properties:\n",
    "\n",
    " - Two complex roots - damped oscillations.\n",
    " - Two real roots - damped oscillation, no oscillation.\n",
    " - One degenerate root  ($\\Delta=0$ discriminant) - critical vibrations, no oscillations, but it can have one maximum.\n",
    "\n",
    "### Two complex roots:\n",
    "Since both $\\gamma$ and $\\omega_0$ are positive and the expression for $\\Delta$  factorizes:\n",
    "\n",
    "$$ \\gamma^2-4 \\omega_0^2 = ( \\gamma-2 \\omega_0)( \\gamma+2 \\omega_0),$$ \n",
    "\n",
    "the expression under square root will be negative if and only if \n",
    "\n",
    "\\begin{equation}\n",
    "\\label{eq:osc_1}\n",
    "\\gamma-2 \\omega_0 < 0\n",
    "\\end{equation}\n"
   ]
  },
  {
   "cell_type": "code",
   "execution_count": null,
   "metadata": {},
   "outputs": [],
   "source": [
    "var('omega omega0')\n",
    "var('g', latex_name='\\gamma')\n",
    "\n",
    "forget()\n",
    "assume(g-2*omega0<0)\n",
    "assume(g>0)\n",
    "assume(omega0>0)\n",
    "show( assumptions() ) \n",
    "\n",
    "osc = diff(X,t,2) == -g*diff(X,t)-omega0^2*X \n",
    "\n",
    "showmath(osc)"
   ]
  },
  {
   "cell_type": "code",
   "execution_count": null,
   "metadata": {},
   "outputs": [],
   "source": [
    "phi_anal = desolve(osc,dvar=X,ivar=t)\n",
    "showmath(phi_anal)"
   ]
  },
  {
   "cell_type": "markdown",
   "metadata": {
    "lang": "en"
   },
   "source": [
    "In Sage above expression contain constants which have no \"handles\" in global namespace:"
   ]
  },
  {
   "cell_type": "code",
   "execution_count": null,
   "metadata": {},
   "outputs": [],
   "source": [
    "phi_anal.variables()"
   ]
  },
  {
   "cell_type": "markdown",
   "metadata": {},
   "source": [
    "It means that expession like `.subs({_K1:2})` will throw an exception.\n",
    "\n",
    "We can however define symbolic variables for all constants in solution. Note that those constants start with  underscore character, thus we can do it automatically:"
   ]
  },
  {
   "cell_type": "code",
   "execution_count": null,
   "metadata": {},
   "outputs": [],
   "source": [
    "[var(str(s)) for s in phi_anal.variables() if str(s).startswith(\"_\")]"
   ]
  },
  {
   "cell_type": "markdown",
   "metadata": {},
   "source": [
    "Now we have `_K1` variable available, and we can use it in substitutions:"
   ]
  },
  {
   "cell_type": "code",
   "execution_count": null,
   "metadata": {},
   "outputs": [],
   "source": [
    "_K1"
   ]
  },
  {
   "cell_type": "markdown",
   "metadata": {},
   "source": [
    "Since the solution is in the form of a periodic function multiplied by exponent, we might want to draw the envelope:"
   ]
  },
  {
   "cell_type": "code",
   "execution_count": null,
   "metadata": {},
   "outputs": [],
   "source": [
    "var('t')\n",
    "pars={_K1:11,_K2:2,omega0:1,g:.51}\n",
    "A = sqrt(_K1^2+_K2^2).subs(pars)\n",
    "plot( phi_anal.subs(pars), (t,0,15), figsize=(10,2)) + \\\n",
    "    plot( (A*exp(-1/2*g*t)).subs(pars), (t,0,15),color='gray' ) +\\\n",
    "    plot( (-A*exp(-1/2*g*t)).subs(pars), (t,0,15),color='gray' )"
   ]
  },
  {
   "cell_type": "markdown",
   "metadata": {
    "lang": "en"
   },
   "source": [
    "**Where did the formula for A come from?**\n",
    "\n",
    "We have formula which allow to add $\\sin$ and $\\cos$ functions with the same frequency: \n",
    "$$\\sqrt{2} \\sin\\left(\\frac{1}{4} \\, \\pi + {x}\\right)=\\cos\\left({x}\\right) + \\sin\\left({x}\\right)$$\n",
    "\n",
    "\n",
    "$$\\sqrt{a^{2} + b^{2}} \\sin\\left({x} + \\arctan\\left(\\frac{b}{a}\\right)\\right)$$\n",
    "\n",
    "We have:\n"
   ]
  },
  {
   "cell_type": "code",
   "execution_count": null,
   "metadata": {},
   "outputs": [],
   "source": [
    "phi_osc = phi_anal.coefficient(e^(-1/2*g*t))\n",
    "showmath(phi_osc)"
   ]
  },
  {
   "cell_type": "markdown",
   "metadata": {
    "lang": "en"
   },
   "source": [
    "We can transform the linear combination of the $\\sin$ and $\\cos$ functions into one function with a different amplitude. In order to accomplish this in Sage, we can use  wildcard substitutions."
   ]
  },
  {
   "cell_type": "code",
   "execution_count": null,
   "metadata": {},
   "outputs": [],
   "source": [
    "w0 = SR.wild(0)\n",
    "w1 = SR.wild(1)\n",
    "w2 = SR.wild(2)\n",
    "sub3 =  { w1*sin(w0)+w2*cos(w0):sqrt(w1^2+w2^2)*sin(w0+arctan(w2/w1)) }"
   ]
  },
  {
   "cell_type": "code",
   "execution_count": null,
   "metadata": {},
   "outputs": [],
   "source": [
    "showmath(phi_osc.subs(sub3))"
   ]
  },
  {
   "cell_type": "markdown",
   "metadata": {
    "lang": "en"
   },
   "source": [
    "Alternatively, you can match the solution to a bit more complicated pattern:"
   ]
  },
  {
   "cell_type": "code",
   "execution_count": null,
   "metadata": {},
   "outputs": [],
   "source": [
    "w0 = SR.wild(0)\n",
    "w1 = SR.wild(1)\n",
    "w2 = SR.wild(2)\n",
    "w3 = SR.wild(3)\n",
    "sub4 =  { w3*(w1*sin(w0)+w2*cos(w0)):w3*sqrt(w1^2+w2^2)*sin(w0+arctan(w2/w1)) }"
   ]
  },
  {
   "cell_type": "code",
   "execution_count": null,
   "metadata": {},
   "outputs": [],
   "source": [
    "showmath(phi_anal.subs(sub4))"
   ]
  },
  {
   "cell_type": "markdown",
   "metadata": {
    "lang": "en"
   },
   "source": [
    "On the other hand if have expression in the form of  $\\sin(x+\\phi) e^{-x}$, then the exponent term is an envelope: "
   ]
  },
  {
   "cell_type": "code",
   "execution_count": null,
   "metadata": {},
   "outputs": [],
   "source": [
    "plot(sin(x)*exp(-x/3) ,(x,0,10),figsize=(6,2))+\\\n",
    " plot([exp(-x/3),-exp(-x/3)],(x,0,10),color='red')"
   ]
  },
  {
   "cell_type": "markdown",
   "metadata": {},
   "source": [
    "we have therefore: "
   ]
  },
  {
   "cell_type": "code",
   "execution_count": null,
   "metadata": {},
   "outputs": [],
   "source": [
    "a,b = 2,1.2\n",
    "plot([(a*sin(x)+b*cos(x))*exp(-x/3),sqrt(a^2+b^2)*exp(-x/3)],\\\n",
    "     (x,0,10), figsize=(6,2))"
   ]
  },
  {
   "cell_type": "markdown",
   "metadata": {
    "lang": "pl"
   },
   "source": [
    "### Two real roots\n",
    "\n",
    "If the determinant $\\Delta$ is positive (but non-zero), i.e.:\n",
    "\n",
    "\\begin{equation}\n",
    "\\label{eq:osc_2}\n",
    "\\gamma-2 \\omega_0 > 0,\n",
    "\\end{equation}\n",
    "\n",
    "then we have: "
   ]
  },
  {
   "cell_type": "code",
   "execution_count": null,
   "metadata": {},
   "outputs": [],
   "source": [
    "var('omega omega0')\n",
    "var('g', latex_name='\\gamma')\n",
    "forget()\n",
    "assume(g-2*omega0>0)\n",
    "assume(g>0)\n",
    "assume(omega0>0)\n",
    "show( assumptions() ) \n",
    "osc = diff(X,t,2) == -g*diff(X,t)-omega0^2*X \n",
    "showmath(osc)"
   ]
  },
  {
   "cell_type": "code",
   "execution_count": null,
   "metadata": {},
   "outputs": [],
   "source": [
    "phi_anal = desolve(osc,dvar=X,ivar=t)\n",
    "showmath(phi_anal)"
   ]
  },
  {
   "cell_type": "markdown",
   "metadata": {
    "lang": "en"
   },
   "source": [
    "We see that the solution does not contain periodic functions but only is the sum of two exponents, with negative exponents.\n",
    "\n",
    "Task: Prove that the exponent \n",
    "$k_{1} e^{\\left(-\\frac{1}{2} \\, {\\left(\\gamma - \\sqrt{\\gamma^{2} - 4 \\, \\omega_{0}^{2}}\\right)} t\\right)}$,\n",
    "for $t>0$, it's negative.\n",
    "\n",
    "In this case, solutions are decaying without oscillations, however, for certain parameters it is possible that a single extremum will occur:\n"
   ]
  },
  {
   "cell_type": "code",
   "execution_count": null,
   "metadata": {},
   "outputs": [],
   "source": [
    "var('t')\n",
    "plot( phi_anal.subs({_K1:-1,_K2:1,omega0:1,g:2.1}), (t,0,15), figsize=(10,2))"
   ]
  },
  {
   "cell_type": "code",
   "execution_count": null,
   "metadata": {},
   "outputs": [],
   "source": [
    "var('t')\n",
    "plot( phi_anal.subs({_K1:-1,_K2:0,omega0:1,g:2.1}), (t,0,15), figsize=(10,2))"
   ]
  },
  {
   "cell_type": "markdown",
   "metadata": {
    "lang": "en"
   },
   "source": [
    "### Degenerate case\n",
    "\n",
    "Consider the case when the characteristic equation disappears. It is fullfilled when:\n",
    "\n",
    "\\begin{equation}\n",
    "\\label{eq:osc_3}\n",
    "\\gamma-2 \\omega_0 < 0\n",
    "\\end{equation}\n",
    "\n",
    "Let us have a look how the general solution looks:"
   ]
  },
  {
   "cell_type": "code",
   "execution_count": null,
   "metadata": {},
   "outputs": [],
   "source": [
    "var('omega omega0')\n",
    "var('g', latex_name='\\gamma')\n",
    "\n",
    "forget()\n",
    "assume(g-2*omega0==0)\n",
    "assume(g>0)\n",
    "assume(omega0>0)\n",
    "show( assumptions() ) \n",
    "osc = diff(X,t,2) == -g*diff(X,t)-omega0^2*X \n",
    "showmath(osc)\n",
    "phi_anal = desolve(osc, dvar=X, ivar=t)\n",
    "showmath(phi_anal)"
   ]
  },
  {
   "cell_type": "markdown",
   "metadata": {},
   "source": [
    "This case is called critically damped. "
   ]
  },
  {
   "cell_type": "code",
   "execution_count": null,
   "metadata": {},
   "outputs": [],
   "source": [
    "var('t')\n",
    "plot( phi_anal.subs({_K1:-1,_K2:1,g:1}), (t,0,15), figsize=(10,2))"
   ]
  },
  {
   "cell_type": "markdown",
   "metadata": {},
   "source": [
    "### Power  dissipation\n",
    "\n",
    "Having analytical solution one can easily describe how energy is dissipated in the system. For given $omega_0$ we might expect that power remains constant in two cases: $\\gamma=0$ and $\\gamma\\to\\infty$. Let's check it out - first we can obtain analytical solutions in oscilating and damped regimes. We will take initial condition $x_0=1$ and $v_0=1$:"
   ]
  },
  {
   "cell_type": "code",
   "execution_count": null,
   "metadata": {},
   "outputs": [],
   "source": [
    "forget()\n",
    "assume(g>2*omega0)\n",
    "assume(g>0)\n",
    "assume(omega0>0)\n",
    "x_damped = desolve(osc, dvar=X, ivar=t, ics=[0,1,0] )\n",
    "\n",
    "forget()\n",
    "assume(g<2*omega0)\n",
    "assume(g>0)\n",
    "assume(omega0>0)\n",
    "x_oscil = desolve(osc, dvar=X, ivar=t, ics=[0,1,0] )"
   ]
  },
  {
   "cell_type": "markdown",
   "metadata": {},
   "source": [
    "Now, let's define functions which define dissipated power:\n",
    "\n",
    "\\begin{equation}\n",
    "\\label{eq:power_harm}\n",
    "P = F_{friction} v = (\\gamma v) v =  \\gamma v^2\n",
    "\\end{equation}\n",
    "\n",
    "and total energy (for $m=1$):\n",
    "\n",
    "\n",
    "\\begin{equation}\n",
    "\\label{eq:E_harm}\n",
    "E_{tot} = \\frac{1}{2}v^2 + \\frac{1}{2} \\omega_0 x^2 \n",
    "\\end{equation}\n",
    "\n"
   ]
  },
  {
   "cell_type": "code",
   "execution_count": null,
   "metadata": {},
   "outputs": [],
   "source": [
    "E = lambda x: 1/2 * x.diff(t)^2 + 1/2*omega0*x^2\n",
    "P = lambda x: g * (x.diff(t))^2"
   ]
  },
  {
   "cell_type": "markdown",
   "metadata": {},
   "source": [
    "Now we can plot power energy and trajectory as a function of time:"
   ]
  },
  {
   "cell_type": "code",
   "execution_count": null,
   "metadata": {},
   "outputs": [],
   "source": [
    "plt_power = plot([P(x_damped).subs({omega0:1,g:g_}) for g_ in [2.01,4,10]],\\\n",
    "     (t,0,10), color='black')\n",
    "plt_power += plot([P(x_oscil).subs({omega0:1,g:g_}) for g_ in [.1,1,1.99]],\\\n",
    "      (t,0,10), color='red')\n",
    "plt_power.show(figsize=(6,2))"
   ]
  },
  {
   "cell_type": "code",
   "execution_count": null,
   "metadata": {},
   "outputs": [],
   "source": [
    "plt_E = plot([E(x_damped).subs({omega0:1,g:g_}) for g_ in [2.01,4,10,1e3]],\\\n",
    "             (t,0,10),color='black')\n",
    "plt_E += plot([E(x_oscil).subs({omega0:1,g:g_}) for g_ in [1e-3,.1,1,1.99]],\\\n",
    "              (t,0,10),color='red')\n",
    "plt_E.show(figsize=(6,2))"
   ]
  },
  {
   "cell_type": "code",
   "execution_count": null,
   "metadata": {},
   "outputs": [],
   "source": [
    "plt_x = plot([(x_damped).subs({omega0:1,g:g_}) for g_ in [2.01,4,10]],\\\n",
    "             (t,0,10),color='black')\n",
    "plt_x += plot([(x_oscil).subs({omega0:1,g:g_}) for g_ in [.1,1,1.99]],\\\n",
    "              (t,0,10),color='red')\n",
    "plt_x.show(figsize=(6,2))"
   ]
  },
  {
   "cell_type": "markdown",
   "metadata": {},
   "source": [
    "Note that for damping near the critical (i.e. $\\Delta=0$) regime, the power dissipation is maxiamal."
   ]
  },
  {
   "cell_type": "markdown",
   "metadata": {
    "lang": "en"
   },
   "source": [
    "## Forced harmonic oscillator\n",
    "If on a harmonic oscillator with damping a certain force depends on time of $\\sin(\\omega t)$ type, then we are dealing with a forced harmonic oscillator. In this case, the equation of motion  contains a term independent of the position $x(t)$, but explicitely dependent  on time. Such an equation is a linear non-homogeneous differential equation and we can give its analytical  solutions.\n",
    "Let's see how they look:"
   ]
  },
  {
   "cell_type": "code",
   "execution_count": null,
   "metadata": {},
   "outputs": [],
   "source": [
    "var('a omega omega0')\n",
    "var('g', latex_name='\\gamma')\n",
    "forget()\n",
    "assume(g-2*omega0<0)\n",
    "\n",
    "Phi = function('Phi')(t)\n",
    "assume(g>0)\n",
    "assume(omega0>0)\n",
    "osc = diff(Phi,t,2)+ g*diff(Phi,t) + omega0^2*Phi -a*sin(omega*t)\n",
    "\n",
    "showmath(osc)"
   ]
  },
  {
   "cell_type": "code",
   "execution_count": null,
   "metadata": {},
   "outputs": [],
   "source": [
    "phi_anal,method = desolve(osc,dvar=Phi,ivar=t,show_method=True)\n",
    "print(method)\n",
    "showmath(phi_anal)"
   ]
  },
  {
   "cell_type": "markdown",
   "metadata": {
    "lang": "en"
   },
   "source": [
    "It can be seen that we have a solution in the form of a general solution of a free damped oscillator, hence a homogeneous equation (contains $k_1$ and $k_2$ constants) and a solution that does not contain free constants. It is  called a special solution to the heterogeneous equation. It can be noted that this solution is the one that survives in the $t\\to\\infty$ limit."
   ]
  },
  {
   "cell_type": "code",
   "execution_count": null,
   "metadata": {},
   "outputs": [],
   "source": [
    "r_sz = phi_anal.operands()[1]\n",
    "showmath(r_sz)"
   ]
  },
  {
   "cell_type": "markdown",
   "metadata": {
    "lang": "en"
   },
   "source": [
    "Let's transform a special solution to the  form: $$A\\sin(\\omega t+\\phi).$$ \n",
    "To do this, we extract  the numerator and denominator:"
   ]
  },
  {
   "cell_type": "code",
   "execution_count": null,
   "metadata": {},
   "outputs": [],
   "source": [
    "expr_denom = r_sz.denominator()\n",
    "expr = r_sz.numerator()\n",
    "showmath([expr,expr_denom])"
   ]
  },
  {
   "cell_type": "markdown",
   "metadata": {
    "lang": "en"
   },
   "source": [
    "The numerator is a sum of $\\sin$ and $\\cos$ with different amplitudes. The formula: $$a \\sin\\left(x\\right) + b \\cos\\left(x\\right) =\\sqrt{a^{2} + b^{2}} \\sin\\left(x + \\arctan\\left(\\frac{b}{a}\\right)\\right)$$ can be used\n",
    "Use for this purpose to put with wildcards (an. Wildcards):"
   ]
  },
  {
   "cell_type": "code",
   "execution_count": null,
   "metadata": {},
   "outputs": [],
   "source": [
    "w0 = SR.wild(0)\n",
    "w1 = SR.wild(1)\n",
    "w2 = SR.wild(2)\n",
    "w3 = SR.wild(3)\n",
    "sub3 =  { w1*sin(w0)+w2*cos(w0):sqrt(w1^2+w2^2)*sin(w0+arctan(w2/w1)) }"
   ]
  },
  {
   "cell_type": "markdown",
   "metadata": {
    "lang": "en"
   },
   "source": [
    "Let's check how the substitution works on the formula:"
   ]
  },
  {
   "cell_type": "code",
   "execution_count": null,
   "metadata": {},
   "outputs": [],
   "source": [
    "var('a b x')\n",
    "assume(a>0)\n",
    "(a*sin(x)+b*cos(x)).subs(sub3).show()"
   ]
  },
  {
   "cell_type": "markdown",
   "metadata": {
    "lang": "en"
   },
   "source": [
    "and expand the obtained formula to check:"
   ]
  },
  {
   "cell_type": "code",
   "execution_count": null,
   "metadata": {},
   "outputs": [],
   "source": [
    "assume(a>0)\n",
    "(a*sin(x)+b*cos(x)).subs(sub3).full_simplify().show()"
   ]
  },
  {
   "cell_type": "markdown",
   "metadata": {
    "lang": "en"
   },
   "source": [
    "Everything looks nice, but we have a classic problem to choose the function's branch. Let's look at the graph of the $\\tan(x)$ function:"
   ]
  },
  {
   "cell_type": "code",
   "execution_count": null,
   "metadata": {},
   "outputs": [],
   "source": [
    "print (arctan(10)-pi).n(),(arctan(-10)-pi).n()\n",
    "\n",
    "plot(tan(x),(x,-4.,4),detect_poles='show',figsize=5,ymin=-10,ymax=10).show()\n",
    "sum([plot(arctan(x)+n*pi,(x,-10.,10),figsize=(5,3)) for n in range(-1,2)])"
   ]
  },
  {
   "cell_type": "markdown",
   "metadata": {
    "lang": "en"
   },
   "source": [
    "We should take the branch $y\\in -\\pi .. 0$ and the function in Sage takes $y\\in -\\pi ..\\pi$. Therefore, it is better to use the two-argument `arctan2`:"
   ]
  },
  {
   "cell_type": "code",
   "execution_count": null,
   "metadata": {},
   "outputs": [],
   "source": [
    "w4 = SR.wild(4)\n",
    "w5 = SR.wild(5)\n",
    "sub3a = {arctan(w4/w5):(arctan2(w4,w5)-pi)}"
   ]
  },
  {
   "cell_type": "markdown",
   "metadata": {
    "lang": "en"
   },
   "source": [
    "Returning to our oscillator, we can use the substitution:\n",
    "\n",
    "*Note* `collect (sin (omega * t))` is needed for the pattern to be in a form in which the substitution can be used."
   ]
  },
  {
   "cell_type": "code",
   "execution_count": null,
   "metadata": {},
   "outputs": [],
   "source": [
    "expr = r_sz.numerator().collect(sin(omega*t))\n",
    "showmath(expr)"
   ]
  },
  {
   "cell_type": "code",
   "execution_count": null,
   "metadata": {},
   "outputs": [],
   "source": [
    "expr = expr.subs(sub3)\n",
    "showmath(expr)"
   ]
  },
  {
   "cell_type": "code",
   "execution_count": null,
   "metadata": {},
   "outputs": [],
   "source": [
    "expr = expr.subs(sub3a)\n",
    "showmath(expr)"
   ]
  },
  {
   "cell_type": "markdown",
   "metadata": {
    "lang": "en"
   },
   "source": [
    "and in all its glory our formula is presented as:"
   ]
  },
  {
   "cell_type": "code",
   "execution_count": null,
   "metadata": {},
   "outputs": [],
   "source": [
    "r_szczegolne = (expr/expr_denom).canonicalize_radical()\n",
    "showmath(r_szczegolne)"
   ]
  },
  {
   "cell_type": "markdown",
   "metadata": {
    "lang": "en"
   },
   "source": [
    "If for some reason we would like to pick its coefficients then we have:"
   ]
  },
  {
   "cell_type": "code",
   "execution_count": null,
   "metadata": {},
   "outputs": [],
   "source": [
    "w0 = SR.wild(0)\n",
    "w1 = SR.wild(1)\n",
    "m = r_szczegolne.match(w0*sin(w1))\n",
    "showmath(m)"
   ]
  },
  {
   "cell_type": "markdown",
   "metadata": {
    "lang": "en"
   },
   "source": [
    "check:"
   ]
  },
  {
   "cell_type": "code",
   "execution_count": null,
   "metadata": {},
   "outputs": [],
   "source": [
    "showmath(w0.subs(m)*sin(w1.subs(m)))"
   ]
  },
  {
   "cell_type": "markdown",
   "metadata": {
    "lang": "en"
   },
   "source": [
    "Thus, the amplitude of the oscillator in the limit $t\\to\\infty$  is:"
   ]
  },
  {
   "cell_type": "code",
   "execution_count": null,
   "metadata": {},
   "outputs": [],
   "source": [
    "A = -w0.subs(m)\n",
    "showmath(A)"
   ]
  },
  {
   "cell_type": "markdown",
   "metadata": {
    "lang": "en"
   },
   "source": [
    "It is a famous formula that contains the phenomenon of resonance. If the damping is weak then in the case of $\\omega_0 \\to \\omega$, the amplitude of the special solution will increase to very large values, and will be infinite if the system is not damped. This means that the energy from the external source can be pumped in particularly efficiently if the frequency of force is consistent with the own frequency of the system.\n",
    "\n",
    "The strength of this phenomenon was seen by soldiers passing over the bridge in Angers (http://en.wikipedia.org/wiki/Angers_Bridge), which had just its own frequency equal to the frequency of the military march. The bridge during the march of the column of the army, stared to swing to such an amplitude that it was destroyed."
   ]
  },
  {
   "cell_type": "code",
   "execution_count": null,
   "metadata": {},
   "outputs": [],
   "source": [
    "phase = w1.subs(m)-omega*t-pi\n",
    "showmath(phase)"
   ]
  },
  {
   "cell_type": "markdown",
   "metadata": {
    "lang": "en"
   },
   "source": [
    "The maximal amplitude depends on the attenuation coefficient:"
   ]
  },
  {
   "cell_type": "code",
   "execution_count": null,
   "metadata": {},
   "outputs": [],
   "source": [
    "#@interact\n",
    "def plot_A_phase(g_=slider(0.01,1,0.01,label=\"$\\gamma$\",default=0.2)):\n",
    "    pars = {g:g_,a:1,omega0:1}\n",
    "    print ( g^2*omega^2 + omega^4 - 2*omega^2*omega0^2 + omega0^4 ).subs(pars)\n",
    "    p = plot(A.subs(pars),(omega,0,10))\n",
    "    p += plot(phase.subs(pars),(omega,0,10),color='red',detect_poles=\"show\")\n",
    "    p.show(figsize=(6,2))"
   ]
  },
  {
   "cell_type": "code",
   "execution_count": null,
   "metadata": {},
   "outputs": [],
   "source": [
    "plot_A_phase(g_=0.1),plot_A_phase(g_=1)"
   ]
  },
  {
   "cell_type": "markdown",
   "metadata": {},
   "source": [
    "### Numerical analysis\n",
    "\n",
    "We can also numerically integrate the equation of motion for the harmonic oscillator. It requires to know all parameters and initial conditions numerically before, and it does not allow for easy analysis of the generic properties of the solutions. On the other hand numerical procedure can be applied easily to system of ODE which do not have analytical solution. Here, let us compare results obtained from numerical solution with $t\\to\\infty$ formula:"
   ]
  },
  {
   "cell_type": "code",
   "execution_count": null,
   "metadata": {},
   "outputs": [],
   "source": [
    "var('phid',latex_name=r'\\dot\\varphi')\n",
    "var('phi',latex_name=r'\\varphi')\n"
   ]
  },
  {
   "cell_type": "code",
   "execution_count": null,
   "metadata": {},
   "outputs": [],
   "source": [
    "rhs = solve(osc,diff(Phi(t), t, 2))[0].rhs()\n",
    "#@interact\n",
    "def plot_A_traj(g_=slider(0.01,2.2,0.01,label=\"$\\gamma$\",default=0.2),\\\n",
    "                omega_=slider(0.01,5.134,0.01,label=\"$\\omega$\",default=1.4)):\n",
    "    pars = {g:g_,a:1,omega0:1}\n",
    "    print ( g^2*omega^2 + omega^4 - 2*omega^2*omega0^2 + omega0^4 ).subs(pars)\n",
    "    p = plot(A.subs(pars),(omega,0,10),figsize=(10,2))\n",
    "    p += plot(phase.subs(pars),(omega,0,10),color='red',detect_poles=\"show\")\n",
    "    pars = {omega:omega_,omega0:1,a:1,g:g_}\n",
    "    "
   ]
  },
  {
   "cell_type": "code",
   "execution_count": null,
   "metadata": {},
   "outputs": [],
   "source": [
    "pars = {omega:1+0.1,omega0:1,a:0.2,g:.2}\n",
    "ode = [phid,rhs.subs({Phi:phi,diff(Phi,t):phid}).subs(pars)]\n",
    "times = srange(0,80,0.001)\n",
    "ics = [0.0,2.1]\n",
    "sol = desolve_odeint(ode,ics,times,[phi,phid])\n",
    "line( zip(times,sol[::1,0]),figsize=(10,2) ) + \\\n",
    " plot( r_szczegolne.subs(pars), (t,0,80),color='red') +\\\n",
    " plot( (a*sin(omega*t)).subs(pars), (t,0,80),color='gray')"
   ]
  },
  {
   "cell_type": "code",
   "execution_count": null,
   "metadata": {},
   "outputs": [],
   "source": [
    "rhs = solve(osc,diff(Phi(t), t, 2))[0].rhs()\n",
    "#@interact\n",
    "def plot_A_traj(g_=slider(0.01,2.2,0.01,label=\"$\\gamma$\",default=0.2),\\\n",
    "                omega_=slider(0.01,5.134,0.01,label=\"$\\omega$\",default=1.4)):\n",
    "    pars = {g:g_,a:1,omega0:1}\n",
    "    print ( g^2*omega^2 + omega^4 - 2*omega^2*omega0^2 + omega0^4 ).subs(pars)\n",
    "    p = plot(A.subs(pars),(omega,0,10),figsize=(10,2))\n",
    "    p += plot(phase.subs(pars),(omega,0,10),color='red',detect_poles=\"show\")\n",
    "    pars = {omega:omega_,omega0:1,a:1,g:g_}\n",
    "    ode = [phid,rhs.subs({Phi:phi,diff(Phi,t):phid}).subs(pars)]\n",
    "     \n",
    "    times=srange(0,80,0.001)\n",
    "    ics=[0.0,2.1]\n",
    "    sol = desolve_odeint(ode,ics,times,[phi,phid])\n",
    "    r_szczegolne2 = a*sin(omega*t +pi- \\\n",
    "                          arctan2(-g*omega,(omega^2 - omega0^2)))/\\\n",
    "           sqrt(g^2*omega^2+ omega^4 - 2*omega^2*omega0^2 + omega0^4)\n",
    "    p2 = line( zip(times,sol[::1,0]),figsize=(10,2) ) + \\\n",
    "     plot( r_szczegolne.subs(pars), (t,0,80),color='red') +\\\n",
    "     plot( (a*sin(omega*t)).subs(pars), (t,0,80),color='gray')\n",
    "    p += point([omega_,0])\n",
    "    p.show()\n",
    "    p2.show()"
   ]
  },
  {
   "cell_type": "code",
   "execution_count": null,
   "metadata": {},
   "outputs": [],
   "source": [
    "plot_A_traj(g_=0.2,omega_=1.)\n",
    "plot_A_traj(g_=4.2,omega_=1.)"
   ]
  },
  {
   "cell_type": "markdown",
   "metadata": {},
   "source": [
    "We can further analyze the formula for resonance and e.g. find its maximum in $omega$:"
   ]
  },
  {
   "cell_type": "code",
   "execution_count": null,
   "metadata": {},
   "outputs": [],
   "source": [
    "showmath(A.diff(omega))"
   ]
  },
  {
   "cell_type": "code",
   "execution_count": null,
   "metadata": {},
   "outputs": [],
   "source": [
    "sol = solve(A.diff(omega), omega)\n",
    "showmath(sol)"
   ]
  },
  {
   "cell_type": "code",
   "execution_count": null,
   "metadata": {},
   "outputs": [],
   "source": [
    "omega_max = sol[1].rhs()\n",
    "showmath(omega_max)"
   ]
  },
  {
   "cell_type": "code",
   "execution_count": null,
   "metadata": {},
   "outputs": [],
   "source": [
    "showmath( (omega_max^2).factor() )"
   ]
  },
  {
   "cell_type": "code",
   "execution_count": null,
   "metadata": {},
   "outputs": [],
   "source": [
    "p=[]\n",
    "for g_ in srange(0.1,1,0.1)+srange(1,1.41,.2):\n",
    "    pars = {g:g_,a:1,omega0:1}\n",
    "    omega_max_v =  omega_max.subs(pars).n()\n",
    "    if omega_max_v.is_real():\n",
    "        p.append( point( (omega_max_v,A.subs(pars).subs(omega==omega_max_v) ),color='red' ) ) \n",
    "    p.append(  plot(A.subs(pars),(omega,0,3)) ) \n",
    "sum(p).show(ymax=11)"
   ]
  },
  {
   "cell_type": "markdown",
   "metadata": {},
   "source": [
    "In above formula we see that in the weak damping limit the resonance frequency tends to internal frequency of the oscillator. But with increased damping we position moves towards lower values of frequency. Also it can be easily seen that for \n",
    "\n",
    "$$ -\\gamma^2+2 \\omega_0^2 <0$$ \n",
    "\n",
    "because:\n",
    "\n",
    "$$ -\\gamma^2+2 \\omega_0^2 = (\\sqrt 2 \\omega_0-\\gamma)(\\sqrt 2 \\omega_0+\\gamma)$$ \n",
    "\n",
    "for \n",
    "\n",
    "$$ \\sqrt 2 \\omega_0 < \\gamma, $$\n",
    "\n",
    "the resonance disappears - i.e. there is not maxima in $A(\\omega)$ dependence. "
   ]
  },
  {
   "cell_type": "code",
   "execution_count": null,
   "metadata": {},
   "outputs": [],
   "source": [
    "pars = {a:1,omega0:1}\n",
    "plot3d( A.subs(pars), (omega,0,3),(g,0.2,1) ).show(viewer='tachyon',figsize=4)"
   ]
  },
  {
   "cell_type": "code",
   "execution_count": null,
   "metadata": {},
   "outputs": [],
   "source": [
    "pars = {a:1,omega0:1}\n",
    "contour_plot( A.subs(pars), (omega,0,3),(g,0.2,1) )"
   ]
  },
  {
   "cell_type": "markdown",
   "metadata": {
    "lang": "en"
   },
   "source": [
    "### Power absorbed\n",
    "\n",
    "\n",
    "We can also analyze how much power is absorbes by periodically driven harmonic oscillator. We can use the solution $t\\to\\infty$ which has a form:"
   ]
  },
  {
   "cell_type": "code",
   "execution_count": null,
   "metadata": {},
   "outputs": [],
   "source": [
    "showmath( r_szczegolne )"
   ]
  },
  {
   "cell_type": "markdown",
   "metadata": {},
   "source": [
    "Power dissipation  is force times the velocity, so:"
   ]
  },
  {
   "cell_type": "code",
   "execution_count": null,
   "metadata": {},
   "outputs": [],
   "source": [
    "P = g*(r_szczegolne.diff(t))^2"
   ]
  },
  {
   "cell_type": "markdown",
   "metadata": {},
   "source": [
    "We want to integrate the power oven one period of oscillations"
   ]
  },
  {
   "cell_type": "code",
   "execution_count": null,
   "metadata": {},
   "outputs": [],
   "source": [
    "showmath( P.integrate(t,0,2*pi) )"
   ]
  },
  {
   "cell_type": "markdown",
   "metadata": {},
   "source": [
    "We can plot this formula together with an expression for amplitude. "
   ]
  },
  {
   "cell_type": "code",
   "execution_count": null,
   "metadata": {},
   "outputs": [],
   "source": [
    "p=[]\n",
    "for g_ in [0.25,0.5,1,2,4]:\n",
    "    pars = {g:g_,a:1,omega0:1}\n",
    "    assume(omega>0)\n",
    "    omega_max_v =  omega_max.subs(pars).n()\n",
    "    if omega_max_v.is_real():\n",
    "        p.append( point( (omega_max_v,A.subs(pars).subs(omega==omega_max_v) ),color='red' ) ) \n",
    "    p.append(  plot(A.subs(pars),(omega,0,3), color='gray') ) \n",
    "    p.append(  plot(P.subs(pars).integrate(t,0,2*pi/omega)/2,(omega,0,3),color='red') ) \n",
    "sum(p).show(figsize=(6,3))"
   ]
  },
  {
   "cell_type": "markdown",
   "metadata": {},
   "source": [
    "\\newpage"
   ]
  }
 ],
 "metadata": {
  "kernelspec": {
   "display_name": "SageMath 8.7",
   "language": "",
   "name": "sagemath"
  },
  "language": "python",
  "language_info": {
   "codemirror_mode": {
    "name": "ipython",
    "version": 2
   },
   "file_extension": ".py",
   "mimetype": "text/x-python",
   "name": "python",
   "nbconvert_exporter": "python",
   "pygments_lexer": "ipython2",
   "version": "2.7.15"
  },
  "nbTranslate": {
   "displayLangs": [
    "en",
    "pl"
   ],
   "hotkey": "alt-t",
   "langInMainMenu": true,
   "sourceLang": "pl",
   "targetLang": "en",
   "useGoogleTranslate": true
  },
  "toc": {
   "base_numbering": 1,
   "nav_menu": {},
   "number_sections": true,
   "sideBar": true,
   "skip_h1_title": false,
   "title_cell": "Table of Contents",
   "title_sidebar": "Contents",
   "toc_cell": false,
   "toc_position": {},
   "toc_section_display": true,
   "toc_window_display": false
  }
 },
 "nbformat": 4,
 "nbformat_minor": 2
}
