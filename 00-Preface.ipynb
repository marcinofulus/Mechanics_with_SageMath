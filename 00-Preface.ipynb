{
 "cells": [
  {
   "cell_type": "markdown",
   "metadata": {},
   "source": [
    "# Preface\n",
    "\n",
    "\n",
    "\n",
    "*Computer algebra system provides a useful tool for analyzing mechanical systems. Why?*\n",
    "\n",
    "Problem solving problem in classical mechanics often require an hour or more of paper and pencil algebra. It is mostly connected with formulas which appear during change of coordinates in various expressions and differentiation. Derivation of Euler-Lagrange equations for double pendulum in polar coordinates can be a prominent example, in which expressions easily take two lines of handwriting. It used to be done on the blackboard but the same equations for five pendulums hanging in one line gives following expression:\n",
    "![](images/long_eq_5pend.png)\n",
    "\n",
    "Although very informative, such derivations may first of all discourage the student from further analyzing the system, and secondly, there is a growing chance of making a mistake with the length of equations.\n",
    "\n",
    "Instead of scaring students with lengthy formulas these tasks can be quickly done with the help of Computer Algebra Systems (CAS).\n",
    "\n",
    "Mechanics with SageMath consist of a set of notebooks in which we solve classical problems in mechanics. Our approach differs from the traditional one in:\n",
    "\n",
    "1. It is insisted that all derivations are done automatically with help of CAS,\n",
    "2. When equation of motion are obtained algebraically, we use numerical and algebraic method to analyze the system.\n",
    "3. Wherever possible we create visually appealing pictures or animations which illustrate the key properties of the system.\n",
    "\n",
    "This approach requires the reader to take time to learn about the\n",
    "computer algebra system and programming. However we believe that this\n",
    "knowledge will give disproportionate benefits and will not only make\n",
    "problem solving in mechanics a pleasure but prepare to solve real life\n",
    "problems where analytically tractable formulas are not so common.\n",
    "\n",
    "\n",
    "Marcin & Jerzy"
   ]
  },
  {
   "cell_type": "code",
   "execution_count": null,
   "metadata": {},
   "outputs": [],
   "source": []
  },
  {
   "cell_type": "markdown",
   "metadata": {},
   "source": [
    "\\newpage"
   ]
  }
 ],
 "metadata": {
  "kernelspec": {
   "display_name": "SageMath 8.6",
   "language": "",
   "name": "sagemath"
  },
  "language_info": {
   "codemirror_mode": {
    "name": "ipython",
    "version": 2
   },
   "file_extension": ".py",
   "mimetype": "text/x-python",
   "name": "python",
   "nbconvert_exporter": "python",
   "pygments_lexer": "ipython2",
   "version": "2.7.15"
  },
  "nbTranslate": {
   "displayLangs": [
    "en",
    "pl"
   ],
   "hotkey": "alt-t",
   "langInMainMenu": true,
   "sourceLang": "pl",
   "targetLang": "en",
   "useGoogleTranslate": true
  },
  "toc": {
   "base_numbering": 1,
   "nav_menu": {},
   "number_sections": true,
   "sideBar": true,
   "skip_h1_title": false,
   "title_cell": "Table of Contents",
   "title_sidebar": "Contents",
   "toc_cell": false,
   "toc_position": {},
   "toc_section_display": true,
   "toc_window_display": false
  }
 },
 "nbformat": 4,
 "nbformat_minor": 2
}
