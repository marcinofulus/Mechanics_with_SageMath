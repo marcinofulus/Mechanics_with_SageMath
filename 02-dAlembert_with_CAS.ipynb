{
 "cells": [
  {
   "cell_type": "markdown",
   "metadata": {},
   "source": [
    "# d'Alembert with computer algebra system"
   ]
  },
  {
   "cell_type": "markdown",
   "metadata": {},
   "source": [
    "##  d'Alembert principle\n"
   ]
  },
  {
   "cell_type": "markdown",
   "metadata": {},
   "source": [
    "\n",
    "<img align=\"right\" width=\"150px\" src=\"https://upload.wikimedia.org/wikipedia/commons/thumb/d/df/Alembert.jpg/440px-Alembert.jpg\"  />\n",
    "\n",
    "**d'Alembert**  principle states that the sum of the differences between the forces acting on a system of mass particles and the time derivatives of the momenta of the system itself projected onto any virtual displacement consistent with the constraints of the system is zero.\n",
    "\n",
    "It can be  written as following,\n",
    "\n",
    "$$\\sum_{i} ( \\mathbf {F}_{i} - m_i \\mathbf{\\ddot x}_i )\\cdot \\delta \\mathbf r_i = 0,\\label{eq:dalem}\\tag{1}$$ \n",
    "\n",
    "where:\n",
    "\n",
    " - $i$ enumerates particles,\n",
    " - $\\mathbf{F_i}$ $\\mathbf{\\ddot x_i}$ are forces and accelerations of $i$-th particle,\n",
    " - $\\delta \\mathbf r_i$ is virtual displacement of $i$-th particle.\n",
    "\n",
    "We consider $N$ particles in $3$ dimensional physical space, subjected to   $p$ holonomous constraints in the form:\n",
    "$$ f_k(x, t) = 0\\quad k=1,2,...,p. $$\n",
    "\n",
    "\n",
    "The virtual displacements of each coordinates: $\\delta x_j$, can be arbitrary numbers fulfilling: \n",
    "\n",
    "$$\\sum_{j=1}^{3N} \\frac{\\partial f_k}{\\partial x_j} \\delta x_j=0,\\quad k=1,2,...,p. \\label{eq:constr}\\tag{2}$$   \n",
    "\n",
    "This is a homogenoues system of  $p$ linear equation for  $3N$ $\\delta x_j$, thus  $p$ displacements can be expressed by remaining $3N-p$ which are arbitrary.\n",
    "\n",
    "We can substitute this solution to the original d'Alembert equation $\\eqref{eq:dalem}$  and we will obtain $3N-p$ second order differential equations. Together with $p$ constraints $\\eqref{eq:constr}$  they can allow to determine evolution of all variables. Let us note that this is system of differential-algebraic equations. It can be solved for example by differentiating algebraic equations and solvin the system od ODEs in classical manner.\n",
    "\n",
    "\n",
    "Better possibility, used in most of texbook problems, is to find equation of motion in $3N-p$ independent generalized coordinates which are compliant with the constraints. Then we need to transform d'Alembert principle $\\eqref{eq:dalem}$ into those coordinates and it  leads to a system of $3N-p$ ODEs."
   ]
  },
  {
   "cell_type": "markdown",
   "metadata": {},
   "source": [
    "## How to use CAS with d'Alembert principle.\n",
    "\n",
    "One of the problems which prohibit direct use of CAS is the need to treat symbols as independent variables and as functions of time, depending on the context. One possible solution to this is to define for each symbolic variable the correspoding  Sage symbolic function and variables which would represent first and second derivative.\n",
    "\n",
    " - coordinate - small letter: `a`\n",
    " - its time derivatives as independent symbols:  $\\dot a$ i $\\ddot a$ - `ad` i `add`\n",
    " - explicit function of time $a(t)$: `A`\n",
    " - virtual displacement $\\delta a$ - `da`\n",
    " "
   ]
  },
  {
   "cell_type": "markdown",
   "metadata": {},
   "source": [
    "### Example - step by step\n",
    "Let $a$ denote some generalized coordinate in out dynamical system:"
   ]
  },
  {
   "cell_type": "code",
   "execution_count": 1,
   "metadata": {},
   "outputs": [
    {
     "data": {
      "text/plain": [
       "a"
      ]
     },
     "execution_count": 1,
     "metadata": {},
     "output_type": "execute_result"
    }
   ],
   "source": [
    "var('t')\n",
    "var('a')"
   ]
  },
  {
   "cell_type": "markdown",
   "metadata": {},
   "source": [
    "We add symbols representing its derivatives with nice $\\LaTeX$ representation:"
   ]
  },
  {
   "cell_type": "code",
   "execution_count": 2,
   "metadata": {},
   "outputs": [
    {
     "data": {
      "text/html": [
       "<html><script type=\"math/tex; mode=display\">\\newcommand{\\Bold}[1]{\\mathbf{#1}}\\left[a, {\\dot a}, {\\ddot a}\\right]</script></html>"
      ],
      "text/plain": [
       "[a, ad, add]"
      ]
     },
     "metadata": {},
     "output_type": "display_data"
    }
   ],
   "source": [
    "var('ad',latex_name=r'\\dot a')\n",
    "var('add',latex_name=r'\\ddot a')\n",
    "show([a,ad,add])"
   ]
  },
  {
   "cell_type": "markdown",
   "metadata": {},
   "source": [
    "We define with capital `A`  function of time."
   ]
  },
  {
   "cell_type": "code",
   "execution_count": 3,
   "metadata": {},
   "outputs": [
    {
     "data": {
      "text/html": [
       "<html><script type=\"math/tex; mode=display\">\\newcommand{\\Bold}[1]{\\mathbf{#1}}A\\left(t\\right)</script></html>"
      ],
      "text/plain": [
       "A(t)"
      ]
     },
     "metadata": {},
     "output_type": "display_data"
    }
   ],
   "source": [
    "A = function('A')(t)\n",
    "show(A)"
   ]
  },
  {
   "cell_type": "markdown",
   "metadata": {},
   "source": [
    "Now, we can do following:"
   ]
  },
  {
   "cell_type": "code",
   "execution_count": 4,
   "metadata": {},
   "outputs": [
    {
     "data": {
      "text/html": [
       "<html><script type=\"math/tex; mode=display\">\\newcommand{\\Bold}[1]{\\mathbf{#1}}\\frac{\\partial}{\\partial t}A\\left(t\\right) + 1</script></html>"
      ],
      "text/plain": [
       "diff(A(t), t) + 1"
      ]
     },
     "metadata": {},
     "output_type": "display_data"
    },
    {
     "data": {
      "text/html": [
       "<html><script type=\"math/tex; mode=display\">\\newcommand{\\Bold}[1]{\\mathbf{#1}}{\\dot a} + 1</script></html>"
      ],
      "text/plain": [
       "ad + 1"
      ]
     },
     "metadata": {},
     "output_type": "display_data"
    }
   ],
   "source": [
    "show(1+A.diff())\n",
    "show ( (1+A.diff()).subs({A.diff():ad}) )"
   ]
  },
  {
   "cell_type": "markdown",
   "metadata": {},
   "source": [
    "Let us calculate second time derivative of (1+a)^3:"
   ]
  },
  {
   "cell_type": "code",
   "execution_count": 5,
   "metadata": {},
   "outputs": [],
   "source": [
    "expr = (1+a)^3"
   ]
  },
  {
   "cell_type": "markdown",
   "metadata": {},
   "source": [
    "we change variables to explicit function of time:"
   ]
  },
  {
   "cell_type": "code",
   "execution_count": 6,
   "metadata": {},
   "outputs": [
    {
     "data": {
      "text/html": [
       "<html><script type=\"math/tex; mode=display\">\\newcommand{\\Bold}[1]{\\mathbf{#1}}{\\left(A\\left(t\\right) + 1\\right)}^{3}</script></html>"
      ],
      "text/plain": [
       "(A(t) + 1)^3"
      ]
     },
     "metadata": {},
     "output_type": "display_data"
    }
   ],
   "source": [
    "expr  = expr.subs({a:A})\n",
    "show(expr)"
   ]
  },
  {
   "cell_type": "markdown",
   "metadata": {},
   "source": [
    "and calculate derivative:"
   ]
  },
  {
   "cell_type": "code",
   "execution_count": 7,
   "metadata": {},
   "outputs": [
    {
     "data": {
      "text/html": [
       "<html><script type=\"math/tex; mode=display\">\\newcommand{\\Bold}[1]{\\mathbf{#1}}6 \\, {\\left(A\\left(t\\right) + 1\\right)} \\frac{\\partial}{\\partial t}A\\left(t\\right)^{2} + 3 \\, {\\left(A\\left(t\\right) + 1\\right)}^{2} \\frac{\\partial^{2}}{(\\partial t)^{2}}A\\left(t\\right)</script></html>"
      ],
      "text/plain": [
       "6*(A(t) + 1)*diff(A(t), t)^2 + 3*(A(t) + 1)^2*diff(A(t), t, t)"
      ]
     },
     "metadata": {},
     "output_type": "display_data"
    }
   ],
   "source": [
    "expr = expr.diff(t,2)\n",
    "show(expr)"
   ]
  },
  {
   "cell_type": "markdown",
   "metadata": {},
   "source": [
    "we can now convert to the form containing symbols: `ad` and `add`"
   ]
  },
  {
   "cell_type": "code",
   "execution_count": 8,
   "metadata": {},
   "outputs": [
    {
     "data": {
      "text/html": [
       "<html><script type=\"math/tex; mode=display\">\\newcommand{\\Bold}[1]{\\mathbf{#1}}6 \\, {\\left(a + 1\\right)} {\\dot a}^{2} + 3 \\, {\\left(a + 1\\right)}^{2} {\\ddot a}</script></html>"
      ],
      "text/plain": [
       "6*(a + 1)*ad^2 + 3*(a + 1)^2*add"
      ]
     },
     "metadata": {},
     "output_type": "display_data"
    }
   ],
   "source": [
    "expr  = expr.subs({A:a,A.diff():ad,A.diff(2):add})\n",
    "show(expr)"
   ]
  },
  {
   "cell_type": "markdown",
   "metadata": {},
   "source": [
    "And calculate derivative ove $\\dot a$:"
   ]
  },
  {
   "cell_type": "code",
   "execution_count": 9,
   "metadata": {},
   "outputs": [
    {
     "data": {
      "text/html": [
       "<html><script type=\"math/tex; mode=display\">\\newcommand{\\Bold}[1]{\\mathbf{#1}}12 \\, {\\left(a + 1\\right)} {\\dot a}</script></html>"
      ],
      "text/plain": [
       "12*(a + 1)*ad"
      ]
     },
     "metadata": {},
     "output_type": "display_data"
    }
   ],
   "source": [
    "expr = expr.diff(ad)\n",
    "show(expr)"
   ]
  },
  {
   "cell_type": "markdown",
   "metadata": {},
   "source": [
    "### Automatic definitions\n",
    "\n",
    "We can now easily for each variable, construct two symbols representing time derivatives and explicit time function and also dictionaries for converting from one form to the another.\n",
    "\n",
    "Let us define list of variables and their $\\LaTeX$ representations in a list of pairs: `xy_wsp`. Then we cen write:"
   ]
  },
  {
   "cell_type": "code",
   "execution_count": 10,
   "metadata": {},
   "outputs": [],
   "source": [
    "# %load cas_utils.sage\n",
    "def sanitize_namelist(lst):\n",
    "    new_lst = []\n",
    "    for x_ in lst:\n",
    "        if isinstance(  x_ , str):\n",
    "            v, lv = x_, x_\n",
    "        elif isinstance( x_, tuple):\n",
    "            v, lv = x_\n",
    "        else:\n",
    "            raise ValueError,'Wrong name: ' + str(type(x_))\n",
    "        new_lst.append((v, lv))\n",
    "    return new_lst\n",
    "\n",
    "def make_symbols(xy_names, uv_names=[], verbose=False):\n",
    "    \"\"\"\n",
    "    Make a variables for CAS manipulation of  \n",
    "    expressions, including derivatives and pretty typing.\n",
    "    \n",
    "    params:\n",
    "    \n",
    "    A list of coordinated with their latex_names, must be lower case \n",
    "    \n",
    "    - ``xy_coords = [('x','x'),... ]``\n",
    "    - ``uv_coords = [('phi',r'\\varphi')]``\n",
    "\n",
    "    For example for variable ``phi``:\n",
    "     - a function ``Phi(t)`` \n",
    "     - variables: ``dphi``, ``phid`` and ``phidd`` \n",
    "     will be injected into global namespace. \n",
    "    \n",
    "    To dictionaries will be returned \n",
    "    \n",
    "    - to_fun - for substitution variables to functions, \n",
    "                  and their 1st and 2dn derivative\n",
    "    - to_var - for substitution functions and their \n",
    "                1st and 2dn derivativeto variables    \n",
    "    \"\"\"\n",
    "    xy_names = sanitize_namelist(xy_names)\n",
    "    uv_names = sanitize_namelist(uv_names)\n",
    "\n",
    "    var('t',domain='real')\n",
    "\n",
    "    for v,lv in uv_names + xy_names:\n",
    "    \n",
    "        var(\"%s\"%v,latex_name=r'%s'%lv)\n",
    "        globals()[v.capitalize()] = function(v.capitalize())(t)\n",
    "        var(\"%sdd\"%v, latex_name=r'\\ddot %s'%lv)\n",
    "        var(\"%sd\"%v, latex_name=r'\\dot %s'%lv)\n",
    "        var(\"d%s\"%v, latex_name=r'\\delta %s'%lv)\n",
    "        print v, \" :: has been  processed\"\n",
    "     \n",
    "    uv = [globals()[v] for v,lv in uv_names]\n",
    "    xy = [globals()[v] for v,lv in xy_names]\n",
    "    \n",
    "    to_fun = dict()\n",
    "    \n",
    "    for v,lv in uv_names + xy_names:\n",
    "        to_fun[globals()[v]] = globals()[v.capitalize()]\n",
    "        to_fun[globals()[v+\"d\"]] = globals()[v.capitalize()].diff()\n",
    "        to_fun[globals()[v+\"dd\"]] = globals()[v.capitalize()].diff(2)\n",
    "        \n",
    "    to_var = dict((v,k) for k,v in to_fun.items())\n",
    "    if verbose:\n",
    "        print 'we have dictionaries:'\n",
    "        show( table([ [v,r'$\\iff$',k] for k,v in to_var.iteritems()]) )\n",
    "    return to_fun, to_var\n",
    "\n",
    "\n",
    "def transform_virtual_displacements(xy_names, uv_names, verbose=False, suffix='_polar'):\n",
    "    \"\"\"\n",
    "    Transform vistual displacements using \n",
    "    chain rule of differentiation.\n",
    "\n",
    "    \"\"\"\n",
    "    xy_names = sanitize_namelist(xy_names)\n",
    "    uv_names = sanitize_namelist(uv_names)\n",
    "\n",
    "    uv = [globals()[v] for v,lv in uv_names]\n",
    "    xy = [globals()[v] for v,lv in xy_names]\n",
    "    \n",
    "    new_variations = []\n",
    "    for w in xy:\n",
    "        globals()['d'+repr(w)+suffix] = \\\n",
    "         sum([w.subs(x2u).diff(w2)*globals()['d'+repr(w2)]\\\n",
    "                                             for w2 in uv])\n",
    "        new_variations.append( globals()['d'+repr(w)+suffix] )\n",
    "        if verbose:\n",
    "            print 'd'+repr(w)+suffix+' : is added to namespace'\n",
    "            show([globals()['d'+repr(w)],globals()['d'+repr(w)+suffix]])\n",
    "        \n",
    "    \n",
    "    return new_variations\n"
   ]
  },
  {
   "cell_type": "code",
   "execution_count": 11,
   "metadata": {},
   "outputs": [
    {
     "name": "stdout",
     "output_type": "stream",
     "text": [
      "x  :: has been  processed\n",
      "y  :: has been  processed\n"
     ]
    }
   ],
   "source": [
    "var('t')\n",
    "xy_wsp = [('x','x'),('y','y')]\n",
    "to_fun, to_var = make_symbols(xy_wsp)"
   ]
  },
  {
   "cell_type": "code",
   "execution_count": 12,
   "metadata": {},
   "outputs": [
    {
     "data": {
      "text/html": [
       "<html><script type=\"math/tex; mode=display\">\\newcommand{\\Bold}[1]{\\mathbf{#1}}\\left\\{X\\left(t\\right) : {x}, Y\\left(t\\right) : {y}, \\frac{\\partial}{\\partial t}X\\left(t\\right) : {\\dot x}, \\frac{\\partial^{2}}{(\\partial t)^{2}}Y\\left(t\\right) : {\\ddot y}, \\frac{\\partial^{2}}{(\\partial t)^{2}}X\\left(t\\right) : {\\ddot x}, \\frac{\\partial}{\\partial t}Y\\left(t\\right) : {\\dot y}\\right\\}</script></html>"
      ],
      "text/plain": [
       "{X(t): x,\n",
       " Y(t): y,\n",
       " diff(X(t), t): xd,\n",
       " diff(Y(t), t, t): ydd,\n",
       " diff(X(t), t, t): xdd,\n",
       " diff(Y(t), t): yd}"
      ]
     },
     "metadata": {},
     "output_type": "display_data"
    }
   ],
   "source": [
    "show(to_var)"
   ]
  },
  {
   "cell_type": "code",
   "execution_count": 13,
   "metadata": {},
   "outputs": [
    {
     "data": {
      "text/html": [
       "<html><script type=\"math/tex; mode=display\">\\newcommand{\\Bold}[1]{\\mathbf{#1}}\\left\\{{\\ddot y} : \\frac{\\partial^{2}}{(\\partial t)^{2}}Y\\left(t\\right), {\\ddot x} : \\frac{\\partial^{2}}{(\\partial t)^{2}}X\\left(t\\right), {x} : X\\left(t\\right), {\\dot y} : \\frac{\\partial}{\\partial t}Y\\left(t\\right), {\\dot x} : \\frac{\\partial}{\\partial t}X\\left(t\\right), {y} : Y\\left(t\\right)\\right\\}</script></html>"
      ],
      "text/plain": [
       "{ydd: diff(Y(t), t, t),\n",
       " xdd: diff(X(t), t, t),\n",
       " x: X(t),\n",
       " yd: diff(Y(t), t),\n",
       " xd: diff(X(t), t),\n",
       " y: Y(t)}"
      ]
     },
     "metadata": {},
     "output_type": "display_data"
    }
   ],
   "source": [
    "show(to_fun)"
   ]
  },
  {
   "cell_type": "markdown",
   "metadata": {},
   "source": [
    "Let's experiment with examples:"
   ]
  },
  {
   "cell_type": "code",
   "execution_count": 14,
   "metadata": {},
   "outputs": [
    {
     "data": {
      "text/html": [
       "<html><script type=\"math/tex; mode=display\">\\newcommand{\\Bold}[1]{\\mathbf{#1}}{x}^{2} {y} + 1</script></html>"
      ],
      "text/plain": [
       "x^2*y + 1"
      ]
     },
     "metadata": {},
     "output_type": "display_data"
    },
    {
     "data": {
      "text/html": [
       "<html><script type=\"math/tex; mode=display\">\\newcommand{\\Bold}[1]{\\mathbf{#1}}X\\left(t\\right)^{2} Y\\left(t\\right) + 1</script></html>"
      ],
      "text/plain": [
       "X(t)^2*Y(t) + 1"
      ]
     },
     "metadata": {},
     "output_type": "display_data"
    },
    {
     "data": {
      "text/html": [
       "<html><script type=\"math/tex; mode=display\">\\newcommand{\\Bold}[1]{\\mathbf{#1}}2 \\, Y\\left(t\\right) \\frac{\\partial}{\\partial t}X\\left(t\\right)^{2} + 2 \\, X\\left(t\\right) Y\\left(t\\right) \\frac{\\partial^{2}}{(\\partial t)^{2}}X\\left(t\\right) + 4 \\, X\\left(t\\right) \\frac{\\partial}{\\partial t}X\\left(t\\right) \\frac{\\partial}{\\partial t}Y\\left(t\\right) + X\\left(t\\right)^{2} \\frac{\\partial^{2}}{(\\partial t)^{2}}Y\\left(t\\right)</script></html>"
      ],
      "text/plain": [
       "2*Y(t)*diff(X(t), t)^2 + 2*X(t)*Y(t)*diff(X(t), t, t) + 4*X(t)*diff(X(t), t)*diff(Y(t), t) + X(t)^2*diff(Y(t), t, t)"
      ]
     },
     "metadata": {},
     "output_type": "display_data"
    },
    {
     "data": {
      "text/html": [
       "<html><script type=\"math/tex; mode=display\">\\newcommand{\\Bold}[1]{\\mathbf{#1}}2 \\, {\\dot x}^{2} {y} + 2 \\, {x} {\\ddot x} {y} + 4 \\, {x} {\\dot x} {\\dot y} + {x}^{2} {\\ddot y}</script></html>"
      ],
      "text/plain": [
       "2*xd^2*y + 2*x*xdd*y + 4*x*xd*yd + x^2*ydd"
      ]
     },
     "metadata": {},
     "output_type": "display_data"
    }
   ],
   "source": [
    "show( (1+x^2*y) )\n",
    "show( (1+x^2*y).subs(to_fun))\n",
    "show( (1+x^2*y).subs(to_fun).diff(t,2) )\n",
    "show( (1+x^2*y).subs(to_fun).diff(t,2).subs(to_var) )"
   ]
  },
  {
   "cell_type": "code",
   "execution_count": 15,
   "metadata": {},
   "outputs": [
    {
     "data": {
      "text/html": [
       "<html><script type=\"math/tex; mode=display\">\\newcommand{\\Bold}[1]{\\mathbf{#1}}4 \\, {\\dot y}</script></html>"
      ],
      "text/plain": [
       "4*yd"
      ]
     },
     "metadata": {},
     "output_type": "display_data"
    }
   ],
   "source": [
    "show( (1+x^2*y).subs(to_fun).diff(t,2).subs(to_var).diff(xd).diff(x) )"
   ]
  },
  {
   "cell_type": "code",
   "execution_count": 16,
   "metadata": {},
   "outputs": [
    {
     "data": {
      "text/plain": [
       "diff(X(t), t)"
      ]
     },
     "execution_count": 16,
     "metadata": {},
     "output_type": "execute_result"
    }
   ],
   "source": [
    "x.subs(to_fun).diff().subs(to_var).subs(to_fun)"
   ]
  },
  {
   "cell_type": "markdown",
   "metadata": {},
   "source": [
    "## Example: mathematical pendulum in cartesian coordinates in 2d\n",
    "\n",
    "\n",
    "We consider in 2d a point with mass $m$ in Earth gravitation subjected to constraints: $x^2+y^2-l^2=0$. $l$ is a lenght of the pendulum.\n",
    "\n",
    "Position of the mass is $(x,y)$, thus:"
   ]
  },
  {
   "cell_type": "code",
   "execution_count": 17,
   "metadata": {},
   "outputs": [],
   "source": [
    "var('t')\n",
    "var('l g')\n",
    "xy_wsp = [('x','x'),('y','y')]\n",
    "\n",
    "for v,lv in xy_wsp:\n",
    "    var(\"%s\"%v,latex_name=r'%s'%lv)\n",
    "    vars()[v.capitalize()] = function(v.capitalize())(t)\n",
    "    var(\"%sdd\"%v,latex_name=r'\\ddot %s'%lv)\n",
    "    var(\"%sd\"%v,latex_name=r'\\dot %s'%lv)\n",
    "    var(\"d%s\"%v,latex_name=r'\\delta %s'%lv)\n",
    "\n",
    "xy = [vars()[v] for v,lv in xy_wsp]\n",
    "dxy = [vars()['d'+repr(zm)] for zm in xy]\n",
    "\n",
    "\n",
    "to_fun=dict()\n",
    "for v,lv in xy_wsp:\n",
    "    to_fun[vars()[v]]=vars()[v.capitalize()]\n",
    "    to_fun[vars()[v+\"d\"]]=vars()[v.capitalize()].diff()\n",
    "    to_fun[vars()[v+\"dd\"]]=vars()[v.capitalize()].diff(2)\n",
    "to_var = dict((v,k) for k,v in to_fun.items())"
   ]
  },
  {
   "cell_type": "code",
   "execution_count": 18,
   "metadata": {},
   "outputs": [
    {
     "data": {
      "text/html": [
       "<html><script type=\"math/tex; mode=display\">\\newcommand{\\Bold}[1]{\\mathbf{#1}}\\left[{x}, {y}\\right]</script></html>"
      ],
      "text/plain": [
       "[x, y]"
      ]
     },
     "metadata": {},
     "output_type": "display_data"
    },
    {
     "data": {
      "text/html": [
       "<html><script type=\"math/tex; mode=display\">\\newcommand{\\Bold}[1]{\\mathbf{#1}}\\left[{\\delta x}, {\\delta y}\\right]</script></html>"
      ],
      "text/plain": [
       "[dx, dy]"
      ]
     },
     "metadata": {},
     "output_type": "display_data"
    },
    {
     "data": {
      "text/plain": [
       "(None, None)"
      ]
     },
     "execution_count": 18,
     "metadata": {},
     "output_type": "execute_result"
    }
   ],
   "source": [
    "show(xy),show(dxy),"
   ]
  },
  {
   "cell_type": "code",
   "execution_count": 19,
   "metadata": {},
   "outputs": [
    {
     "name": "stdout",
     "output_type": "stream",
     "text": [
      "x  :: has been  processed\n",
      "y  :: has been  processed\n"
     ]
    }
   ],
   "source": [
    "var('t')\n",
    "var('l g')\n",
    "xy_wsp = ['x','y']\n",
    "to_fun, to_var = make_symbols(xy_wsp)"
   ]
  },
  {
   "cell_type": "markdown",
   "metadata": {},
   "source": [
    "After this we have in our namespace following variables:"
   ]
  },
  {
   "cell_type": "code",
   "execution_count": 20,
   "metadata": {},
   "outputs": [
    {
     "data": {
      "text/html": [
       "<html><script type=\"math/tex; mode=display\">\\newcommand{\\Bold}[1]{\\mathbf{#1}}\\left[{x}, {\\dot x}, {\\ddot x}, {\\delta x}\\right]</script></html>"
      ],
      "text/plain": [
       "[x, xd, xdd, dx]"
      ]
     },
     "metadata": {},
     "output_type": "display_data"
    }
   ],
   "source": [
    "show([x,xd,xdd,dx])"
   ]
  },
  {
   "cell_type": "code",
   "execution_count": 21,
   "metadata": {},
   "outputs": [
    {
     "data": {
      "text/html": [
       "<html><script type=\"math/tex; mode=display\">\\newcommand{\\Bold}[1]{\\mathbf{#1}}\\left[{x}, {y}\\right]</script></html>"
      ],
      "text/plain": [
       "[x, y]"
      ]
     },
     "metadata": {},
     "output_type": "display_data"
    }
   ],
   "source": [
    "xy = [vars()[v] for v in xy_wsp]\n",
    "dxy = [vars()['d'+repr(zm)] for zm in xy]\n",
    "show(xy)"
   ]
  },
  {
   "cell_type": "code",
   "execution_count": 22,
   "metadata": {},
   "outputs": [
    {
     "data": {
      "text/html": [
       "<html><script type=\"math/tex; mode=display\">\\newcommand{\\Bold}[1]{\\mathbf{#1}}\\left[{\\delta x}, {\\delta y}\\right]</script></html>"
      ],
      "text/plain": [
       "[dx, dy]"
      ]
     },
     "metadata": {},
     "output_type": "display_data"
    }
   ],
   "source": [
    "show(dxy)"
   ]
  },
  {
   "cell_type": "markdown",
   "metadata": {},
   "source": [
    "Having constraints, one can obtain its differential form:\n",
    "\n",
    "$$\\frac{\\partial f}{\\partial x} \\delta x + \\frac{\\partial f}{\\partial y} \\delta y = 0  $$\n"
   ]
  },
  {
   "cell_type": "code",
   "execution_count": 23,
   "metadata": {},
   "outputs": [
    {
     "data": {
      "text/html": [
       "<html><script type=\"math/tex; mode=display\">\\newcommand{\\Bold}[1]{\\mathbf{#1}}2 \\, {\\delta x} {x} + 2 \\, {\\delta y} {y}</script></html>"
      ],
      "text/plain": [
       "2*dx*x + 2*dy*y"
      ]
     },
     "metadata": {},
     "output_type": "display_data"
    }
   ],
   "source": [
    "f = x^2+y^2-l^2\n",
    "constr =sum([dz*f.diff(z) for z,dz in zip(xy,dxy)])\n",
    "show( constr)"
   ]
  },
  {
   "cell_type": "markdown",
   "metadata": {},
   "source": [
    "d'Alembert principle reads:"
   ]
  },
  {
   "cell_type": "code",
   "execution_count": 24,
   "metadata": {},
   "outputs": [
    {
     "data": {
      "text/html": [
       "<html><script type=\"math/tex; mode=display\">\\newcommand{\\Bold}[1]{\\mathbf{#1}}{\\delta y} {\\left(g + {\\ddot y}\\right)} + {\\delta x} {\\ddot x}</script></html>"
      ],
      "text/plain": [
       "dy*(g + ydd) + dx*xdd"
      ]
     },
     "metadata": {},
     "output_type": "display_data"
    }
   ],
   "source": [
    "dAlemb = (X.diff(t,2))*dx + (Y.diff(t,2)+g)*dy\n",
    "show(dAlemb.subs(to_var))"
   ]
  },
  {
   "cell_type": "markdown",
   "metadata": {},
   "source": [
    "First equation we obtain by substituting e.g. $\\delta x$ from the differential contraints equation to d'Alembert principle:"
   ]
  },
  {
   "cell_type": "code",
   "execution_count": 25,
   "metadata": {},
   "outputs": [
    {
     "data": {
      "text/html": [
       "<html><script type=\"math/tex; mode=display\">\\newcommand{\\Bold}[1]{\\mathbf{#1}}g - \\frac{{\\ddot x} {y}}{{x}} + {\\ddot y}</script></html>"
      ],
      "text/plain": [
       "g - xdd*y/x + ydd"
      ]
     },
     "metadata": {},
     "output_type": "display_data"
    }
   ],
   "source": [
    "eq1 = (dAlemb.subs(constr.solve(dx)[0])).expand().coefficient(dy).subs(to_var)\n",
    "show(eq1)"
   ]
  },
  {
   "cell_type": "markdown",
   "metadata": {},
   "source": [
    "The second equation can be obtained by differentiating contraints over time two times:"
   ]
  },
  {
   "cell_type": "code",
   "execution_count": 26,
   "metadata": {},
   "outputs": [
    {
     "data": {
      "text/html": [
       "<html><script type=\"math/tex; mode=display\">\\newcommand{\\Bold}[1]{\\mathbf{#1}}2 \\, {\\dot x}^{2} + 2 \\, {x} {\\ddot x} + 2 \\, {\\dot y}^{2} + 2 \\, {y} {\\ddot y}</script></html>"
      ],
      "text/plain": [
       "2*xd^2 + 2*x*xdd + 2*yd^2 + 2*y*ydd"
      ]
     },
     "metadata": {},
     "output_type": "display_data"
    }
   ],
   "source": [
    "eq2 = f.subs(to_fun).diff(t,2).subs(to_var)\n",
    "show(eq2)"
   ]
  },
  {
   "cell_type": "markdown",
   "metadata": {},
   "source": [
    "We have to solve for  $\\ddot x$ i $\\ddot y$ and we get equation of motion:"
   ]
  },
  {
   "cell_type": "code",
   "execution_count": 27,
   "metadata": {},
   "outputs": [
    {
     "data": {
      "text/html": [
       "<html><script type=\"math/tex; mode=display\">\\newcommand{\\Bold}[1]{\\mathbf{#1}}\\left[{\\ddot x} = \\frac{g {x} {y} - {\\left({\\dot x}^{2} + {\\dot y}^{2}\\right)} {x}}{{x}^{2} + {y}^{2}}, {\\ddot y} = -\\frac{g {x}^{2} + {\\left({\\dot x}^{2} + {\\dot y}^{2}\\right)} {y}}{{x}^{2} + {y}^{2}}\\right]</script></html>"
      ],
      "text/plain": [
       "[xdd == (g*x*y - (xd^2 + yd^2)*x)/(x^2 + y^2),\n",
       " ydd == -(g*x^2 + (xd^2 + yd^2)*y)/(x^2 + y^2)]"
      ]
     },
     "metadata": {},
     "output_type": "display_data"
    }
   ],
   "source": [
    "sol = solve( [eq1,eq2],[xdd,ydd])\n",
    "show( sol[0] )"
   ]
  },
  {
   "cell_type": "markdown",
   "metadata": {},
   "source": [
    "We can easily solve it with `desolve_odeint` numerically. Interestingly, the lenght of the pendulum must be taken into the account inside initial conditions, as $l$ was removed from the above system by diferentiation.\n",
    "\n",
    "Having access to right hand sides:"
   ]
  },
  {
   "cell_type": "code",
   "execution_count": 28,
   "metadata": {},
   "outputs": [
    {
     "data": {
      "text/plain": [
       "(g*x*y - (xd^2 + yd^2)*x)/(x^2 + y^2)"
      ]
     },
     "execution_count": 28,
     "metadata": {},
     "output_type": "execute_result"
    }
   ],
   "source": [
    "sol[0][0].rhs()"
   ]
  },
  {
   "cell_type": "code",
   "execution_count": 29,
   "metadata": {},
   "outputs": [
    {
     "data": {
      "text/plain": [
       "-(g*x^2 + (xd^2 + yd^2)*y)/(x^2 + y^2)"
      ]
     },
     "execution_count": 29,
     "metadata": {},
     "output_type": "execute_result"
    }
   ],
   "source": [
    "sol[0][1].rhs()"
   ]
  },
  {
   "cell_type": "markdown",
   "metadata": {},
   "source": [
    "We solve the system of four first order  ODEs (we treat $x$ and velocity: $\\dot x$ as independent variables):\n",
    "\n",
    "\\begin{eqnarray}\n",
    "\\frac{dx}{dt} &=& \\dot x \\\\\n",
    "\\frac{dy}{dt} &=& \\dot y \\\\\n",
    "\\frac{d \\dot x}{dt}  &=& \\frac{g {x} {y} - {\\left({\\dot x}^{2} + {\\dot y}^{2}\\right)} {x}}{{x}^{2} + {y}^{2}} \\\\\n",
    "\\frac{d \\dot y}{dt}  &=& -\\frac{g {x}^{2} + {\\left({\\dot x}^{2} + {\\dot y}^{2}\\right)} {y}}{{x}^{2} + {y}^{2}}\n",
    "\\end{eqnarray}\n"
   ]
  },
  {
   "cell_type": "code",
   "execution_count": 30,
   "metadata": {},
   "outputs": [
    {
     "data": {
      "image/png": "[encoded data removed]",
      "text/plain": [
       "Graphics object consisting of 1 graphics primitive"
      ]
     },
     "metadata": {},
     "output_type": "display_data"
    }
   ],
   "source": [
    "ode=[xd,yd,sol[0][0].rhs().subs({g:1}),sol[0][1].rhs().subs({g:1})]\n",
    "times = srange(0,14,0.01)\n",
    "numsol=desolve_odeint(ode,[0,-1,1.2,0],times,[x,y,xd,yd])\n",
    "p=line(zip(numsol[:,0],numsol[:,1]),figsize=5,aspect_ratio=1)\n",
    "p.show()"
   ]
  },
  {
   "cell_type": "markdown",
   "metadata": {},
   "source": [
    "We can compare this numerical solution with small amplitude approximation. Suppose that the pendulum starts at its lowest position,   $\\phi=\\arctan(y/x)=-\\pi/2$ with linear velocity $\\dot x(0) = 0.2$. The analytical solution in that case reads:\n",
    "\n",
    " $$\\phi = -\\pi/2 + 0.2 \\sin(\\omega_0 t),$$\n",
    "\n",
    "where $\\omega_0=\\sqrt{g/l}=1$</p>\n",
    "\n"
   ]
  },
  {
   "cell_type": "code",
   "execution_count": 31,
   "metadata": {},
   "outputs": [
    {
     "data": {
      "image/png": "[encoded data removed]",
      "text/plain": [
       "Graphics object consisting of 2 graphics primitives"
      ]
     },
     "execution_count": 31,
     "metadata": {},
     "output_type": "execute_result"
    }
   ],
   "source": [
    "times = srange(0,14,0.01)\n",
    "numsol = desolve_odeint(ode,[0,-1,.2,0],times,[x,y,xd,yd])\n",
    "\n",
    "import numpy as np\n",
    " \n",
    "line(zip( times,np.arctan2(numsol[:,1],numsol[:,0]) ),figsize=(7,2))+\\\n",
    " plot(0.2*sin(t)-pi/2,(t,0,10),color='red')"
   ]
  },
  {
   "cell_type": "markdown",
   "metadata": {},
   "source": [
    "We can also check if contraints, which are the lenght of the pendulum, are fulfilled during the simulation:"
   ]
  },
  {
   "cell_type": "code",
   "execution_count": 34,
   "metadata": {},
   "outputs": [
    {
     "name": "stdout",
     "output_type": "stream",
     "text": [
      "initial l: 1.0 final l: 0.9999999900787478\n"
     ]
    }
   ],
   "source": [
    "print \"initial l:\",numsol[0,0]**2+numsol[0,1]**2,\n",
    "print \"final l:\",numsol[-1,0]**2+numsol[-1,1]**2"
   ]
  },
  {
   "cell_type": "markdown",
   "metadata": {},
   "source": [
    "### Solution in generalized coordinaes.\n",
    "\n",
    "Clearly, the derived system od DAE is not the best approach to describe mathematical pendulum. The better idea is to use coordinates which fulfill automatically the constraint. In the case of mathematical pendulum one can use the angle $\\phi$.\n",
    "\n",
    "We will need two sets of coordinates: $(x,y)$ and $\\phi$:"
   ]
  },
  {
   "cell_type": "code",
   "execution_count": 36,
   "metadata": {},
   "outputs": [
    {
     "name": "stdout",
     "output_type": "stream",
     "text": [
      "x  :: has been  processed\n",
      "y  :: has been  processed\n",
      "phi  :: has been  processed\n"
     ]
    }
   ],
   "source": [
    "var('x y t')\n",
    "var('l g')\n",
    "\n",
    "xy_wsp = [('x','x'),('y','y')]\n",
    "uv_wsp = [('phi','\\phi')]\n",
    "\n",
    "to_fun, to_var = make_symbols(xy_wsp+uv_wsp)\n",
    "\n",
    "x2u = {x:l*cos(phi),y:l*sin(phi)}\n"
   ]
  },
  {
   "cell_type": "code",
   "execution_count": 37,
   "metadata": {},
   "outputs": [],
   "source": [
    "uv = [vars()[v] for v,lv in uv_wsp]\n",
    "xy = [vars()[v] for v,lv in xy_wsp]"
   ]
  },
  {
   "cell_type": "markdown",
   "metadata": {},
   "source": [
    "We have to express virtual displacements in new coordinates:\n",
    "$$\\delta x =  \\frac{\\partial x(r,\\phi)}{\\partial \\phi}\\delta \\phi $$\n",
    "$$\\delta y = \\frac{\\partial y(r,\\phi)}{\\partial \\phi}\\delta \\phi $$\n",
    "\n",
    "Despite the fact that we have only one element on `uv`, i.e. one new coordinate, we will use general formula below:"
   ]
  },
  {
   "cell_type": "code",
   "execution_count": 38,
   "metadata": {},
   "outputs": [
    {
     "data": {
      "text/html": [
       "<html><script type=\"math/tex; mode=display\">\\newcommand{\\Bold}[1]{\\mathbf{#1}}\\left[-{\\delta \\phi} l \\sin\\left({\\phi}\\right), {\\delta \\phi} l \\cos\\left({\\phi}\\right)\\right]</script></html>"
      ],
      "text/plain": [
       "[-dphi*l*sin(phi), dphi*l*cos(phi)]"
      ]
     },
     "metadata": {},
     "output_type": "display_data"
    }
   ],
   "source": [
    "for w in xy:\n",
    "    vars()['d'+repr(w)+'_polar']=\\\n",
    "       sum([w.subs(x2u).diff(w2)*vars()['d'+repr(w2)] for w2 in uv])\n",
    "show([dx_polar,dy_polar])"
   ]
  },
  {
   "cell_type": "markdown",
   "metadata": {},
   "source": [
    "d'Alembert principle  in new coordinates reads:\n"
   ]
  },
  {
   "cell_type": "code",
   "execution_count": 39,
   "metadata": {},
   "outputs": [],
   "source": [
    "dAlemb = (x.subs(x2u).subs(to_fun).diff(t,2))*dx_polar + \\\n",
    "         (y.subs(x2u).subs(to_fun).diff(t,2)+g)*dy_polar\n",
    "dAlemb = dAlemb.subs(to_var)"
   ]
  },
  {
   "cell_type": "code",
   "execution_count": 40,
   "metadata": {},
   "outputs": [
    {
     "data": {
      "text/html": [
       "<html><script type=\"math/tex; mode=display\">\\newcommand{\\Bold}[1]{\\mathbf{#1}}-{\\left(l {\\dot \\phi}^{2} \\sin\\left({\\phi}\\right) - l {\\ddot \\phi} \\cos\\left({\\phi}\\right) - g\\right)} {\\delta \\phi} l \\cos\\left({\\phi}\\right) + {\\left(l {\\dot \\phi}^{2} \\cos\\left({\\phi}\\right) + l {\\ddot \\phi} \\sin\\left({\\phi}\\right)\\right)} {\\delta \\phi} l \\sin\\left({\\phi}\\right)</script></html>"
      ],
      "text/plain": [
       "-(l*phid^2*sin(phi) - l*phidd*cos(phi) - g)*dphi*l*cos(phi) + (l*phid^2*cos(phi) + l*phidd*sin(phi))*dphi*l*sin(phi)"
      ]
     },
     "metadata": {},
     "output_type": "display_data"
    }
   ],
   "source": [
    "show(dAlemb)"
   ]
  },
  {
   "cell_type": "markdown",
   "metadata": {},
   "source": [
    "Above expression is zero when coefficient at $\\delta \\phi$ is zero:"
   ]
  },
  {
   "cell_type": "code",
   "execution_count": 41,
   "metadata": {},
   "outputs": [
    {
     "data": {
      "text/html": [
       "<html><script type=\"math/tex; mode=display\">\\newcommand{\\Bold}[1]{\\mathbf{#1}}l^{2} {\\ddot \\phi} + g l \\cos\\left({\\phi}\\right)</script></html>"
      ],
      "text/plain": [
       "l^2*phidd + g*l*cos(phi)"
      ]
     },
     "metadata": {},
     "output_type": "display_data"
    }
   ],
   "source": [
    "for v in uv:\n",
    "    show(dAlemb.expand().coefficient(vars()['d'+repr(v)]).trig_simplify())"
   ]
  },
  {
   "cell_type": "markdown",
   "metadata": {},
   "source": [
    "We finally arrive at known and expected equation:"
   ]
  },
  {
   "cell_type": "code",
   "execution_count": 42,
   "metadata": {},
   "outputs": [
    {
     "data": {
      "text/html": [
       "<html><script type=\"math/tex; mode=display\">\\newcommand{\\Bold}[1]{\\mathbf{#1}}\\left[{\\ddot \\phi} = -\\frac{g \\cos\\left({\\phi}\\right)}{l}\\right]</script></html>"
      ],
      "text/plain": [
       "[phidd == -g*cos(phi)/l]"
      ]
     },
     "metadata": {},
     "output_type": "display_data"
    }
   ],
   "source": [
    "show( dAlemb.expand().coefficient(dphi).trig_simplify().solve(phidd) )"
   ]
  },
  {
   "cell_type": "markdown",
   "metadata": {},
   "source": [
    "Stable point is $\\phi=-\\frac{\\pi}{2}$, we can expand in this point the right hand side and obtain harmonic oscilator in $\\phi$:"
   ]
  },
  {
   "cell_type": "code",
   "execution_count": 43,
   "metadata": {},
   "outputs": [
    {
     "data": {
      "text/html": [
       "<html><script type=\"math/tex; mode=display\">\\newcommand{\\Bold}[1]{\\mathbf{#1}}-\\frac{{\\left(\\pi + 2 \\, {\\phi}\\right)} g}{2 \\, l}</script></html>"
      ],
      "text/plain": [
       "-1/2*(pi + 2*phi)*g/l"
      ]
     },
     "metadata": {},
     "output_type": "display_data"
    }
   ],
   "source": [
    "taylor(-g/l*cos(phi),phi,-pi/2,1).show()"
   ]
  },
  {
   "cell_type": "markdown",
   "metadata": {},
   "source": [
    "one can redefine $\\phi$, so it is zero at lowest point, and we recognize the classical formula:"
   ]
  },
  {
   "cell_type": "code",
   "execution_count": 44,
   "metadata": {},
   "outputs": [
    {
     "data": {
      "text/html": [
       "<html><script type=\"math/tex; mode=display\">\\newcommand{\\Bold}[1]{\\mathbf{#1}}-\\frac{g {\\phi}}{l}</script></html>"
      ],
      "text/plain": [
       "-g*phi/l"
      ]
     },
     "metadata": {},
     "output_type": "display_data"
    }
   ],
   "source": [
    "taylor(-g/l*cos(phi),phi,-pi/2,1).subs({phi:phi-pi/2}).expand().show()"
   ]
  },
  {
   "cell_type": "markdown",
   "metadata": {},
   "source": [
    "\\newpage"
   ]
  }
 ],
 "metadata": {
  "kernelspec": {
   "display_name": "SageMath 8.7",
   "language": "",
   "name": "sagemath"
  },
  "language": "python",
  "language_info": {
   "codemirror_mode": {
    "name": "ipython",
    "version": 2
   },
   "file_extension": ".py",
   "mimetype": "text/x-python",
   "name": "python",
   "nbconvert_exporter": "python",
   "pygments_lexer": "ipython2",
   "version": "2.7.15"
  },
  "nbTranslate": {
   "displayLangs": [
    "en",
    "pl"
   ],
   "hotkey": "alt-t",
   "langInMainMenu": true,
   "sourceLang": "pl",
   "targetLang": "en",
   "useGoogleTranslate": true
  },
  "toc": {
   "base_numbering": 1,
   "nav_menu": {},
   "number_sections": true,
   "sideBar": true,
   "skip_h1_title": false,
   "title_cell": "Table of Contents",
   "title_sidebar": "Contents",
   "toc_cell": false,
   "toc_position": {},
   "toc_section_display": true,
   "toc_window_display": false
  }
 },
 "nbformat": 4,
 "nbformat_minor": 2
}
