{
 "cells": [
  {
   "cell_type": "markdown",
   "metadata": {},
   "source": [
    "# Point particle on rotating curve\n",
    "\n",
    "## Point particle on parabola"
   ]
  },
  {
   "cell_type": "code",
   "execution_count": null,
   "metadata": {},
   "outputs": [],
   "source": [
    "load('cas_utils.sage')"
   ]
  },
  {
   "cell_type": "code",
   "execution_count": null,
   "metadata": {},
   "outputs": [],
   "source": [
    "var('t')\n",
    "var('w0 g')\n",
    "xy_names = [('x','x'),('y','y')]"
   ]
  },
  {
   "cell_type": "code",
   "execution_count": null,
   "metadata": {},
   "outputs": [],
   "source": [
    "to_fun, to_var = make_symbols(xy_names)"
   ]
  },
  {
   "cell_type": "code",
   "execution_count": null,
   "metadata": {},
   "outputs": [],
   "source": [
    "dAlemb = (X.diff(t,2)-x*w0^2)*dx + (Y.diff(t,2)+g)*dy\n",
    "f = 1/2*x^2 - y"
   ]
  },
  {
   "cell_type": "code",
   "execution_count": null,
   "metadata": {},
   "outputs": [],
   "source": [
    "df = diff(f,x)*dx+diff(f,y)*dy"
   ]
  },
  {
   "cell_type": "code",
   "execution_count": null,
   "metadata": {},
   "outputs": [],
   "source": [
    "eq1 = dAlemb.subs(df.solve(dx)).coefficient(dy).subs(to_var)\n",
    "show(eq1)"
   ]
  },
  {
   "cell_type": "code",
   "execution_count": null,
   "metadata": {},
   "outputs": [],
   "source": [
    "eq2 = f.subs(to_fun).diff(t,2).subs(to_var)\n",
    "show(eq2)"
   ]
  },
  {
   "cell_type": "code",
   "execution_count": null,
   "metadata": {},
   "outputs": [],
   "source": [
    "sol = solve( [eq1,eq2],[xdd,ydd])\n",
    "show( sol[0] )"
   ]
  },
  {
   "cell_type": "markdown",
   "metadata": {},
   "source": [
    "    dxy = [vars()['d'+repr(zm)] for zm in xy]\n",
    "    constr = sum([dzm*f.diff(zm) for zm, dzm in zip(xy,dxy)])\n",
    "    show(f)\n",
    "    show(constr)\n",
    "\n",
    "    rown1=(dAlemb.subs(constr.solve(dx)[0])*x).expand().coeff(dy).subs(to_var)\n",
    "    show(rown1)\n",
    "    rown2 = f.subs(to_fun).diff(t,2).subs(to_var)\n",
    "    show(rown2)\n",
    "\n",
    "    sol = solve( [rown1,rown2],[xdd,ydd])\n",
    "    show( sol[0] )"
   ]
  },
  {
   "cell_type": "code",
   "execution_count": null,
   "metadata": {},
   "outputs": [],
   "source": [
    "show( sol[0][0])"
   ]
  },
  {
   "cell_type": "code",
   "execution_count": null,
   "metadata": {},
   "outputs": [],
   "source": [
    "ode=[xd,sol[0][0].rhs().subs({w0:1-0.01,g:1})]\n",
    "show(ode)"
   ]
  },
  {
   "cell_type": "code",
   "execution_count": null,
   "metadata": {},
   "outputs": [],
   "source": [
    "times = srange(0,224,0.01)\n",
    "numsol = desolve_odeint(ode,[0,1],times,[x,xd])\n",
    "p = line(zip(numsol[:,0],numsol[:,1]),figsize=5)\n",
    "p2 = line(zip(times,numsol[:,0]),figsize=5)\n",
    "\n",
    "p.show()\n",
    "p2.show()"
   ]
  },
  {
   "cell_type": "markdown",
   "metadata": {},
   "source": [
    "## Point particle on rotating circle"
   ]
  },
  {
   "cell_type": "code",
   "execution_count": null,
   "metadata": {},
   "outputs": [],
   "source": [
    "var('x y t')\n",
    "var('w0 l g')\n",
    "\n",
    "xy_names = ['x','y']\n",
    "uv_names = [('phi','\\phi')]\n",
    "\n",
    "to_fun, to_var = make_symbols(xy_names,uv_names)"
   ]
  },
  {
   "cell_type": "code",
   "execution_count": null,
   "metadata": {},
   "outputs": [],
   "source": [
    "x2u = {x:-l*sin(phi),y:-l*cos(phi)}"
   ]
  },
  {
   "cell_type": "code",
   "execution_count": null,
   "metadata": {},
   "outputs": [],
   "source": [
    "transform_virtual_displacements(xy_names,uv_names,verbose=True)"
   ]
  },
  {
   "cell_type": "code",
   "execution_count": null,
   "metadata": {},
   "outputs": [],
   "source": [
    "x.subs(x2u).subs(to_fun)"
   ]
  },
  {
   "cell_type": "code",
   "execution_count": null,
   "metadata": {},
   "outputs": [],
   "source": [
    "dAlemb = (x.subs(x2u).subs(to_fun).diff(t,2)-w0^2*x.subs(x2u))*dx_polar + \\\n",
    "         (y.subs(x2u).subs(to_fun).diff(t,2)+g)*dy_polar\n",
    "dAlemb = dAlemb.subs(to_var)\n",
    "show(dAlemb)"
   ]
  },
  {
   "cell_type": "code",
   "execution_count": null,
   "metadata": {},
   "outputs": [],
   "source": [
    "sol = dAlemb.expand().coefficient(dphi).trig_simplify().solve(phidd) \n",
    "show( sol)"
   ]
  },
  {
   "cell_type": "markdown",
   "metadata": {},
   "source": [
    "### Efffective potential"
   ]
  },
  {
   "cell_type": "code",
   "execution_count": null,
   "metadata": {},
   "outputs": [],
   "source": [
    "Ueff = -sol[0].rhs().expand().subs({g:9.81,l:1}).integrate(phi)\n",
    "Ueff"
   ]
  },
  {
   "cell_type": "code",
   "execution_count": null,
   "metadata": {},
   "outputs": [],
   "source": [
    "plot( [Ueff.subs(w0==w0_) for w0_ in [0,4,8,12]], (phi,-pi,pi),\\\n",
    "     legend_label=[0,4,8,12], figsize=(6,3),\\\n",
    "     tick_formatter=[pi,None],ticks=[pi/2,None])"
   ]
  },
  {
   "cell_type": "markdown",
   "metadata": {},
   "source": [
    "### Numerical solutions"
   ]
  },
  {
   "cell_type": "code",
   "execution_count": null,
   "metadata": {},
   "outputs": [],
   "source": [
    "times = srange(0,24,0.01)\n",
    "ode = [phid,sol[0].rhs().subs({l:1,w0:9.81+.2,g:9.81})]\n",
    "show(ode)\n",
    "numsol = desolve_odeint(ode,[0.31,0],times,[phi,phid])\n",
    "p = line(zip(numsol[:,0],numsol[:,1]),figsize=4)\n",
    "p2 = line(zip(times,numsol[:,0]),figsize=4)\n",
    "\n",
    "p.show()\n",
    "p2.show()"
   ]
  },
  {
   "cell_type": "markdown",
   "metadata": {},
   "source": [
    "### Code generation \n",
    "\n",
    "We can readily generate code which can be used in external programs.\n",
    "\n",
    "En example can be found in [simulation and 3d vis](beadk3d.ipynb)\n",
    "\n"
   ]
  },
  {
   "cell_type": "code",
   "execution_count": null,
   "metadata": {},
   "outputs": [],
   "source": [
    "from sympy import ccode"
   ]
  },
  {
   "cell_type": "code",
   "execution_count": null,
   "metadata": {},
   "outputs": [],
   "source": [
    "oderhs = sol[0].rhs()"
   ]
  },
  {
   "cell_type": "code",
   "execution_count": null,
   "metadata": {},
   "outputs": [],
   "source": [
    "ccode(oderhs._sympy_())"
   ]
  },
  {
   "cell_type": "markdown",
   "metadata": {},
   "source": [
    "\\newpage"
   ]
  }
 ],
 "metadata": {
  "kernelspec": {
   "display_name": "SageMath 8.7",
   "language": "",
   "name": "sagemath"
  },
  "language": "python",
  "language_info": {
   "codemirror_mode": {
    "name": "ipython",
    "version": 2
   },
   "file_extension": ".py",
   "mimetype": "text/x-python",
   "name": "python",
   "nbconvert_exporter": "python",
   "pygments_lexer": "ipython2",
   "version": "2.7.15"
  },
  "nbTranslate": {
   "displayLangs": [
    "en",
    "pl"
   ],
   "hotkey": "alt-t",
   "langInMainMenu": true,
   "sourceLang": "pl",
   "targetLang": "en",
   "useGoogleTranslate": true
  },
  "toc": {
   "base_numbering": 1,
   "nav_menu": {},
   "number_sections": true,
   "sideBar": true,
   "skip_h1_title": false,
   "title_cell": "Table of Contents",
   "title_sidebar": "Contents",
   "toc_cell": false,
   "toc_position": {},
   "toc_section_display": true,
   "toc_window_display": false
  }
 },
 "nbformat": 4,
 "nbformat_minor": 2
}
