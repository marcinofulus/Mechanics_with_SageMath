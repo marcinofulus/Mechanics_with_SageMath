{
 "cells": [
  {
   "cell_type": "markdown",
   "metadata": {},
   "source": [
    "# Point particle on rotating curve\n",
    "\n",
    "## Point particle on arbitrary curve\n",
    "\n",
    "\n",
    "Let us assume that point with mass $m=1$ moves freely on a flat curve which spins around vertical axis with angular velocity $\\omega_0$.\n",
    "In general case we have a curve given by an implicit equation in a form:\n",
    "$$ f(x,y) = 0 $$ \n",
    "\n",
    "We can treat the problem in 2d in the rotating frame of reference. However, we need to take into account additional force in non-inertial system which acts in $x$ direction:\n",
    "\n",
    "$$F_x = m x \\omega_0^2.$$\n",
    "\n",
    "\n",
    "\n"
   ]
  },
  {
   "cell_type": "code",
   "execution_count": null,
   "metadata": {},
   "outputs": [],
   "source": [
    "load('cas_utils.sage')"
   ]
  },
  {
   "cell_type": "code",
   "execution_count": null,
   "metadata": {},
   "outputs": [],
   "source": [
    "var('t')\n",
    "var('g')\n",
    "var('w0', latex_name='\\omega_0')\n",
    "xy_names = [('x','x'),('y','y')]"
   ]
  },
  {
   "cell_type": "code",
   "execution_count": null,
   "metadata": {},
   "outputs": [],
   "source": [
    "to_fun, to_var = make_symbols(xy_names)"
   ]
  },
  {
   "cell_type": "markdown",
   "metadata": {},
   "source": [
    "dAlembert principle takes the following form:"
   ]
  },
  {
   "cell_type": "code",
   "execution_count": null,
   "metadata": {},
   "outputs": [],
   "source": [
    "dAlemb = (X.diff(t,2)-x*w0^2)*dx + (Y.diff(t,2)+g)*dy"
   ]
  },
  {
   "cell_type": "code",
   "execution_count": null,
   "metadata": {},
   "outputs": [],
   "source": [
    "showmath(dAlemb.subs(to_var))"
   ]
  },
  {
   "cell_type": "markdown",
   "metadata": {},
   "source": [
    "We will need differential form of contraints, which can also be obtained by computer algebra. \n",
    "We will use implicit equation of a circle of unit radius. In this case we can compare solutions obtained in generic procedure with one computer in generalized coordinates."
   ]
  },
  {
   "cell_type": "code",
   "execution_count": null,
   "metadata": {},
   "outputs": [],
   "source": [
    "f = x^2+ (y-1)^2 - 1\n",
    "\n",
    "plt_constraints = implicit_plot(f,(x,-1,1),(y,0,2),figsize=5,color='gray')\n",
    "plt_constraints"
   ]
  },
  {
   "cell_type": "markdown",
   "metadata": {},
   "source": [
    "We will use constaints to connect variations $\\delta x$ and $\\delta y$ with each other, therefore we use formula for complete differential:"
   ]
  },
  {
   "cell_type": "code",
   "execution_count": null,
   "metadata": {},
   "outputs": [],
   "source": [
    "df = diff(f,x)*dx+diff(f,y)*dy\n",
    "showmath(df)"
   ]
  },
  {
   "cell_type": "markdown",
   "metadata": {},
   "source": [
    "We solve above equation for $\\delta x$ and substitute it to dAlembert equation. Since there is only one variation left, then its coeficcient must be zero. It is a first differential equation.\n"
   ]
  },
  {
   "cell_type": "code",
   "execution_count": null,
   "metadata": {},
   "outputs": [],
   "source": [
    "eq1 = dAlemb.subs(df.solve(dx)).coefficient(dy).subs(to_var)\n",
    "showmath(eq1)"
   ]
  },
  {
   "cell_type": "markdown",
   "metadata": {},
   "source": [
    "The second equation can be obtained, for example by differentiation of contraints in time two times."
   ]
  },
  {
   "cell_type": "code",
   "execution_count": null,
   "metadata": {},
   "outputs": [],
   "source": [
    "eq2 = f.subs(to_fun).diff(t,2).subs(to_var)\n",
    "showmath(eq2)"
   ]
  },
  {
   "cell_type": "markdown",
   "metadata": {},
   "source": [
    "We solve above system for $\\ddot x$ and $\\ddot y$:"
   ]
  },
  {
   "cell_type": "code",
   "execution_count": null,
   "metadata": {},
   "outputs": [],
   "source": [
    "sol = solve( [eq1,eq2], [xdd,ydd])[0]\n",
    "showmath( sol[0] )"
   ]
  },
  {
   "cell_type": "code",
   "execution_count": null,
   "metadata": {},
   "outputs": [],
   "source": [
    "showmath( sol[1] )"
   ]
  },
  {
   "cell_type": "markdown",
   "metadata": {},
   "source": [
    "We are ready to set numerical values of parameters and solve system of ODEs:"
   ]
  },
  {
   "cell_type": "code",
   "execution_count": null,
   "metadata": {},
   "outputs": [],
   "source": [
    "times = srange(0,24,0.01)\n",
    "\n",
    "ode = [xd,yd] + [ sol_.rhs().subs({w0:4.2,g:9.81}) for sol_ in sol]\n",
    "\n",
    "x0 = 0.6\n",
    "y0 = f.subs({x:x0}).solve(y)[1].rhs().n()\n",
    "dx0 = 0.0\n",
    "dy0 = df.subs({x:x0,y:y0,dx:dx0}).solve(dy)[0].rhs().n()\n",
    "\n",
    "numsol = desolve_odeint(ode,[x0,y0,dx0,dy0], times, [x,y,xd,yd])\n",
    "p = line(zip(numsol[:,0],numsol[:,1]), color='red')  \n",
    "p2 = line(zip(times,numsol[:,0]), figsize=5, ymin=-1, ymax=1)\n",
    "\n",
    "(p+plt_constraints).show(title='phase space')\n",
    "p2.show(title=r'$x(t)$')"
   ]
  },
  {
   "cell_type": "markdown",
   "metadata": {},
   "source": [
    "**Experiment with Sage!**\n",
    "\n",
    "Change parameters to see if other types of solution can be found!"
   ]
  },
  {
   "cell_type": "markdown",
   "metadata": {},
   "source": [
    "### Explicit form of contraints\n",
    "\n",
    "If contraits are in explicit for we can simplify the procedure."
   ]
  },
  {
   "cell_type": "code",
   "execution_count": null,
   "metadata": {},
   "outputs": [],
   "source": [
    "# f = 1/2*(x)^2 - y\n",
    "f = 1-sqrt(1-x^2) - y"
   ]
  },
  {
   "cell_type": "code",
   "execution_count": null,
   "metadata": {},
   "outputs": [],
   "source": [
    "df = diff(f,x)*dx+diff(f,y)*dy"
   ]
  },
  {
   "cell_type": "code",
   "execution_count": null,
   "metadata": {},
   "outputs": [],
   "source": [
    "eq1 = dAlemb.subs(df.solve(dx)).coefficient(dy).subs(to_var)\n",
    "showmath(eq1)"
   ]
  },
  {
   "cell_type": "code",
   "execution_count": null,
   "metadata": {},
   "outputs": [],
   "source": [
    "eq2 = f.subs(to_fun).diff(t,2).subs(to_var)\n",
    "showmath(eq2)"
   ]
  },
  {
   "cell_type": "code",
   "execution_count": null,
   "metadata": {},
   "outputs": [],
   "source": [
    "sol = solve( [eq1,eq2], [xdd,ydd])[0]\n",
    "showmath( sol[0] )"
   ]
  },
  {
   "cell_type": "markdown",
   "metadata": {},
   "source": [
    "We see that the first equation does not depent on $y$. We can solve it numericaly."
   ]
  },
  {
   "cell_type": "code",
   "execution_count": null,
   "metadata": {},
   "outputs": [],
   "source": [
    "y_on_curve = y.subs(f.solve(y)[0])"
   ]
  },
  {
   "cell_type": "code",
   "execution_count": null,
   "metadata": {},
   "outputs": [],
   "source": [
    "y_fun = fast_callable(y_on_curve, vars = [x])"
   ]
  },
  {
   "cell_type": "code",
   "execution_count": null,
   "metadata": {},
   "outputs": [],
   "source": [
    "y_fun(numsol[:,0])"
   ]
  },
  {
   "cell_type": "code",
   "execution_count": null,
   "metadata": {},
   "outputs": [],
   "source": [
    "ode = [xd,sol[0].rhs().subs({w0:4.2,g:9.81})]\n",
    "\n",
    "times = srange(0,24,0.01)\n",
    "numsol = desolve_odeint(ode,[.6,.0],times,[x,xd])\n",
    "p = line(zip(numsol[:,0],y_fun(numsol[:,0])),color='red')\n",
    "p2 = line(zip(times,numsol[:,0]),figsize=5,ymin=-1,ymax=1)\n",
    "\n",
    "(p+plt_constraints).show(title='phase space')\n",
    "p2.show(title=r'$x(t)$')\n"
   ]
  },
  {
   "cell_type": "markdown",
   "metadata": {},
   "source": [
    "We see that it was possible to obtain the same solution. However, the implicit form allows to solve the system for  $y>1$. The explicit formulation will fail in wuch a case."
   ]
  },
  {
   "cell_type": "markdown",
   "metadata": {},
   "source": [
    "## Point particle on rotating circle\n",
    "\n",
    "\n",
    "If particle moves on the rotating circle, we can use the symmetry and transform dAlembert principle to  polar coordinates in rotating frame."
   ]
  },
  {
   "cell_type": "code",
   "execution_count": null,
   "metadata": {},
   "outputs": [],
   "source": [
    "var('x y t')\n",
    "var('w0 l g')\n",
    "\n",
    "xy_names = ['x','y']\n",
    "uv_names = [('phi','\\phi')]\n",
    "\n",
    "to_fun, to_var = make_symbols(xy_names,uv_names)"
   ]
  },
  {
   "cell_type": "code",
   "execution_count": null,
   "metadata": {},
   "outputs": [],
   "source": [
    "x2u = {x:l*sin(phi),y:1-l*cos(phi)}"
   ]
  },
  {
   "cell_type": "code",
   "execution_count": null,
   "metadata": {},
   "outputs": [],
   "source": [
    "showmath(x2u)"
   ]
  },
  {
   "cell_type": "code",
   "execution_count": null,
   "metadata": {},
   "outputs": [],
   "source": [
    "transform_virtual_displacements(xy_names,uv_names,verbose=True)"
   ]
  },
  {
   "cell_type": "code",
   "execution_count": null,
   "metadata": {},
   "outputs": [],
   "source": [
    "dAlemb = (x.subs(x2u).subs(to_fun).diff(t,2)-w0^2*x.subs(x2u))*dx_polar + \\\n",
    "         (y.subs(x2u).subs(to_fun).diff(t,2)+g)*dy_polar\n",
    "dAlemb = dAlemb.subs(to_var)\n",
    "show(dAlemb)"
   ]
  },
  {
   "cell_type": "code",
   "execution_count": null,
   "metadata": {},
   "outputs": [],
   "source": [
    "sol = dAlemb.expand().coefficient(dphi).trig_simplify().solve(phidd) \n",
    "show( sol)"
   ]
  },
  {
   "cell_type": "markdown",
   "metadata": {},
   "source": [
    "### Efffective potential\n",
    "\n",
    "In polar coordinates we can analyze the system without solving. Namely we can observe that the generalized force depends only on $\\phi$, thus:\n",
    "\\begin{equation}\n",
    "{\\ddot \\phi} = \\underbrace{\\frac{l {\\omega_0}^{2} \\cos\\left({\\phi}\\right) \\sin\\left({\\phi}\\right) - g \\sin\\left({\\phi}\\right)}{l}}_{-\\displaystyle\\frac{\\partial U_{eff}(\\phi)}{\\partial\\phi}}\n",
    "\\end{equation}\n",
    "\n",
    "we can interpret the equation of motion as a motion in an effective potential. \n",
    "\n",
    "Let's extrat this potential and see how it behaves for different parameters:"
   ]
  },
  {
   "cell_type": "code",
   "execution_count": null,
   "metadata": {},
   "outputs": [],
   "source": [
    "Ueff = -sol[0].rhs().expand().integrate(phi)\n",
    "showmath(Ueff)"
   ]
  },
  {
   "cell_type": "code",
   "execution_count": null,
   "metadata": {},
   "outputs": [],
   "source": [
    "Ueff = -sol[0].rhs().expand().subs({g:9.81,l:1}).integrate(phi)\n",
    "showmath(Ueff)"
   ]
  },
  {
   "cell_type": "code",
   "execution_count": null,
   "metadata": {},
   "outputs": [],
   "source": [
    "plot( [Ueff.subs(w0==w0_) for w0_ in [0,4,8,12]], (phi,-pi,pi),\\\n",
    "     legend_label=[0,4,8,12], figsize=(6,3),\\\n",
    "     tick_formatter=[pi,None],ticks=[pi/2,None])"
   ]
  },
  {
   "cell_type": "markdown",
   "metadata": {},
   "source": [
    "### Numerical solutions"
   ]
  },
  {
   "cell_type": "code",
   "execution_count": null,
   "metadata": {},
   "outputs": [],
   "source": [
    "arcsin(0.4)"
   ]
  },
  {
   "cell_type": "code",
   "execution_count": null,
   "metadata": {},
   "outputs": [],
   "source": [
    "times = srange(0,24,0.01)\n",
    "pars = {l:1, w0:4.2, g:9.81}\n",
    "\n",
    "x_phi = fast_callable( x.subs(x2u).subs(pars),vars=[phi])\n",
    "y_phi = fast_callable( y.subs(x2u).subs(pars),vars=[phi])\n",
    "\n",
    "ode = [phid,sol[0].rhs().subs(pars)]\n",
    "show(ode)\n",
    "numsol = desolve_odeint(ode,[arcsin(0.6),0],times,[phi,phid])\n",
    "p = line(zip(x_phi(numsol[:,0]),y_phi(numsol[:,0])),color='red')\n",
    "p2 = line(zip(times,x_phi(numsol[:,0])),figsize=4,ymin=-pi/2,ymax=pi/2)\n",
    "\n",
    "(p+plt_constraints).show()\n",
    "p2.show()"
   ]
  },
  {
   "cell_type": "markdown",
   "metadata": {},
   "source": [
    "## Lagrange approach\n",
    "\n",
    "### Rotating system of coordinates\n",
    "\n",
    "In a rotating system of coordinates, the bead moves on the circle in $(x,y)$ plane. At the same time there is a rotation with angular velocity $\\omega_0$ around vetical axis. It means that a bead will have addtional velocity, perpedicular to $(x,y)$ plane, which magnitute is:\n",
    "$$\n",
    "v_{rot} = x\\omega_0 = l {\\omega_0} \\sin\\left({\\phi}\\right)\n",
    "$$"
   ]
  },
  {
   "cell_type": "code",
   "execution_count": null,
   "metadata": {},
   "outputs": [],
   "source": [
    "Ek = 1/2*sum([x_.subs(x2u).subs(to_fun).diff(t).subs(to_var)^2 for x_ in [x,y]])\n",
    "Ek += 1/2*(x.subs(x2u)*w0)^2\n",
    "Ek = Ek.trig_simplify()\n",
    "showmath(Ek)"
   ]
  },
  {
   "cell_type": "code",
   "execution_count": null,
   "metadata": {},
   "outputs": [],
   "source": [
    "Ep = g*y.subs(x2u)\n",
    "showmath(Ep)"
   ]
  },
  {
   "cell_type": "code",
   "execution_count": null,
   "metadata": {},
   "outputs": [],
   "source": [
    "L = Ek-Ep\n",
    "showmath(L)"
   ]
  },
  {
   "cell_type": "code",
   "execution_count": null,
   "metadata": {},
   "outputs": [],
   "source": [
    "EL = L.diff(phid).subs(to_fun).diff(t).subs(to_var) - L.diff(phi)"
   ]
  },
  {
   "cell_type": "code",
   "execution_count": null,
   "metadata": {},
   "outputs": [],
   "source": [
    "showmath(EL)"
   ]
  },
  {
   "cell_type": "markdown",
   "metadata": {},
   "source": [
    "\n",
    "### Code generation \n",
    "\n",
    "We can readily generate code which can be used in external programs.\n",
    "\n",
    "En example can be found in [simulation and 3d vis](beadk3d.ipynb)\n",
    "\n"
   ]
  },
  {
   "cell_type": "code",
   "execution_count": null,
   "metadata": {},
   "outputs": [],
   "source": [
    "from sympy import ccode\n",
    "oderhs = sol[0].rhs()\n",
    "ccode(oderhs._sympy_())"
   ]
  },
  {
   "cell_type": "markdown",
   "metadata": {},
   "source": [
    "\\newpage"
   ]
  }
 ],
 "metadata": {
  "kernelspec": {
   "display_name": "SageMath 8.6",
   "language": "",
   "name": "sagemath"
  },
  "language": "python",
  "language_info": {
   "codemirror_mode": {
    "name": "ipython",
    "version": 2
   },
   "file_extension": ".py",
   "mimetype": "text/x-python",
   "name": "python",
   "nbconvert_exporter": "python",
   "pygments_lexer": "ipython2",
   "version": "2.7.15"
  },
  "nbTranslate": {
   "displayLangs": [
    "en",
    "pl"
   ],
   "hotkey": "alt-t",
   "langInMainMenu": true,
   "sourceLang": "pl",
   "targetLang": "en",
   "useGoogleTranslate": true
  },
  "toc": {
   "base_numbering": 1,
   "nav_menu": {},
   "number_sections": true,
   "sideBar": true,
   "skip_h1_title": false,
   "title_cell": "Table of Contents",
   "title_sidebar": "Contents",
   "toc_cell": false,
   "toc_position": {},
   "toc_section_display": true,
   "toc_window_display": false
  }
 },
 "nbformat": 4,
 "nbformat_minor": 2
}
