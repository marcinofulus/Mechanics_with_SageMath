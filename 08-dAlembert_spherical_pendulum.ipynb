{
 "cells": [
  {
   "cell_type": "markdown",
   "metadata": {},
   "source": [
    "# Spherical pendulum"
   ]
  },
  {
   "cell_type": "code",
   "execution_count": null,
   "metadata": {},
   "outputs": [],
   "source": [
    "import numpy as np"
   ]
  },
  {
   "cell_type": "code",
   "execution_count": null,
   "metadata": {},
   "outputs": [],
   "source": [
    "var('t')\n",
    "var('l g')\n",
    "xy_names = [('x','x'),('y','y'),('z','z')]\n",
    "uv_names = [('r','r'),('phi',r'\\phi'),('theta',r'\\theta')]\n",
    "\n",
    "load('cas_utils.sage')"
   ]
  },
  {
   "cell_type": "code",
   "execution_count": null,
   "metadata": {},
   "outputs": [],
   "source": [
    "to_fun, to_var = make_symbols(xy_names,uv_names)"
   ]
  },
  {
   "cell_type": "code",
   "execution_count": null,
   "metadata": {},
   "outputs": [],
   "source": [
    "x2u = {x:l*sin(theta)*cos(phi),y: l*sin(theta)*sin(phi),z: l*cos(theta)}"
   ]
  },
  {
   "cell_type": "code",
   "execution_count": null,
   "metadata": {},
   "outputs": [],
   "source": [
    "transform_virtual_displacements(xy_names,uv_names,suffix='_uv')"
   ]
  },
  {
   "cell_type": "code",
   "execution_count": null,
   "metadata": {},
   "outputs": [],
   "source": [
    "dx_uv"
   ]
  },
  {
   "cell_type": "code",
   "execution_count": null,
   "metadata": {},
   "outputs": [],
   "source": []
  },
  {
   "cell_type": "code",
   "execution_count": null,
   "metadata": {},
   "outputs": [],
   "source": [
    "dAlemb = (x.subs(x2u).subs(to_fun).diff(t,2))*dx_uv + \\\n",
    "         (y.subs(x2u).subs(to_fun).diff(t,2))*dy_uv + \\\n",
    "         (z.subs(x2u).subs(to_fun).diff(t,2)+g)*dz_uv  \n",
    "dAlemb = dAlemb.subs(to_var)"
   ]
  },
  {
   "cell_type": "code",
   "execution_count": null,
   "metadata": {},
   "outputs": [],
   "source": [
    "show(dAlemb)"
   ]
  },
  {
   "cell_type": "code",
   "execution_count": null,
   "metadata": {},
   "outputs": [],
   "source": [
    "sol = solve(\\\n",
    "    [dAlemb.expand().coefficient(dtheta).trig_simplify(),\\\n",
    "      dAlemb.expand().coefficient(dphi).trig_simplify()],\\\n",
    "            [phidd,thetadd])[0]"
   ]
  },
  {
   "cell_type": "code",
   "execution_count": null,
   "metadata": {},
   "outputs": [],
   "source": [
    "show(sol)"
   ]
  },
  {
   "cell_type": "code",
   "execution_count": null,
   "metadata": {},
   "outputs": [],
   "source": [
    "ode = [phid,thetad]+[s.rhs() for s in sol]\n",
    "show(ode )"
   ]
  },
  {
   "cell_type": "code",
   "execution_count": null,
   "metadata": {},
   "outputs": [],
   "source": [
    "ode=map(lambda x:x.subs({l:1,g:1}),ode)\n",
    "show(ode)\n",
    "times = srange(0,237,.1)\n",
    "numsol=desolve_odeint(ode,[0,pi/2-0.3,1,0],times,[phi,theta,phid,thetad])\n",
    "#p=point(zip(np.fmod(numsol[:,0],(2*pi).n())-pi,numsol[:,1]),figsize=5)#,aspect_ratio=1)\n",
    "p = line ( zip(np.sin(numsol[:,1])*np.cos(numsol[:,0]),np.sin(numsol[:,0])*np.sin(numsol[:,1])) )\n",
    "p.show()"
   ]
  },
  {
   "cell_type": "markdown",
   "metadata": {},
   "source": [
    "$$ r =\\sqrt{x^2 + y^2 + z^2}$$ $$\\phi=\\mathrm{arctg}\\frac{y}{x }$$  $$\\theta=\\arcsin\\frac{z}{r}$$"
   ]
  },
  {
   "cell_type": "code",
   "execution_count": null,
   "metadata": {},
   "outputs": [],
   "source": [
    "p3d = line3d( zip(np.sin(numsol[:,1])*np.cos(numsol[:,0]),np.sin(numsol[:,0])*np.sin(numsol[:,1]),np.cos(numsol[:,1])),thickness=2,color='red')\n",
    "p3d += sphere(opacity=0.5) \n",
    "p3d.show(viewer='tachyon')"
   ]
  },
  {
   "cell_type": "markdown",
   "metadata": {},
   "source": [
    "\\newpage"
   ]
  }
 ],
 "metadata": {
  "kernelspec": {
   "display_name": "SageMath 8.7",
   "language": "",
   "name": "sagemath"
  },
  "language": "python",
  "language_info": {
   "codemirror_mode": {
    "name": "ipython",
    "version": 2
   },
   "file_extension": ".py",
   "mimetype": "text/x-python",
   "name": "python",
   "nbconvert_exporter": "python",
   "pygments_lexer": "ipython2",
   "version": "2.7.15"
  },
  "nbTranslate": {
   "displayLangs": [
    "en",
    "pl"
   ],
   "hotkey": "alt-t",
   "langInMainMenu": true,
   "sourceLang": "pl",
   "targetLang": "en",
   "useGoogleTranslate": true
  },
  "toc": {
   "base_numbering": 1,
   "nav_menu": {},
   "number_sections": true,
   "sideBar": true,
   "skip_h1_title": false,
   "title_cell": "Table of Contents",
   "title_sidebar": "Contents",
   "toc_cell": false,
   "toc_position": {},
   "toc_section_display": true,
   "toc_window_display": false
  }
 },
 "nbformat": 4,
 "nbformat_minor": 2
}
