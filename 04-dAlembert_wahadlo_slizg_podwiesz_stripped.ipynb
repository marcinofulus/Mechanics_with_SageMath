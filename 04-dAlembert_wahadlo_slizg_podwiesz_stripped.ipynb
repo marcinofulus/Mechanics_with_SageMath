{
 "cells": [
  {
   "cell_type": "markdown",
   "metadata": {
    "lang": "en"
   },
   "source": [
    "# A pendulum with a slipping suspension point  "
   ]
  },
  {
   "cell_type": "markdown",
   "metadata": {
    "lang": "en"
   },
   "source": [
    "A pendulum with a slipping point of suspension\n",
    "\n",
    "Consider a pendulum for which the suspension point can move horizontally freely."
   ]
  },
  {
   "cell_type": "code",
   "execution_count": 1,
   "metadata": {},
   "outputs": [],
   "source": [
    "load('cas_utils.sage')"
   ]
  },
  {
   "cell_type": "code",
   "execution_count": 2,
   "metadata": {},
   "outputs": [
    {
     "name": "stdout",
     "output_type": "stream",
     "text": [
      "phi  :: has been  processed\n",
      "x  :: has been  processed\n",
      "x1  :: has been  processed\n",
      "y1  :: has been  processed\n",
      "x2  :: has been  processed\n",
      "y2  :: has been  processed\n"
     ]
    }
   ],
   "source": [
    "var('t')\n",
    "var('l g m1 m2')\n",
    "\n",
    "xy_wsp = [('x1','x_1'),('y1','y_1'),('x2','x_2'),('y2','y_2')]\n",
    "\n",
    "uv_wsp = [('phi','\\phi'),('x','x')]\n",
    "\n",
    "to_fun, to_var = make_symbols(xy_wsp, uv_wsp)"
   ]
  },
  {
   "cell_type": "markdown",
   "metadata": {
    "lang": "en"
   },
   "source": [
    "## Equations of motion in a Cartesian system\n",
    "Let us derive the equations of motion in the Cartesian system. Let's start with the d'Alembert rule:"
   ]
  },
  {
   "cell_type": "code",
   "execution_count": 4,
   "metadata": {},
   "outputs": [
    {
     "data": {
      "text/latex": [
       "$${\\delta x_1} m_{1} {\\ddot x_1} + {\\delta x_2} m_{2} {\\ddot x_2} + {\\left(g m_{1} + m_{1} {\\ddot y_1}\\right)} {\\delta y_1} + {\\left(g m_{2} + m_{2} {\\ddot y_2}\\right)} {\\delta y_2}$$"
      ],
      "text/plain": [
       "<IPython.core.display.Math object>"
      ]
     },
     "execution_count": 4,
     "metadata": {},
     "output_type": "execute_result"
    }
   ],
   "source": [
    "dAlemb = (m1*x1.subs(to_fun).diff(t,2))*dx1 + \\\n",
    "         (m1*y1.subs(to_fun).diff(t,2)+m1*g)*dy1+\\\n",
    "         (m2*x2.subs(to_fun).diff(t,2))*dx2 + \\\n",
    "         (m2*y2.subs(to_fun).diff(t,2)+m2*g)*dy2\n",
    "dAlemb = dAlemb.subs(to_var)\n",
    "showmath(dAlemb)"
   ]
  },
  {
   "cell_type": "markdown",
   "metadata": {
    "lang": "en"
   },
   "source": [
    "Equations of constraints for the system are:\n",
    "\n",
    " - $y_1=0$\n",
    " - $(x_1-x_2)^2+(y_1-y_2)^2=l^2$\n",
    "\n",
    "We calculate the variation of constraint equations (ie we present constraints in a differential form) using the formulas:\n",
    "$$\\delta f  = \\frac{\\partial f}{\\partial x_1}\\delta x_1 +\\frac{\\partial f}{\\partial x_2}\\delta x_2 + \\frac{\\partial f}{\\partial y_1}\\delta y_1 +\\frac{\\partial f}{\\partial y_2}\\delta y_2$$\n",
    "This difference is analogous to a general differential with the difference that time is treated as a constant."
   ]
  },
  {
   "cell_type": "code",
   "execution_count": 5,
   "metadata": {},
   "outputs": [
    {
     "data": {
      "text/latex": [
       "$$2 \\, {\\delta x_1} {\\left({x_1} - {x_2}\\right)} - 2 \\, {\\delta x_2} {\\left({x_1} - {x_2}\\right)} + 2 \\, {\\delta y_1} {\\left({y_1} - {y_2}\\right)} - 2 \\, {\\delta y_2} {\\left({y_1} - {y_2}\\right)}$$"
      ],
      "text/plain": [
       "<IPython.core.display.Math object>"
      ]
     },
     "execution_count": 5,
     "metadata": {},
     "output_type": "execute_result"
    }
   ],
   "source": [
    "f = (x1-x2)^2+(y1-y2)^2-l^2\n",
    "df = f.diff(x1)*dx1 + f.diff(x2)*dx2 + f.diff(y1)*dy1 + f.diff(y2)*dy2\n",
    "showmath(df)"
   ]
  },
  {
   "cell_type": "code",
   "execution_count": 5,
   "metadata": {},
   "outputs": [],
   "source": [
    "# wzor na df mozna zautomatyzowac w nastepujacy sposob\n",
    "# df = sum([f.diff(w)*vars()['d'+repr(w)] for w in xy])"
   ]
  },
  {
   "cell_type": "markdown",
   "metadata": {
    "lang": "en"
   },
   "source": [
    "We substitute  $\\delta y_1 = 0$ and $y_1 = 0$ and then calculate $\\delta y_2$ as a function of $\\delta x_1$ and $\\delta x_2$:"
   ]
  },
  {
   "cell_type": "code",
   "execution_count": 6,
   "metadata": {},
   "outputs": [
    {
     "data": {
      "text/latex": [
       "$$-\\frac{{\\left({\\delta x_1} - {\\delta x_2}\\right)} {x_1} - {\\left({\\delta x_1} - {\\delta x_2}\\right)} {x_2}}{{y_2}}$$"
      ],
      "text/plain": [
       "<IPython.core.display.Math object>"
      ]
     },
     "execution_count": 6,
     "metadata": {},
     "output_type": "execute_result"
    }
   ],
   "source": [
    "dy2_wiezy = df.subs({dy1:0,y1:0}).solve(dy2)[0].rhs()\n",
    "showmath( dy2_wiezy )"
   ]
  },
  {
   "cell_type": "markdown",
   "metadata": {
    "lang": "pl"
   },
   "source": [
    "By substituting the term d'Alembert for the $\\delta y_2$ expression as a function of the other shifts and $\\delta y_1=0$, we get:"
   ]
  },
  {
   "cell_type": "code",
   "execution_count": 7,
   "metadata": {},
   "outputs": [
    {
     "data": {
      "text/latex": [
       "$${\\delta x_1} m_{1} {\\ddot x_1} + {\\delta x_2} m_{2} {\\ddot x_2} - \\frac{{\\left(g m_{2} + m_{2} {\\ddot y_2}\\right)} {\\left({\\left({\\delta x_1} - {\\delta x_2}\\right)} {x_1} - {\\left({\\delta x_1} - {\\delta x_2}\\right)} {x_2}\\right)}}{{y_2}}$$"
      ],
      "text/plain": [
       "<IPython.core.display.Math object>"
      ]
     },
     "execution_count": 7,
     "metadata": {},
     "output_type": "execute_result"
    }
   ],
   "source": [
    "showmath(  dAlemb.subs({dy2:dy2_wiezy,dy1:0}) )"
   ]
  },
  {
   "cell_type": "markdown",
   "metadata": {
    "lang": "pl"
   },
   "source": [
    "Możemy teraz pomnożyć tak otrzymaną zasadę d'Alemberta przez $y_2$ oraz wyciągnąć przed nawias współczynniki przy niezależnych przesunięciach $\\delta x_1$ oraz $\\delta x_2$."
   ]
  },
  {
   "cell_type": "markdown",
   "metadata": {
    "lang": "en"
   },
   "source": [
    "We can now multiply the so-obtained d'Alembert rule by $y_2$ and take parentheses with independent $\\delta x_1$ and $\\delta x_2$ offsets."
   ]
  },
  {
   "cell_type": "code",
   "execution_count": 8,
   "metadata": {},
   "outputs": [
    {
     "data": {
      "text/latex": [
       "$$-{\\left(g m_{2} {x_1} - g m_{2} {x_2} - m_{1} {\\ddot x_1} {y_2} + m_{2} {x_1} {\\ddot y_2} - m_{2} {x_2} {\\ddot y_2}\\right)} {\\delta x_1} + {\\left(g m_{2} {x_1} - g m_{2} {x_2} + m_{2} {\\ddot x_2} {y_2} + m_{2} {x_1} {\\ddot y_2} - m_{2} {x_2} {\\ddot y_2}\\right)} {\\delta x_2}$$"
      ],
      "text/plain": [
       "<IPython.core.display.Math object>"
      ]
     },
     "execution_count": 8,
     "metadata": {},
     "output_type": "execute_result"
    }
   ],
   "source": [
    "showmath(  (dAlemb.subs({dy2:dy2_wiezy,dy1:0})*y2).expand().collect(dx1).collect(dx2) )"
   ]
  },
  {
   "cell_type": "markdown",
   "metadata": {
    "lang": "en"
   },
   "source": [
    "Because the $\\delta x_1$ and $\\delta x_2$ virtual offsets are completely arbitrary (we have already used the dependency using constraints equations), both coefficients next to them must disappear so that the entire expression will be zeroed identically. In this way, we get two differential equations, which together with equations of constants describe the dynamics of our system:"
   ]
  },
  {
   "cell_type": "code",
   "execution_count": 12,
   "metadata": {},
   "outputs": [
    {
     "data": {
      "text/latex": [
       "$$-g m_{2} {x_1} + g m_{2} {x_2} + m_{1} {\\ddot x_1} {y_2} - m_{2} {x_1} {\\ddot y_2} + m_{2} {x_2} {\\ddot y_2}$$"
      ],
      "text/plain": [
       "<IPython.core.display.Math object>"
      ]
     },
     "execution_count": 12,
     "metadata": {},
     "output_type": "execute_result"
    }
   ],
   "source": [
    "r1 = (dAlemb.subs({dy2:dy2_wiezy,dy1:0})*y2).expand().coefficient(dx1) \n",
    "r2 = (dAlemb.subs({dy2:dy2_wiezy,dy1:0})*y2).expand().coefficient(dx2)\n",
    "showmath( r1 )\n"
   ]
  },
  {
   "cell_type": "code",
   "execution_count": 13,
   "metadata": {},
   "outputs": [
    {
     "data": {
      "text/latex": [
       "$$g m_{2} {x_1} - g m_{2} {x_2} + m_{2} {\\ddot x_2} {y_2} + m_{2} {x_1} {\\ddot y_2} - m_{2} {x_2} {\\ddot y_2}$$"
      ],
      "text/plain": [
       "<IPython.core.display.Math object>"
      ]
     },
     "execution_count": 13,
     "metadata": {},
     "output_type": "execute_result"
    }
   ],
   "source": [
    "showmath( r2 )"
   ]
  },
  {
   "cell_type": "markdown",
   "metadata": {
    "lang": "en"
   },
   "source": [
    "In order to be able to apply a numerical procedure to the above equations, the equation resulting from the differentiation of constraints comes:"
   ]
  },
  {
   "cell_type": "code",
   "execution_count": 14,
   "metadata": {},
   "outputs": [
    {
     "data": {
      "text/latex": [
       "$$2 \\, {\\left({\\dot x_1} - {\\dot x_2}\\right)}^{2} + 2 \\, {\\left({x_1} - {x_2}\\right)} {\\left({\\ddot x_1} - {\\ddot x_2}\\right)} + 2 \\, {\\dot y_2}^{2} + 2 \\, {y_2} {\\ddot y_2}$$"
      ],
      "text/plain": [
       "<IPython.core.display.Math object>"
      ]
     },
     "execution_count": 14,
     "metadata": {},
     "output_type": "execute_result"
    }
   ],
   "source": [
    "r3 = f.subs({y1:0}).subs(to_fun).diff(t,2).subs(to_var)\n",
    "showmath( r3 )"
   ]
  },
  {
   "cell_type": "markdown",
   "metadata": {
    "lang": "en"
   },
   "source": [
    "The above three equations can be solved on $\\ddot x_1$, $\\ddot x_2$, $\\ddot y_1$ and explicitly write a system of second degree equations that is directly applicable to numerical resolution:"
   ]
  },
  {
   "cell_type": "code",
   "execution_count": 18,
   "metadata": {},
   "outputs": [],
   "source": [
    "sol =  solve([r1,r2,r3],[x1dd,x2dd,y2dd])[0]"
   ]
  },
  {
   "cell_type": "code",
   "execution_count": 21,
   "metadata": {},
   "outputs": [
    {
     "data": {
      "text/latex": [
       "$${\\ddot x_1} = -\\frac{{\\left({\\dot x_1}^{2} - 2 \\, {\\dot x_1} {\\dot x_2} + {\\dot x_2}^{2} + {\\dot y_2}^{2}\\right)} m_{2} {x_1} - {\\left({\\dot x_1}^{2} - 2 \\, {\\dot x_1} {\\dot x_2} + {\\dot x_2}^{2} + {\\dot y_2}^{2}\\right)} m_{2} {x_2} - {\\left(g m_{2} {x_1} - g m_{2} {x_2}\\right)} {y_2}}{{\\left(m_{1} + m_{2}\\right)} {x_1}^{2} - 2 \\, {\\left(m_{1} + m_{2}\\right)} {x_1} {x_2} + {\\left(m_{1} + m_{2}\\right)} {x_2}^{2} + m_{1} {y_2}^{2}}$$"
      ],
      "text/plain": [
       "<IPython.core.display.Math object>"
      ]
     },
     "execution_count": 21,
     "metadata": {},
     "output_type": "execute_result"
    }
   ],
   "source": [
    "showmath(sol[0])"
   ]
  },
  {
   "cell_type": "code",
   "execution_count": 22,
   "metadata": {},
   "outputs": [
    {
     "data": {
      "text/latex": [
       "$${\\ddot x_2} = \\frac{{\\left({\\dot x_1}^{2} - 2 \\, {\\dot x_1} {\\dot x_2} + {\\dot x_2}^{2} + {\\dot y_2}^{2}\\right)} m_{1} {x_1} - {\\left({\\dot x_1}^{2} - 2 \\, {\\dot x_1} {\\dot x_2} + {\\dot x_2}^{2} + {\\dot y_2}^{2}\\right)} m_{1} {x_2} - {\\left(g m_{1} {x_1} - g m_{1} {x_2}\\right)} {y_2}}{{\\left(m_{1} + m_{2}\\right)} {x_1}^{2} - 2 \\, {\\left(m_{1} + m_{2}\\right)} {x_1} {x_2} + {\\left(m_{1} + m_{2}\\right)} {x_2}^{2} + m_{1} {y_2}^{2}}$$"
      ],
      "text/plain": [
       "<IPython.core.display.Math object>"
      ]
     },
     "execution_count": 22,
     "metadata": {},
     "output_type": "execute_result"
    }
   ],
   "source": [
    "showmath(sol[1])"
   ]
  },
  {
   "cell_type": "code",
   "execution_count": 23,
   "metadata": {},
   "outputs": [
    {
     "data": {
      "text/latex": [
       "$${\\ddot y_2} = -\\frac{{\\left(g m_{1} + g m_{2}\\right)} {x_1}^{2} - 2 \\, {\\left(g m_{1} + g m_{2}\\right)} {x_1} {x_2} + {\\left(g m_{1} + g m_{2}\\right)} {x_2}^{2} + {\\left({\\dot x_1}^{2} - 2 \\, {\\dot x_1} {\\dot x_2} + {\\dot x_2}^{2} + {\\dot y_2}^{2}\\right)} m_{1} {y_2}}{{\\left(m_{1} + m_{2}\\right)} {x_1}^{2} - 2 \\, {\\left(m_{1} + m_{2}\\right)} {x_1} {x_2} + {\\left(m_{1} + m_{2}\\right)} {x_2}^{2} + m_{1} {y_2}^{2}}$$"
      ],
      "text/plain": [
       "<IPython.core.display.Math object>"
      ]
     },
     "execution_count": 23,
     "metadata": {},
     "output_type": "execute_result"
    }
   ],
   "source": [
    "showmath(sol[2])"
   ]
  },
  {
   "cell_type": "markdown",
   "metadata": {},
   "source": [
    " \n",
    "\n",
    "\n",
    " "
   ]
  },
  {
   "cell_type": "markdown",
   "metadata": {
    "lang": "en"
   },
   "source": [
    "### Equations of motion in a system consistent with constraints\n",
    "A much better idea is to solve the above problem in coordinates consistent with constraints. In this case, we will not have to additionally create a differential equation from the equation of constraints, the number of equations will be equal to the number of degrees of freedom (including cases 2). In addition, any solution to the system of differential equations will be"
   ]
  },
  {
   "cell_type": "code",
   "execution_count": 24,
   "metadata": {},
   "outputs": [
    {
     "data": {
      "text/latex": [
       "$$\\left\\{{y_1} : 0, {y_2} : -l \\cos\\left({\\phi}\\right), {x_1} : {x}, {x_2} : l \\sin\\left({\\phi}\\right) + {x}\\right\\}$$"
      ],
      "text/plain": [
       "<IPython.core.display.Math object>"
      ]
     },
     "execution_count": 24,
     "metadata": {},
     "output_type": "execute_result"
    }
   ],
   "source": [
    "x2u = {x1:x,x2:x+l*sin(phi),y2:-l*cos(phi),y1:0} \n",
    "showmath(x2u)"
   ]
  },
  {
   "cell_type": "markdown",
   "metadata": {
    "lang": "en"
   },
   "source": [
    "To go to the description of the system in such parameterization:\n",
    "\n",
    " - save $\\ddot x_i - F_i$ expressions in new variables.\n",
    " - save $\\delta x_1,\\delta y_1,\\delta y_2,\\delta y_2$ virtual shifts as shifting functions in new $\\delta x,\\delta\\phi$ variables using the formulas:\n",
    "\n",
    "\n",
    "\n",
    "$$ \\delta x_1 = \\frac{\\partial x_1}{\\partial x}\\delta x + \\frac{\\partial x_1}{\\partial \\phi}\\delta \\phi$$\n",
    "\n",
    "In order to execute the second point, let's define the 'dx1_polar' variables in Sage ... which are the expression of virtual offsets in the new parameterization:"
   ]
  },
  {
   "cell_type": "code",
   "execution_count": 25,
   "metadata": {},
   "outputs": [
    {
     "name": "stdout",
     "output_type": "stream",
     "text": [
      "dx1_polar : is added to namespace\n"
     ]
    },
    {
     "data": {
      "text/html": [
       "<html><script type=\"math/tex; mode=display\">\\newcommand{\\Bold}[1]{\\mathbf{#1}}\\left[{\\delta x_1}, {\\delta x}\\right]</script></html>"
      ],
      "text/plain": [
       "[dx1, dx]"
      ]
     },
     "metadata": {},
     "output_type": "display_data"
    },
    {
     "name": "stdout",
     "output_type": "stream",
     "text": [
      "dy1_polar : is added to namespace\n"
     ]
    },
    {
     "data": {
      "text/html": [
       "<html><script type=\"math/tex; mode=display\">\\newcommand{\\Bold}[1]{\\mathbf{#1}}\\left[{\\delta y_1}, 0\\right]</script></html>"
      ],
      "text/plain": [
       "[dy1, 0]"
      ]
     },
     "metadata": {},
     "output_type": "display_data"
    },
    {
     "name": "stdout",
     "output_type": "stream",
     "text": [
      "dx2_polar : is added to namespace\n"
     ]
    },
    {
     "data": {
      "text/html": [
       "<html><script type=\"math/tex; mode=display\">\\newcommand{\\Bold}[1]{\\mathbf{#1}}\\left[{\\delta x_2}, {\\delta \\phi} l \\cos\\left({\\phi}\\right) + {\\delta x}\\right]</script></html>"
      ],
      "text/plain": [
       "[dx2, dphi*l*cos(phi) + dx]"
      ]
     },
     "metadata": {},
     "output_type": "display_data"
    },
    {
     "name": "stdout",
     "output_type": "stream",
     "text": [
      "dy2_polar : is added to namespace\n"
     ]
    },
    {
     "data": {
      "text/html": [
       "<html><script type=\"math/tex; mode=display\">\\newcommand{\\Bold}[1]{\\mathbf{#1}}\\left[{\\delta y_2}, {\\delta \\phi} l \\sin\\left({\\phi}\\right)\\right]</script></html>"
      ],
      "text/plain": [
       "[dy2, dphi*l*sin(phi)]"
      ]
     },
     "metadata": {},
     "output_type": "display_data"
    },
    {
     "data": {
      "text/plain": [
       "[dx, 0, dphi*l*cos(phi) + dx, dphi*l*sin(phi)]"
      ]
     },
     "execution_count": 25,
     "metadata": {},
     "output_type": "execute_result"
    }
   ],
   "source": [
    "transform_virtual_displacements(xy_wsp, uv_wsp, verbose=True)"
   ]
  },
  {
   "cell_type": "markdown",
   "metadata": {
    "lang": "en"
   },
   "source": [
    "The first point requires the transformation of the second Cartesian coordinate derivatives to the new parameterization. We can do this for every variable, let's take $x_1$ for example:\n",
    "\n",
    " - we change coordinates to new ones\n",
    " - we change algebraic variables into time functions\n",
    " - we count the derivative over time\n",
    " - we are going back to algebraic variables"
   ]
  },
  {
   "cell_type": "code",
   "execution_count": 26,
   "metadata": {},
   "outputs": [
    {
     "data": {
      "text/latex": [
       "$$-l {\\dot \\phi}^{2} \\sin\\left({\\phi}\\right) + l {\\ddot \\phi} \\cos\\left({\\phi}\\right) + {\\ddot x}$$"
      ],
      "text/plain": [
       "<IPython.core.display.Math object>"
      ]
     },
     "execution_count": 26,
     "metadata": {},
     "output_type": "execute_result"
    }
   ],
   "source": [
    "showmath( x2.subs(x2u).subs(to_fun).diff(t,2).subs(to_var) )"
   ]
  },
  {
   "cell_type": "markdown",
   "metadata": {
    "lang": "en"
   },
   "source": [
    "Using this technique, we can rewrite the d'Alembert principle for our problem:"
   ]
  },
  {
   "cell_type": "code",
   "execution_count": 27,
   "metadata": {},
   "outputs": [],
   "source": [
    "dAlemb = (m1*x1.subs(x2u).subs(to_fun).diff(t,2)  )*dx1_polar + \\\n",
    "         (m1*y1.subs(x2u).subs(to_fun).diff(t,2)+m1*g)*dy1_polar + \\\n",
    "         (m2*x2.subs(x2u).subs(to_fun).diff(t,2)  )*dx2_polar + \\\n",
    "         (m2*y2.subs(x2u).subs(to_fun).diff(t,2)+m2*g)*dy2_polar\n",
    "dAlemb = dAlemb.subs(to_var)"
   ]
  },
  {
   "cell_type": "markdown",
   "metadata": {
    "lang": "en"
   },
   "source": [
    "It looks like this:"
   ]
  },
  {
   "cell_type": "code",
   "execution_count": 28,
   "metadata": {},
   "outputs": [
    {
     "data": {
      "text/latex": [
       "$${\\left({\\left(l {\\dot \\phi}^{2} \\cos\\left({\\phi}\\right) + l {\\ddot \\phi} \\sin\\left({\\phi}\\right)\\right)} m_{2} + g m_{2}\\right)} {\\delta \\phi} l \\sin\\left({\\phi}\\right) - {\\left(l {\\dot \\phi}^{2} \\sin\\left({\\phi}\\right) - l {\\ddot \\phi} \\cos\\left({\\phi}\\right) - {\\ddot x}\\right)} {\\left({\\delta \\phi} l \\cos\\left({\\phi}\\right) + {\\delta x}\\right)} m_{2} + {\\delta x} m_{1} {\\ddot x}$$"
      ],
      "text/plain": [
       "<IPython.core.display.Math object>"
      ]
     },
     "execution_count": 28,
     "metadata": {},
     "output_type": "execute_result"
    }
   ],
   "source": [
    "showmath(dAlemb)"
   ]
  },
  {
   "cell_type": "markdown",
   "metadata": {
    "lang": "en"
   },
   "source": [
    "As in the previous case, the coefficients at $\\delta x$ and $\\delta \\phi$ must be zeroed, which implies giving us two conditions that are the equations of motion:"
   ]
  },
  {
   "cell_type": "code",
   "execution_count": 29,
   "metadata": {},
   "outputs": [
    {
     "data": {
      "text/latex": [
       "$$-l m_{2} {\\dot \\phi}^{2} \\sin\\left({\\phi}\\right) + l m_{2} {\\ddot \\phi} \\cos\\left({\\phi}\\right) + {\\left(m_{1} + m_{2}\\right)} {\\ddot x}$$"
      ],
      "text/plain": [
       "<IPython.core.display.Math object>"
      ]
     },
     "execution_count": 29,
     "metadata": {},
     "output_type": "execute_result"
    }
   ],
   "source": [
    "r1 = dAlemb.expand().coefficient(dx).trig_simplify()\n",
    "r2 = dAlemb.expand().coefficient(dphi).trig_simplify()\n",
    "showmath(r1)"
   ]
  },
  {
   "cell_type": "code",
   "execution_count": 30,
   "metadata": {},
   "outputs": [
    {
     "data": {
      "text/latex": [
       "$$l^{2} m_{2} {\\ddot \\phi} + l m_{2} {\\ddot x} \\cos\\left({\\phi}\\right) + g l m_{2} \\sin\\left({\\phi}\\right)$$"
      ],
      "text/plain": [
       "<IPython.core.display.Math object>"
      ]
     },
     "execution_count": 30,
     "metadata": {},
     "output_type": "execute_result"
    }
   ],
   "source": [
    "showmath(r2)"
   ]
  },
  {
   "cell_type": "markdown",
   "metadata": {
    "lang": "en"
   },
   "source": [
    "Because each of these equations contains a second derivative of both variables, treating the above equations as a system of equations (linear) on $\\ddot{ x}$ and $\\ddot{ \\phi}$ we solve it:"
   ]
  },
  {
   "cell_type": "code",
   "execution_count": 36,
   "metadata": {},
   "outputs": [
    {
     "data": {
      "text/latex": [
       "$${\\ddot x} = -\\frac{l m_{2} {\\dot \\phi}^{2} \\sin\\left({\\phi}\\right) + g m_{2} \\cos\\left({\\phi}\\right) \\sin\\left({\\phi}\\right)}{m_{2} \\cos\\left({\\phi}\\right)^{2} - m_{1} - m_{2}}$$"
      ],
      "text/plain": [
       "<IPython.core.display.Math object>"
      ]
     },
     "execution_count": 36,
     "metadata": {},
     "output_type": "execute_result"
    }
   ],
   "source": [
    "sol = solve([r1,r2],[xdd,phidd])[0]\n",
    "showmath(sol[0])"
   ]
  },
  {
   "cell_type": "code",
   "execution_count": 37,
   "metadata": {},
   "outputs": [
    {
     "data": {
      "text/latex": [
       "$${\\ddot \\phi} = \\frac{l m_{2} {\\dot \\phi}^{2} \\cos\\left({\\phi}\\right) \\sin\\left({\\phi}\\right) + {\\left(g m_{1} + g m_{2}\\right)} \\sin\\left({\\phi}\\right)}{l m_{2} \\cos\\left({\\phi}\\right)^{2} - l m_{1} - l m_{2}}$$"
      ],
      "text/plain": [
       "<IPython.core.display.Math object>"
      ]
     },
     "execution_count": 37,
     "metadata": {},
     "output_type": "execute_result"
    }
   ],
   "source": [
    "showmath(sol[1])"
   ]
  },
  {
   "cell_type": "markdown",
   "metadata": {
    "lang": "en"
   },
   "source": [
    "For further analysis, we can assign equations to the variables s1 and s2:"
   ]
  },
  {
   "cell_type": "code",
   "execution_count": 38,
   "metadata": {},
   "outputs": [],
   "source": [
    "s1,s2 = solve([r1,r2],[xdd,phidd])[0]"
   ]
  },
  {
   "cell_type": "code",
   "execution_count": 39,
   "metadata": {},
   "outputs": [
    {
     "data": {
      "text/latex": [
       "$$\\cos\\left({\\phi}\\right)^{2} - \\frac{m_{1}}{m_{2}} - 1$$"
      ],
      "text/plain": [
       "<IPython.core.display.Math object>"
      ]
     },
     "execution_count": 39,
     "metadata": {},
     "output_type": "execute_result"
    }
   ],
   "source": [
    "showmath( expand( s1.rhs().denominator()/m2 ) )"
   ]
  },
  {
   "cell_type": "code",
   "execution_count": 43,
   "metadata": {},
   "outputs": [],
   "source": [
    "sol = solve([r1,r2],[xdd,phidd])[0]"
   ]
  },
  {
   "cell_type": "code",
   "execution_count": 44,
   "metadata": {},
   "outputs": [
    {
     "data": {
      "text/latex": [
       "$${\\ddot x} = -\\frac{l m_{2} {\\dot \\phi}^{2} \\sin\\left({\\phi}\\right) + g m_{2} \\cos\\left({\\phi}\\right) \\sin\\left({\\phi}\\right)}{m_{2} \\cos\\left({\\phi}\\right)^{2} - m_{1} - m_{2}}$$"
      ],
      "text/plain": [
       "<IPython.core.display.Math object>"
      ]
     },
     "execution_count": 44,
     "metadata": {},
     "output_type": "execute_result"
    }
   ],
   "source": [
    "showmath(sol[0])"
   ]
  },
  {
   "cell_type": "code",
   "execution_count": 45,
   "metadata": {},
   "outputs": [
    {
     "data": {
      "text/latex": [
       "$${\\ddot \\phi} = \\frac{l m_{2} {\\dot \\phi}^{2} \\cos\\left({\\phi}\\right) \\sin\\left({\\phi}\\right) + {\\left(g m_{1} + g m_{2}\\right)} \\sin\\left({\\phi}\\right)}{l m_{2} \\cos\\left({\\phi}\\right)^{2} - l m_{1} - l m_{2}}$$"
      ],
      "text/plain": [
       "<IPython.core.display.Math object>"
      ]
     },
     "execution_count": 45,
     "metadata": {},
     "output_type": "execute_result"
    }
   ],
   "source": [
    "showmath(sol[1])"
   ]
  },
  {
   "cell_type": "markdown",
   "metadata": {
    "lang": "en"
   },
   "source": [
    "### Case study $m_1 >> m_2$\n",
    "One would expect that if the first mass is much larger than the other, the system of equations will strive for a mathematical pendulum. To do this, let's divide by $m_1$:\n"
   ]
  },
  {
   "cell_type": "code",
   "execution_count": 47,
   "metadata": {},
   "outputs": [
    {
     "data": {
      "text/latex": [
       "$$-\\frac{\\frac{l m_{2} {\\dot \\phi}^{2} \\sin\\left({\\phi}\\right)}{m_{1}} + \\frac{g m_{2} \\cos\\left({\\phi}\\right) \\sin\\left({\\phi}\\right)}{m_{1}}}{\\frac{m_{2} \\cos\\left({\\phi}\\right)^{2}}{m_{1}} - \\frac{m_{2}}{m_{1}} - 1}$$"
      ],
      "text/plain": [
       "<IPython.core.display.Math object>"
      ]
     },
     "execution_count": 47,
     "metadata": {},
     "output_type": "execute_result"
    }
   ],
   "source": [
    "showmath( ((s1.rhs().numerator()/m1).expand() )/( (s1.rhs().denominator()/m1).expand() ) )"
   ]
  },
  {
   "cell_type": "code",
   "execution_count": 48,
   "metadata": {},
   "outputs": [
    {
     "data": {
      "text/latex": [
       "$$\\frac{\\frac{l m_{2} {\\dot \\phi}^{2} \\cos\\left({\\phi}\\right) \\sin\\left({\\phi}\\right)}{m_{1}} + g \\sin\\left({\\phi}\\right) + \\frac{g m_{2} \\sin\\left({\\phi}\\right)}{m_{1}}}{\\frac{l m_{2} \\cos\\left({\\phi}\\right)^{2}}{m_{1}} - l - \\frac{l m_{2}}{m_{1}}}$$"
      ],
      "text/plain": [
       "<IPython.core.display.Math object>"
      ]
     },
     "execution_count": 48,
     "metadata": {},
     "output_type": "execute_result"
    }
   ],
   "source": [
    "showmath( ((s2.rhs().numerator()/m1).expand() )/( (s2.rhs().denominator()/m1).expand() ) )"
   ]
  },
  {
   "cell_type": "markdown",
   "metadata": {
    "lang": "en"
   },
   "source": [
    "You can see that the first expression tends to zero and the second to\n",
    "$$\\frac{g \\sin\\left(\\phi\\right)}{l}$$\n",
    "\n",
    "We can also use the function limit, which directly leads to the result:"
   ]
  },
  {
   "cell_type": "code",
   "execution_count": 50,
   "metadata": {},
   "outputs": [
    {
     "data": {
      "text/plain": [
       "0"
      ]
     },
     "execution_count": 50,
     "metadata": {},
     "output_type": "execute_result"
    }
   ],
   "source": [
    "limit(s1.rhs(),m1=oo)"
   ]
  },
  {
   "cell_type": "code",
   "execution_count": 51,
   "metadata": {},
   "outputs": [
    {
     "data": {
      "text/latex": [
       "$$-\\frac{g \\sin\\left({\\phi}\\right)}{l}$$"
      ],
      "text/plain": [
       "<IPython.core.display.Math object>"
      ]
     },
     "execution_count": 51,
     "metadata": {},
     "output_type": "execute_result"
    }
   ],
   "source": [
    "showmath( limit(s2.rhs(),m1=oo) ) "
   ]
  },
  {
   "cell_type": "markdown",
   "metadata": {
    "lang": "en"
   },
   "source": [
    "### Case study $m_2 >> m_1$\n",
    "\n",
    "In this case, the first mass is negligible."
   ]
  },
  {
   "cell_type": "code",
   "execution_count": 52,
   "metadata": {},
   "outputs": [
    {
     "data": {
      "text/latex": [
       "$$-\\frac{l {\\dot \\phi}^{2} \\sin\\left({\\phi}\\right) + g \\cos\\left({\\phi}\\right) \\sin\\left({\\phi}\\right)}{\\cos\\left({\\phi}\\right)^{2} - 1}$$"
      ],
      "text/plain": [
       "<IPython.core.display.Math object>"
      ]
     },
     "execution_count": 52,
     "metadata": {},
     "output_type": "execute_result"
    }
   ],
   "source": [
    "showmath( limit(s1.rhs(),m2=oo) )"
   ]
  },
  {
   "cell_type": "code",
   "execution_count": 53,
   "metadata": {},
   "outputs": [
    {
     "data": {
      "text/latex": [
       "$$\\frac{l {\\dot \\phi}^{2} \\cos\\left({\\phi}\\right) \\sin\\left({\\phi}\\right) + g \\sin\\left({\\phi}\\right)}{l \\cos\\left({\\phi}\\right)^{2} - l}$$"
      ],
      "text/plain": [
       "<IPython.core.display.Math object>"
      ]
     },
     "execution_count": 53,
     "metadata": {},
     "output_type": "execute_result"
    }
   ],
   "source": [
    "showmath( limit(s2.rhs(),m2=oo) )"
   ]
  },
  {
   "cell_type": "code",
   "execution_count": 54,
   "metadata": {},
   "outputs": [
    {
     "data": {
      "text/latex": [
       "$$\\left[\\frac{{\\left(l m_{2} {\\dot \\phi}^{2} + g m_{2}\\right)} {\\phi}}{m_{1}}, -\\frac{{\\left(l m_{2} {\\dot \\phi}^{2} + g m_{1} + g m_{2}\\right)} {\\phi}}{l m_{1}}\\right]$$"
      ],
      "text/plain": [
       "<IPython.core.display.Math object>"
      ]
     },
     "execution_count": 54,
     "metadata": {},
     "output_type": "execute_result"
    }
   ],
   "source": [
    "showmath([s1.rhs().taylor(phi,0,1),s2.rhs().taylor(phi,0,1)])"
   ]
  },
  {
   "cell_type": "markdown",
   "metadata": {
    "lang": "en"
   },
   "source": [
    "### Numerical analysis of the system\n",
    "The initial condition is four $x,\\phi,\\dot x,\\dot \\phi$ numbers. Consider, however, a subset of those conditions for which the total momentum of the system is zero.\n",
    "Note that the case of a system that has a non-zero total momentum can be reduced to a zero moment event by transformation to the center of mass system.\n",
    "So we have:\n",
    "$$ m_1 \\dot x_1 + m_2 \\dot x_2 = 0$$\n",
    "or\n",
    "$$ m_1 \\dot x + m_2 \\dot x + m_2 l \\dot \\phi\\cos(\\phi) = 0$$\n",
    "for the case of $m_1=m_2$ and starting from the lowest position of the second mass ($\\phi=0$) we will have:\n",
    "$$ 2 \\dot x = - l \\dot \\phi = 0.$$\n",
    "So for this case, we have a one-parameter family of solutions in which the speed $\\dot \\phi = \\omega_0$ is independent:\n",
    "$$x =0 ,\\phi=0,\\dot x=-\\frac{2}{l}\\omega_0,\\omega_0$$\n",
    "\n"
   ]
  },
  {
   "cell_type": "code",
   "execution_count": 55,
   "metadata": {},
   "outputs": [
    {
     "data": {
      "text/latex": [
       "$$-\\frac{l m_{2} {\\dot \\phi} \\cos\\left({\\phi}\\right)}{m_{1} + m_{2}}$$"
      ],
      "text/plain": [
       "<IPython.core.display.Math object>"
      ]
     },
     "execution_count": 55,
     "metadata": {},
     "output_type": "execute_result"
    }
   ],
   "source": [
    "showmath( solve(m1*x+m2*x+m2*l*phid*cos(phi),x)[0].rhs() )"
   ]
  },
  {
   "cell_type": "code",
   "execution_count": 57,
   "metadata": {},
   "outputs": [],
   "source": [
    "pars = {l:1,g:9.81,m1:2.1,m2:130}\n",
    "ode=[xd,phid,s1.rhs().subs(pars),s2.rhs().subs(pars)]\n",
    "times=srange(0,2.25,0.015)\n",
    "ics=[0,0,-(1/2),14.]\n",
    "#ics=[0,pi/2,0,3]\n",
    "w0 = 6.2\n",
    "ics = [0,0,(-l*m2*w0/(m1+m2)).subs(pars),w0]\n",
    "sol = desolve_odeint(ode,ics,times,[x,phi,xd,phid])"
   ]
  },
  {
   "cell_type": "code",
   "execution_count": 58,
   "metadata": {},
   "outputs": [
    {
     "data": {
      "image/png": "[encoded data removed]",
      "text/plain": [
       "Graphics object consisting of 1 graphics primitive"
      ]
     },
     "execution_count": 58,
     "metadata": {},
     "output_type": "execute_result"
    }
   ],
   "source": [
    "line( zip(times,sol[:,0]),figsize=4 )"
   ]
  },
  {
   "cell_type": "code",
   "execution_count": 59,
   "metadata": {},
   "outputs": [
    {
     "data": {
      "image/png": "[encoded data removed]",
      "text/plain": [
       "Graphics object consisting of 2 graphics primitives"
      ]
     },
     "execution_count": 59,
     "metadata": {},
     "output_type": "execute_result"
    }
   ],
   "source": [
    "import numpy as np \n",
    "line( zip(np.sin(sol[:,1])+sol[:,0],-np.cos(sol[:,1])),figsize=4 )+\\\n",
    " line( zip(np.sin(sol[:,1])+sol[:,0],-np.cos(sol[:,1])),figsize=4 )"
   ]
  },
  {
   "cell_type": "code",
   "execution_count": 60,
   "metadata": {},
   "outputs": [],
   "source": [
    "def draw_system(ith=0,l=1):\n",
    "    x,phi = sol[ith,:2]\n",
    "    x1,y1,x2,y2 =x, 0,  l*sin(phi) + x,-l*cos(phi)\n",
    "    \n",
    "    p = point( (x1,y1), size=40) +\\\n",
    "     point( (x2,y2), size=40,color='red',figsize=3) +\\\n",
    "     line( [(x1,y1),(x2,y2)],aspect_ratio=1)\n",
    "    n=20\n",
    "    i0 = max(0,ith-n)\n",
    "    trace = sum([point((l*sin(phi) + x,-l*cos(phi)),hue=(0,(i)/n,1)) for i,(x,phi) in enumerate(sol[i0:ith,:2])])\n",
    "    trace2 = sum([point((x,0),hue=(.51,(i)/n,1)) for i,(x,phi) in enumerate(sol[i0:ith,:2])])\n",
    "    #print i0,ith,[(i)/n. for i,(x,phi) in enumerate(sol[i0:ith,:2])]\n",
    "    p += trace+trace2\n",
    "    \n",
    "    p.set_axes_range(-1.2,1.2,-1.2,1.2)\n",
    "    p.set_aspect_ratio(1)\n",
    "    return p"
   ]
  },
  {
   "cell_type": "code",
   "execution_count": 66,
   "metadata": {},
   "outputs": [
    {
     "data": {
      "text/plain": [
       "(150, 4)"
      ]
     },
     "execution_count": 66,
     "metadata": {},
     "output_type": "execute_result"
    }
   ],
   "source": [
    "sol.shape"
   ]
  },
  {
   "cell_type": "code",
   "execution_count": 79,
   "metadata": {},
   "outputs": [
    {
     "data": {
      "image/png": "[encoded data removed]",
      "text/plain": [
       "Graphics Array of size 4 x 3"
      ]
     },
     "metadata": {},
     "output_type": "display_data"
    }
   ],
   "source": [
    "graphics_array([draw_system(i*11) for i in range(9)],ncols=3).show(figsize=8)"
   ]
  },
  {
   "cell_type": "markdown",
   "metadata": {},
   "source": [
    "    %%time\n",
    "    N = sol.shape[0]\n",
    "    every = int(N/25)\n",
    "    anim = animate([draw_system(i) for i in range(0,N,every)])\n",
    "    anim.show()"
   ]
  },
  {
   "cell_type": "markdown",
   "metadata": {},
   "source": [
    "    @interact\n",
    "    def _(ith=slider(range(N))):\n",
    "        plt = draw_system(ith=ith,l=1)\n",
    "        plt.show(figsize=6)"
   ]
  },
  {
   "cell_type": "markdown",
   "metadata": {
    "lang": "en"
   },
   "source": [
    "###  Problems\n",
    "\n",
    " - Compare the layout solution in a general form to solutions of special cases:\n",
    " - $m_1>>m_2$\n",
    " - How does the period of movement depend on total energy? Compare the result with the mathematical pendulum."
   ]
  },
  {
   "cell_type": "markdown",
   "metadata": {},
   "source": [
    "\\newpage"
   ]
  }
 ],
 "metadata": {
  "kernelspec": {
   "display_name": "SageMath 8.7",
   "language": "",
   "name": "sagemath"
  },
  "language": "python",
  "language_info": {
   "codemirror_mode": {
    "name": "ipython",
    "version": 2
   },
   "file_extension": ".py",
   "mimetype": "text/x-python",
   "name": "python",
   "nbconvert_exporter": "python",
   "pygments_lexer": "ipython2",
   "version": "2.7.15"
  },
  "nbTranslate": {
   "displayLangs": [
    "en",
    "pl"
   ],
   "hotkey": "alt-t",
   "langInMainMenu": true,
   "sourceLang": "pl",
   "targetLang": "en",
   "useGoogleTranslate": true
  },
  "toc": {
   "base_numbering": 1,
   "nav_menu": {},
   "number_sections": true,
   "sideBar": true,
   "skip_h1_title": false,
   "title_cell": "Table of Contents",
   "title_sidebar": "Contents",
   "toc_cell": false,
   "toc_position": {},
   "toc_section_display": true,
   "toc_window_display": false
  }
 },
 "nbformat": 4,
 "nbformat_minor": 2
}
