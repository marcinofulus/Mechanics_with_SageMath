{
 "cells": [
  {
   "cell_type": "markdown",
   "metadata": {},
   "source": [
    "# Problems in Physics\n",
    "\n",
    "Use the links below to jump directly to these notebooks to read the book"
   ]
  },
  {
   "cell_type": "markdown",
   "metadata": {},
   "source": [
    "- [ Preface](00-Preface.ipynb)\n",
    "- [ Three faces of classical mechanics](001-Introduction_to_classical_mechanics.ipynb)\n",
    "- [ Particle in one-dimensional potential well](012-1d_potential_well.ipynb)\n",
    "- [ Particle in a multistable potential](013-1d-multistable.ipynb)\n",
    "- [ d'Alembert with computer algebra system](02-dAlembert_with_CAS.ipynb)\n",
    "- [ Pendulum on $\\sin (x)$.](03-dAlembert_pendulum_sin_pl.ipynb)\n",
    "- [ A pendulum with a slipping suspension point  ](04-dAlembert_wahadlo_slizg_podwiesz_stripped.ipynb)\n",
    "- [ Euler Lagrange - pendulum with  oscillating support ](05-Langrange_oscillating_support.ipynb)\n",
    "- [ Point particle on rotating curve](06-dAlembert_koralik.ipynb)\n",
    "- [ Double pendulum](07-dAlembert_wahadlo_podwojne.ipynb)\n",
    "- [ Spherical pendulum](08-dAlembert_spherical_pendulum.ipynb)\n",
    "- [ Paraboloidal pendulum](09-Paraboloid_pendulum.ipynb)\n",
    "- [ Point particle on the cone](10-Cone.ipynb)\n",
    "- [ Paraglider flight mechanics in  2d](11-Paraglider.ipynb)\n",
    "- [ Appendix: a gentle  introduction to differential equations](99-gentle_intro_ode.ipynb)"
   ]
  },
  {
   "cell_type": "markdown",
   "metadata": {},
   "source": [
    "## Generate table of contents "
   ]
  },
  {
   "cell_type": "code",
   "execution_count": null,
   "metadata": {},
   "outputs": [],
   "source": [
    "import glob\n",
    "from nbformat import read\n",
    "import io\n",
    "for ch in sorted(glob.glob(\"*-*.ipynb\")):\n",
    "    with open(ch, 'r') as f:\n",
    "        nb = read(f, 4)\n",
    "\n",
    "    sec_head = nb['cells'][0]['source'].splitlines()[0].strip('#')\n",
    "    \n",
    "    print(\"- [\"+sec_head+\"](\"+ch+\")\")"
   ]
  },
  {
   "cell_type": "code",
   "execution_count": null,
   "metadata": {},
   "outputs": [],
   "source": []
  },
  {
   "cell_type": "code",
   "execution_count": null,
   "metadata": {},
   "outputs": [],
   "source": []
  },
  {
   "cell_type": "code",
   "execution_count": null,
   "metadata": {},
   "outputs": [],
   "source": []
  }
 ],
 "metadata": {
  "anaconda-cloud": {},
  "kernelspec": {
   "display_name": "SageMath 8.7",
   "language": "",
   "name": "sagemath"
  },
  "language_info": {
   "codemirror_mode": {
    "name": "ipython",
    "version": 2
   },
   "file_extension": ".py",
   "mimetype": "text/x-python",
   "name": "python",
   "nbconvert_exporter": "python",
   "pygments_lexer": "ipython2",
   "version": "2.7.15"
  },
  "nbTranslate": {
   "displayLangs": [
    "en",
    "pl"
   ],
   "hotkey": "alt-t",
   "langInMainMenu": true,
   "sourceLang": "pl",
   "targetLang": "en",
   "useGoogleTranslate": true
  },
  "toc": {
   "base_numbering": 1,
   "nav_menu": {},
   "number_sections": true,
   "sideBar": true,
   "skip_h1_title": false,
   "title_cell": "Table of Contents",
   "title_sidebar": "Contents",
   "toc_cell": false,
   "toc_position": {},
   "toc_section_display": true,
   "toc_window_display": false
  }
 },
 "nbformat": 4,
 "nbformat_minor": 2
}
