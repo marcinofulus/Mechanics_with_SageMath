{
 "cells": [
  {
   "cell_type": "markdown",
   "metadata": {
    "lang": "en"
   },
   "source": [
    "# Point particle on the cone\n",
    "\n",
    "Consider the movement of the material point on the surface of the cone.\n"
   ]
  },
  {
   "cell_type": "code",
   "execution_count": 1,
   "metadata": {},
   "outputs": [],
   "source": [
    "var('t')\n",
    "var('a g')\n",
    "xy_wsp = [('x','x'),('y','y'),('z','z')]\n",
    "uv_wsp = [('r','r'),('phi','\\phi'),('z','z')]\n",
    "\n",
    "for v,lv in uv_wsp+xy_wsp:\n",
    "    var(\"%s\"%v,latex_name=r'%s'%lv)\n",
    "    vars()[v.capitalize()] = function(v.capitalize())(t)\n",
    "    var(\"%sdd\"%v,latex_name=r'\\ddot %s'%lv)\n",
    "    var(\"%sd\"%v,latex_name=r'\\dot %s'%lv)\n",
    "    var(\"d%s\"%v,latex_name=r'\\delta %s'%lv)\n",
    "\n",
    "\n",
    "xy = [vars()[v] for v,lv in xy_wsp]\n",
    "uv = [vars()[v] for v,lv in uv_wsp]\n",
    "\n",
    "to_fun=dict()\n",
    "for v,lv in xy_wsp+uv_wsp:\n",
    "    to_fun[vars()[v]]=vars()[v.capitalize()]\n",
    "    to_fun[vars()[v+\"d\"]]=vars()[v.capitalize()].diff()\n",
    "    to_fun[vars()[v+\"dd\"]]=vars()[v.capitalize()].diff(2)\n",
    "\n",
    "to_var = dict((v,k) for k,v in to_fun.items())"
   ]
  },
  {
   "cell_type": "code",
   "execution_count": 2,
   "metadata": {},
   "outputs": [
    {
     "data": {
      "text/html": [
       "<html><script type=\"math/tex; mode=display\">\\newcommand{\\Bold}[1]{\\mathbf{#1}}-{z}^{2} \\tan\\left(a\\right)^{2} + {x}^{2} + {y}^{2}</script></html>"
      ],
      "text/plain": [
       "-z^2*tan(a)^2 + x^2 + y^2"
      ]
     },
     "metadata": {},
     "output_type": "display_data"
    },
    {
     "data": {
      "text/html": [
       "<html><script type=\"math/tex; mode=display\">\\newcommand{\\Bold}[1]{\\mathbf{#1}}-2 \\, {\\delta z} {z} \\tan\\left(a\\right)^{2} + 2 \\, {\\delta x} {x} + 2 \\, {\\delta y} {y}</script></html>"
      ],
      "text/plain": [
       "-2*dz*z*tan(a)^2 + 2*dx*x + 2*dy*y"
      ]
     },
     "metadata": {},
     "output_type": "display_data"
    }
   ],
   "source": [
    "dAlemb = (X.diff(t,2))*dx +(Y.diff(t,2))*dy+ (Z.diff(t,2)+g)*dz\n",
    "f = x^2 + y^2 - tan(a)^2*z^2 \n",
    "\n",
    "dxy = [vars()['d'+repr(zm)] for zm in xy]\n",
    "constr =sum([dzm*f.diff(zm) for zm,dzm in zip(xy,dxy)])\n",
    "show(f)\n",
    "show(constr)"
   ]
  },
  {
   "cell_type": "code",
   "execution_count": 3,
   "metadata": {},
   "outputs": [
    {
     "data": {
      "text/plain": [
       "[z == -sqrt(x^2 + y^2)/tan(a), z == sqrt(x^2 + y^2)/tan(a)]"
      ]
     },
     "execution_count": 3,
     "metadata": {},
     "output_type": "execute_result"
    }
   ],
   "source": [
    "f.solve(z)"
   ]
  },
  {
   "cell_type": "code",
   "execution_count": 4,
   "metadata": {},
   "outputs": [],
   "source": [
    "dAlemb_xy = dAlemb.subs(constr.solve(dz)[0]).subs(f.solve(z)[1])"
   ]
  },
  {
   "cell_type": "code",
   "execution_count": 5,
   "metadata": {},
   "outputs": [
    {
     "name": "stderr",
     "output_type": "stream",
     "text": [
      "/usr/local/lib/SageMath/local/lib/python2.7/site-packages/sage/repl/ipython_kernel/__main__.py:1: DeprecationWarning: coeff is deprecated. Please use coefficient instead.\n",
      "See http://trac.sagemath.org/17438 for details.\n",
      "  from ipykernel.kernelapp import IPKernelApp\n"
     ]
    },
    {
     "data": {
      "text/html": [
       "<html><script type=\"math/tex; mode=display\">\\newcommand{\\Bold}[1]{\\mathbf{#1}}{\\ddot x} + \\frac{{\\left(g + {\\ddot z}\\right)} {x}}{\\sqrt{{x}^{2} + {y}^{2}} \\tan\\left(a\\right)}</script></html>"
      ],
      "text/plain": [
       "xdd + (g + zdd)*x/(sqrt(x^2 + y^2)*tan(a))"
      ]
     },
     "metadata": {},
     "output_type": "display_data"
    },
    {
     "name": "stderr",
     "output_type": "stream",
     "text": [
      "/usr/local/lib/SageMath/local/lib/python2.7/site-packages/sage/repl/ipython_kernel/__main__.py:2: DeprecationWarning: coeff is deprecated. Please use coefficient instead.\n",
      "See http://trac.sagemath.org/17438 for details.\n",
      "  from sage.repl.ipython_kernel.kernel import SageKernel\n"
     ]
    },
    {
     "data": {
      "text/html": [
       "<html><script type=\"math/tex; mode=display\">\\newcommand{\\Bold}[1]{\\mathbf{#1}}{\\ddot y} + \\frac{{\\left(g + {\\ddot z}\\right)} {y}}{\\sqrt{{x}^{2} + {y}^{2}} \\tan\\left(a\\right)}</script></html>"
      ],
      "text/plain": [
       "ydd + (g + zdd)*y/(sqrt(x^2 + y^2)*tan(a))"
      ]
     },
     "metadata": {},
     "output_type": "display_data"
    }
   ],
   "source": [
    "show(dAlemb_xy.subs(to_var).coeff(dx))\n",
    "show(dAlemb_xy.subs(to_var).coeff(dy))"
   ]
  },
  {
   "cell_type": "code",
   "execution_count": null,
   "metadata": {},
   "outputs": [],
   "source": []
  },
  {
   "cell_type": "markdown",
   "metadata": {
    "lang": "en"
   },
   "source": [
    "Let's solve the problem in cylindrical coordinates. Because these coordinates are not consistent with constraints, but the cone has a particularly simple form in them. Therefore, we will have to perform the step of removing the dependent virtual offsets after moving to the cylindrical coordinate system."
   ]
  },
  {
   "cell_type": "code",
   "execution_count": 6,
   "metadata": {},
   "outputs": [
    {
     "data": {
      "text/html": [
       "<html><script type=\"math/tex; mode=display\">\\newcommand{\\Bold}[1]{\\mathbf{#1}}-{\\delta \\phi} {r} \\sin\\left({\\phi}\\right) + {\\delta r} \\cos\\left({\\phi}\\right)</script></html>"
      ],
      "text/plain": [
       "-dphi*r*sin(phi) + dr*cos(phi)"
      ]
     },
     "metadata": {},
     "output_type": "display_data"
    },
    {
     "data": {
      "text/html": [
       "<html><script type=\"math/tex; mode=display\">\\newcommand{\\Bold}[1]{\\mathbf{#1}}{\\delta \\phi} {r} \\cos\\left({\\phi}\\right) + {\\delta r} \\sin\\left({\\phi}\\right)</script></html>"
      ],
      "text/plain": [
       "dphi*r*cos(phi) + dr*sin(phi)"
      ]
     },
     "metadata": {},
     "output_type": "display_data"
    },
    {
     "data": {
      "text/html": [
       "<html><script type=\"math/tex; mode=display\">\\newcommand{\\Bold}[1]{\\mathbf{#1}}{\\delta z}</script></html>"
      ],
      "text/plain": [
       "dz"
      ]
     },
     "metadata": {},
     "output_type": "display_data"
    }
   ],
   "source": [
    "x2u = {x:r*cos(phi),y:r*sin(phi),z:z}\n",
    "for w in xy:\n",
    "    vars()['d'+repr(w)+'_polar']=sum([w.subs(x2u).diff(w2)*vars()['d'+repr(w2)] for w2 in uv])\n",
    "show(dx_polar)\n",
    "show(dy_polar)\n",
    "show(dz_polar)"
   ]
  },
  {
   "cell_type": "markdown",
   "metadata": {
    "lang": "en"
   },
   "source": [
    "First, we write the d'Alembert's rule in cylindrical coordinates:\n"
   ]
  },
  {
   "cell_type": "code",
   "execution_count": 7,
   "metadata": {},
   "outputs": [
    {
     "data": {
      "text/html": [
       "<html><script type=\"math/tex; mode=display\">\\newcommand{\\Bold}[1]{\\mathbf{#1}}-{\\left({\\dot \\phi}^{2} {r} \\sin\\left({\\phi}\\right) - {\\ddot \\phi} {r} \\cos\\left({\\phi}\\right) - 2 \\, {\\dot \\phi} {\\dot r} \\cos\\left({\\phi}\\right) - {\\ddot r} \\sin\\left({\\phi}\\right)\\right)} {\\left({\\delta \\phi} {r} \\cos\\left({\\phi}\\right) + {\\delta r} \\sin\\left({\\phi}\\right)\\right)} + {\\left({\\dot \\phi}^{2} {r} \\cos\\left({\\phi}\\right) + {\\ddot \\phi} {r} \\sin\\left({\\phi}\\right) + 2 \\, {\\dot \\phi} {\\dot r} \\sin\\left({\\phi}\\right) - {\\ddot r} \\cos\\left({\\phi}\\right)\\right)} {\\left({\\delta \\phi} {r} \\sin\\left({\\phi}\\right) - {\\delta r} \\cos\\left({\\phi}\\right)\\right)} + {\\delta z} {\\left(g + {\\ddot z}\\right)}</script></html>"
      ],
      "text/plain": [
       "-(phid^2*r*sin(phi) - phidd*r*cos(phi) - 2*phid*rd*cos(phi) - rdd*sin(phi))*(dphi*r*cos(phi) + dr*sin(phi)) + (phid^2*r*cos(phi) + phidd*r*sin(phi) + 2*phid*rd*sin(phi) - rdd*cos(phi))*(dphi*r*sin(phi) - dr*cos(phi)) + dz*(g + zdd)"
      ]
     },
     "metadata": {},
     "output_type": "display_data"
    }
   ],
   "source": [
    "dAlemb = (x.subs(x2u).subs(to_fun).diff(t,2))*dx_polar + \\\n",
    "         (y.subs(x2u).subs(to_fun).diff(t,2))*dy_polar+\\\n",
    "         (z.subs(x2u).subs(to_fun).diff(t,2)+g)*dz_polar \n",
    "dAlemb = dAlemb.subs(to_var)\n",
    "show(dAlemb)"
   ]
  },
  {
   "cell_type": "code",
   "execution_count": 8,
   "metadata": {},
   "outputs": [],
   "source": [
    "f_uv  = f.subs(x2u).trig_simplify()"
   ]
  },
  {
   "cell_type": "code",
   "execution_count": 9,
   "metadata": {},
   "outputs": [],
   "source": [
    "duv = [vars()['d'+repr(zm)] for zm in uv]\n",
    "constr =sum([dzm*f_uv.diff(zm) for zm,dzm in zip(uv,duv)])"
   ]
  },
  {
   "cell_type": "code",
   "execution_count": 10,
   "metadata": {},
   "outputs": [
    {
     "data": {
      "text/html": [
       "<html><script type=\"math/tex; mode=display\">\\newcommand{\\Bold}[1]{\\mathbf{#1}}{\\delta z} = \\frac{{\\delta r} {r} \\cos\\left(a\\right)^{2}}{{z} \\sin\\left(a\\right)^{2}}</script></html>"
      ],
      "text/plain": [
       "dz == dr*r*cos(a)^2/(z*sin(a)^2)"
      ]
     },
     "metadata": {},
     "output_type": "display_data"
    }
   ],
   "source": [
    "show(constr.solve(dz)[0])"
   ]
  },
  {
   "cell_type": "code",
   "execution_count": 11,
   "metadata": {},
   "outputs": [
    {
     "data": {
      "text/plain": [
       "-(phid^2*r*sin(phi) - phidd*r*cos(phi) - 2*phid*rd*cos(phi) - rdd*sin(phi))*(dphi*r*cos(phi) + dr*sin(phi)) + (phid^2*r*cos(phi) + phidd*r*sin(phi) + 2*phid*rd*sin(phi) - rdd*cos(phi))*(dphi*r*sin(phi) - dr*cos(phi)) + dr*(g + zdd)*r*cos(a)^2/(z*sin(a)^2)"
      ]
     },
     "execution_count": 11,
     "metadata": {},
     "output_type": "execute_result"
    }
   ],
   "source": [
    "dAlemb.subs( constr.solve(dz)[0] )"
   ]
  },
  {
   "cell_type": "code",
   "execution_count": 12,
   "metadata": {},
   "outputs": [
    {
     "data": {
      "text/plain": [
       "zdd == rdd*cos(a)/sin(a)"
      ]
     },
     "execution_count": 12,
     "metadata": {},
     "output_type": "execute_result"
    }
   ],
   "source": [
    "zdd_rdd = (f_uv.solve(z)[1]).subs(to_fun).diff(t,2).subs(to_var)\n",
    "zdd_rdd"
   ]
  },
  {
   "cell_type": "code",
   "execution_count": 13,
   "metadata": {},
   "outputs": [],
   "source": [
    "dAlemb_uv = dAlemb.subs( constr.solve(dz)[0] ).subs(f_uv.solve(z)[1]).subs(zdd_rdd)"
   ]
  },
  {
   "cell_type": "code",
   "execution_count": 14,
   "metadata": {},
   "outputs": [
    {
     "name": "stderr",
     "output_type": "stream",
     "text": [
      "/usr/local/lib/SageMath/local/lib/python2.7/site-packages/sage/repl/ipython_kernel/__main__.py:1: DeprecationWarning: coeff is deprecated. Please use coefficient instead.\n",
      "See http://trac.sagemath.org/17438 for details.\n",
      "  from ipykernel.kernelapp import IPKernelApp\n",
      "/usr/local/lib/SageMath/local/lib/python2.7/site-packages/sage/repl/ipython_kernel/__main__.py:2: DeprecationWarning: coeff is deprecated. Please use coefficient instead.\n",
      "See http://trac.sagemath.org/17438 for details.\n",
      "  from sage.repl.ipython_kernel.kernel import SageKernel\n"
     ]
    },
    {
     "data": {
      "text/html": [
       "<html><script type=\"math/tex; mode=display\">\\newcommand{\\Bold}[1]{\\mathbf{#1}}-{\\left({\\dot \\phi}^{2} {r} \\cos\\left({\\phi}\\right) + {\\ddot \\phi} {r} \\sin\\left({\\phi}\\right) + 2 \\, {\\dot \\phi} {\\dot r} \\sin\\left({\\phi}\\right) - {\\ddot r} \\cos\\left({\\phi}\\right)\\right)} \\cos\\left({\\phi}\\right) - {\\left({\\dot \\phi}^{2} {r} \\sin\\left({\\phi}\\right) - {\\ddot \\phi} {r} \\cos\\left({\\phi}\\right) - 2 \\, {\\dot \\phi} {\\dot r} \\cos\\left({\\phi}\\right) - {\\ddot r} \\sin\\left({\\phi}\\right)\\right)} \\sin\\left({\\phi}\\right) + \\frac{{\\left(g + \\frac{{\\ddot r} \\cos\\left(a\\right)}{\\sin\\left(a\\right)}\\right)} \\cos\\left(a\\right)}{\\sin\\left(a\\right)}</script></html>"
      ],
      "text/plain": [
       "-(phid^2*r*cos(phi) + phidd*r*sin(phi) + 2*phid*rd*sin(phi) - rdd*cos(phi))*cos(phi) - (phid^2*r*sin(phi) - phidd*r*cos(phi) - 2*phid*rd*cos(phi) - rdd*sin(phi))*sin(phi) + (g + rdd*cos(a)/sin(a))*cos(a)/sin(a)"
      ]
     },
     "metadata": {},
     "output_type": "display_data"
    },
    {
     "data": {
      "text/html": [
       "<html><script type=\"math/tex; mode=display\">\\newcommand{\\Bold}[1]{\\mathbf{#1}}-{\\left({\\dot \\phi}^{2} {r} \\sin\\left({\\phi}\\right) - {\\ddot \\phi} {r} \\cos\\left({\\phi}\\right) - 2 \\, {\\dot \\phi} {\\dot r} \\cos\\left({\\phi}\\right) - {\\ddot r} \\sin\\left({\\phi}\\right)\\right)} {r} \\cos\\left({\\phi}\\right) + {\\left({\\dot \\phi}^{2} {r} \\cos\\left({\\phi}\\right) + {\\ddot \\phi} {r} \\sin\\left({\\phi}\\right) + 2 \\, {\\dot \\phi} {\\dot r} \\sin\\left({\\phi}\\right) - {\\ddot r} \\cos\\left({\\phi}\\right)\\right)} {r} \\sin\\left({\\phi}\\right)</script></html>"
      ],
      "text/plain": [
       "-(phid^2*r*sin(phi) - phidd*r*cos(phi) - 2*phid*rd*cos(phi) - rdd*sin(phi))*r*cos(phi) + (phid^2*r*cos(phi) + phidd*r*sin(phi) + 2*phid*rd*sin(phi) - rdd*cos(phi))*r*sin(phi)"
      ]
     },
     "metadata": {},
     "output_type": "display_data"
    }
   ],
   "source": [
    "r1 =  dAlemb_uv.coeff(dr)\n",
    "r2 =  dAlemb_uv.coeff(dphi)\n",
    "\n",
    "show(r1)\n",
    "show( r2)"
   ]
  },
  {
   "cell_type": "code",
   "execution_count": 15,
   "metadata": {},
   "outputs": [
    {
     "data": {
      "text/html": [
       "<div class=\"notruncate\">\n",
       "<table  class=\"table_form\">\n",
       "<tbody>\n",
       "<tr class =\"row-a\">\n",
       "<td><script type=\"math/tex\">{\\ddot r} = {\\dot \\phi}^{2} {r} \\sin\\left(a\\right)^{2} - g \\cos\\left(a\\right) \\sin\\left(a\\right)</script></td>\n",
       "<td><script type=\"math/tex\">{\\ddot \\phi} = -\\frac{2 \\, {\\dot \\phi} {\\dot r}}{{r}}</script></td>\n",
       "</tr>\n",
       "</tbody>\n",
       "</table>\n",
       "</div>"
      ],
      "text/plain": [
       "  rdd == phid^2*r*sin(a)^2 - g*cos(a)*sin(a)   phidd == -2*phid*rd/r"
      ]
     },
     "execution_count": 15,
     "metadata": {},
     "output_type": "execute_result"
    }
   ],
   "source": [
    "table([rown.trig_simplify() for rown in solve([r1,r2],[rdd,phidd])[0]])"
   ]
  },
  {
   "cell_type": "markdown",
   "metadata": {},
   "source": [
    "\\newpage"
   ]
  },
  {
   "cell_type": "code",
   "execution_count": null,
   "metadata": {},
   "outputs": [],
   "source": []
  },
  {
   "cell_type": "code",
   "execution_count": null,
   "metadata": {},
   "outputs": [],
   "source": []
  }
 ],
 "metadata": {
  "kernelspec": {
   "display_name": "SageMath 8.7",
   "language": "",
   "name": "sagemath"
  },
  "language": "python",
  "language_info": {
   "codemirror_mode": {
    "name": "ipython",
    "version": 2
   },
   "file_extension": ".py",
   "mimetype": "text/x-python",
   "name": "python",
   "nbconvert_exporter": "python",
   "pygments_lexer": "ipython2",
   "version": "2.7.15"
  },
  "nbTranslate": {
   "displayLangs": [
    "en",
    "pl"
   ],
   "hotkey": "alt-t",
   "langInMainMenu": true,
   "sourceLang": "pl",
   "targetLang": "en",
   "useGoogleTranslate": true
  },
  "toc": {
   "base_numbering": 1,
   "nav_menu": {},
   "number_sections": true,
   "sideBar": true,
   "skip_h1_title": false,
   "title_cell": "Table of Contents",
   "title_sidebar": "Contents",
   "toc_cell": false,
   "toc_position": {},
   "toc_section_display": true,
   "toc_window_display": false
  }
 },
 "nbformat": 4,
 "nbformat_minor": 2
}
