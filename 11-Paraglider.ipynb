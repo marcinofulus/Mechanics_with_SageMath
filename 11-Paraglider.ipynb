{
 "cells": [
  {
   "cell_type": "markdown",
   "metadata": {
    "lang": "en"
   },
   "source": [
    "# Paraglider flight mechanics in  2d\n",
    "\n",
    "  $(m_1,x_1)$ pilot\n",
    "  \n",
    "  $(m_2,x_2)$ wing\n",
    "  \n",
    "  $F_x$, $F_y$, aerodynamic force in the rest system"
   ]
  },
  {
   "cell_type": "code",
   "execution_count": null,
   "metadata": {},
   "outputs": [],
   "source": [
    "def make_fig(x1,y1,x2,y2,CM=True,m1=1,m2=1):\n",
    "    x1 = x1 - (m1*x1+m2*x2)/2\n",
    "    y1 = y1 - (m1*y1+m2*y2)/2\n",
    "    plts = []\n",
    "    plts +=[ point((x1,y1),color='red')]\n",
    "    plts +=[ point((x2,y2),color='brown')]\n",
    "    plts +=[ line ([(x1,y1),(x2,y2)])]\n",
    "    plts += [ellipse((x2,y2),1,.4,arctan2(y1-y2,x1-x2)-pi/2,fill=True,alpha=0.3)]\n",
    "    plt = sum(plts)\n",
    "    \n",
    "    return plt"
   ]
  },
  {
   "cell_type": "code",
   "execution_count": null,
   "metadata": {},
   "outputs": [],
   "source": [
    "plt = make_fig(1,2,3,4)\n",
    "plt.show(figsize=4,aspect_ratio=1,axes=false)"
   ]
  },
  {
   "cell_type": "code",
   "execution_count": null,
   "metadata": {},
   "outputs": [],
   "source": [
    "import numpy as np\n",
    "var('t')\n",
    "var('l g Fx Fy m1 m2')\n",
    "xy_wsp = [('x1','x1'),('y1','y1'),('x2','x2'),('y2','y2')]\n",
    "\n",
    "uv_wsp = [('phi','\\phi'),('x','x'),('y','y')]\n",
    "\n",
    "for v,lv in uv_wsp+xy_wsp:\n",
    "    var(\"%s\"%v,latex_name=r'%s'%lv)\n",
    "    vars()[v.capitalize()] = function(v.capitalize())(t)\n",
    "    var(\"%sdd\"%v,latex_name=r'\\ddot %s'%lv)\n",
    "    var(\"%sd\"%v,latex_name=r'\\dot %s'%lv)\n",
    "    var(\"d%s\"%v,latex_name=r'\\delta %s'%lv)\n",
    "\n",
    "uv = [vars()[v] for v,lv in uv_wsp]\n",
    "\n",
    "xy = [vars()[v] for v,lv in xy_wsp]\n",
    "to_fun=dict()\n",
    "for v,lv in uv_wsp:\n",
    "    to_fun[vars()[v]]=vars()[v.capitalize()]\n",
    "    to_fun[vars()[v+\"d\"]]=vars()[v.capitalize()].diff()\n",
    "    to_fun[vars()[v+\"dd\"]]=vars()[v.capitalize()].diff(2)\n",
    "to_var = dict((v,k) for k,v in to_fun.items())\n",
    "\n",
    "x2u = {x2:x,y2:y, x1:x+l*sin(phi),y1:y-l*cos(phi)}\n",
    "\n",
    "for w in xy:\n",
    "    vars()['d'+repr(w)+'_polar']=sum([w.subs(x2u).diff(w2)*vars()['d'+repr(w2)] for w2 in uv])\n",
    "    #show(vars()['d'+repr(w)+'_polar'])\n",
    "\n",
    "dAlemb = (m1*x1.subs(x2u).subs(to_fun).diff(t,2))*dx1_polar + \\\n",
    "         (m1*y1.subs(x2u).subs(to_fun).diff(t,2)+m1*g)*dy1_polar+\\\n",
    "         (m2*x2.subs(x2u).subs(to_fun).diff(t,2)-Fx)*dx2_polar + \\\n",
    "         (m2*y2.subs(x2u).subs(to_fun).diff(t,2)+m2*g-Fy)*dy2_polar\n",
    "dAlemb = dAlemb.subs(to_var)"
   ]
  },
  {
   "cell_type": "code",
   "execution_count": null,
   "metadata": {},
   "outputs": [],
   "source": [
    "show(dAlemb)"
   ]
  },
  {
   "cell_type": "code",
   "execution_count": null,
   "metadata": {},
   "outputs": [],
   "source": [
    "rown=[]\n",
    "for v in uv:\n",
    "    rown.append(dAlemb.expand().coefficient(vars()['d'+repr(v)]).trig_simplify())\n",
    "drugie =   [vars()[repr(v)+'dd'] for v in uv]\n",
    "table(rown)\n"
   ]
  },
  {
   "cell_type": "code",
   "execution_count": null,
   "metadata": {},
   "outputs": [],
   "source": [
    "#drugie =   [vars()[repr(v)+'dd'] for v in uv]\n",
    "sol = solve( rown,drugie)\n",
    "show( map(lambda x:x.trig_simplify(),sol[0]) )"
   ]
  },
  {
   "cell_type": "code",
   "execution_count": null,
   "metadata": {},
   "outputs": [],
   "source": [
    "rhs = map(lambda x:x.rhs().trig_simplify(),sol[0])\n",
    "show(rhs)"
   ]
  },
  {
   "cell_type": "code",
   "execution_count": null,
   "metadata": {},
   "outputs": [],
   "source": [
    "Cx(x) = .2+sin(x)^2\n",
    "Cz(x) = 5*sin(x*2)\n",
    "plot(Cx(x),(x,-pi,pi),figsize=5)+\\\n",
    " plot(Cz(x),(x,-pi,pi),color='red')+\\\n",
    " plot(Cz(x)/Cx(x),(x,-pi,pi),color='green')"
   ]
  },
  {
   "cell_type": "code",
   "execution_count": null,
   "metadata": {},
   "outputs": [],
   "source": [
    "#Cx = lambda x:1.0\n",
    "#Cz = lambda x:1.0\n",
    "trim = -0.24\n",
    "alpha = arctan2(yd,xd)\n",
    "forces={Fx:(-Cx(phi-alpha+trim)*cos(alpha) - Cz(phi-alpha+trim)*sin(alpha) )*(xd^2+yd^2),Fy:(-Cx(phi-alpha+trim)*sin(alpha) + Cz(phi-alpha+trim)*cos(alpha))*(xd^2+yd^2)}\n",
    "#show( map(lambda x:x.subs(forces),rhs) )\n",
    "dof3 = [phid,xd,yd] + map(lambda x:x.subs(forces),rhs)"
   ]
  },
  {
   "cell_type": "code",
   "execution_count": null,
   "metadata": {},
   "outputs": [],
   "source": [
    "%%time\n",
    "params = {m1:1.3,m2:2,l:1}\n",
    "ode = map(lambda x:x.subs(params), dof3) \n",
    "times = srange(0,8,0.1)\n",
    "numsol = desolve_odeint(ode,[0,0,0,.0,2.21,4], \\\n",
    "                        times, [phi,x,y,phid,xd,yd])"
   ]
  },
  {
   "cell_type": "code",
   "execution_count": null,
   "metadata": {},
   "outputs": [],
   "source": [
    "p = line(zip(numsol[:,1],numsol[:,2]),figsize=9)#,marker='o')\n",
    "p += line(zip(numsol[:,1]+np.sin(numsol[:,0]),numsol[:,2]-np.cos(numsol[:,0])),color='red',aspect_ratio=1)#,marker='o')\n",
    "p.show()"
   ]
  },
  {
   "cell_type": "code",
   "execution_count": null,
   "metadata": {},
   "outputs": [],
   "source": []
  },
  {
   "cell_type": "code",
   "execution_count": null,
   "metadata": {},
   "outputs": [],
   "source": [
    "line(zip(times,np.sqrt(numsol[:,4]**2+numsol[:,5]**2)) )"
   ]
  },
  {
   "cell_type": "code",
   "execution_count": null,
   "metadata": {},
   "outputs": [],
   "source": [
    "line(zip(times,numsol[:,5]) )"
   ]
  },
  {
   "cell_type": "code",
   "execution_count": null,
   "metadata": {},
   "outputs": [],
   "source": [
    "every = max(int(numsol.shape[0]/25),1)\n",
    "every"
   ]
  },
  {
   "cell_type": "code",
   "execution_count": null,
   "metadata": {},
   "outputs": [],
   "source": [
    "def plot_system(data,l=1):\n",
    "    phi,x,y = data[0:3]\n",
    "    w,vx,vy = data[3:]\n",
    "    x2,y2 = x+l*sin(phi),y-l*cos(phi)\n",
    "    p =  point((x,y),size=40,color='blue',figsize=4)\n",
    "    p += point((x2,y2),size=40,color='red')\n",
    "    p += line([(x,y),(x2,y2)])\n",
    "    v = vector([vx,vy])\n",
    "    if v.norm()>0:\n",
    "        v = v/v.norm()\n",
    "        p += arrow((x,y),(x+v[0],y+v[1]),aspect_ratio=1)\n",
    "    return p"
   ]
  },
  {
   "cell_type": "code",
   "execution_count": null,
   "metadata": {},
   "outputs": [],
   "source": [
    "plts = [p+plot_system(data,l=1) for data in numsol[::every,:]]"
   ]
  },
  {
   "cell_type": "code",
   "execution_count": null,
   "metadata": {},
   "outputs": [],
   "source": [
    "%%time\n",
    "anim = animate(plts,xmax=125)\n",
    "anim.show()"
   ]
  },
  {
   "cell_type": "code",
   "execution_count": null,
   "metadata": {},
   "outputs": [],
   "source": [
    "plot_system(data,l=1)"
   ]
  },
  {
   "cell_type": "code",
   "execution_count": null,
   "metadata": {},
   "outputs": [],
   "source": []
  },
  {
   "cell_type": "code",
   "execution_count": null,
   "metadata": {},
   "outputs": [],
   "source": []
  },
  {
   "cell_type": "markdown",
   "metadata": {},
   "source": [
    "## $C_L$ from data"
   ]
  },
  {
   "cell_type": "code",
   "execution_count": null,
   "metadata": {},
   "outputs": [],
   "source": [
    "data = [(x,2*x^3+random()*0.61) for x in srange(0.,10,0.41)]\n",
    "plt = point(data)\n",
    "var('c b')\n",
    "model(x) = c*x^3 + b\n",
    "fit = find_fit( data, model, solution_dict=True)\n",
    "plt_m = plot(model(x).subs(fit),(x,-10,20))\n",
    "(plt_m+plt).show(figsize=5)\n",
    "model(x).subs(fit)"
   ]
  },
  {
   "cell_type": "markdown",
   "metadata": {},
   "source": [
    "\\newpage"
   ]
  }
 ],
 "metadata": {
  "kernelspec": {
   "display_name": "SageMath 8.7",
   "language": "",
   "name": "sagemath"
  },
  "language": "python",
  "language_info": {
   "codemirror_mode": {
    "name": "ipython",
    "version": 2
   },
   "file_extension": ".py",
   "mimetype": "text/x-python",
   "name": "python",
   "nbconvert_exporter": "python",
   "pygments_lexer": "ipython2",
   "version": "2.7.15"
  },
  "nbTranslate": {
   "displayLangs": [
    "en",
    "pl"
   ],
   "hotkey": "alt-t",
   "langInMainMenu": true,
   "sourceLang": "pl",
   "targetLang": "en",
   "useGoogleTranslate": true
  },
  "toc": {
   "base_numbering": 1,
   "nav_menu": {},
   "number_sections": true,
   "sideBar": true,
   "skip_h1_title": false,
   "title_cell": "Table of Contents",
   "title_sidebar": "Contents",
   "toc_cell": false,
   "toc_position": {},
   "toc_section_display": true,
   "toc_window_display": false
  }
 },
 "nbformat": 4,
 "nbformat_minor": 2
}
