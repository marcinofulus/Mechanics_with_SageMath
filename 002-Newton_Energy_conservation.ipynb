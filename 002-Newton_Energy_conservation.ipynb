{
 "cells": [
  {
   "cell_type": "markdown",
   "metadata": {
    "lang": "en"
   },
   "source": [
    "# Newton equations: Conservation of energy \n",
    "\n",
    "\n",
    "## One degree of freedom \n",
    "\n",
    "\n",
    "\n",
    "Consider the Newton equation for a particle with one degree of freedom in the form of: \n",
    "\n",
    "$$m\\ddot x = F(x) = -\\frac{dU(x)}{dx} = - U'(x)$$\n",
    "\n",
    "where  $F(x)$ is the force acting on the particle and  $U(x)$ defined by the relation \n",
    "\n",
    "$$F(x) = -U'(x)$$ \n",
    "\n",
    "is called potential energy (we will write shortly - potential). If we know the force  $F(x)$, then the potential can be found by calculating the integral:\n",
    "\n",
    "$$U(x) = - \\int_a^{\\,x}  F(y) dy$$\n",
    "\n",
    "where $a$ is any number  which does not influence dynamics of the system. For example, we can choose so that at some point the potential is zero or infinite.\n",
    "\n",
    "The Newton equation is a second-order differential. We will re-write it in the form\n",
    "\n",
    "$$\\dot x = v, \\quad \\quad x(0)=x_0$$ $$m\\dot v = F(x) = -U'(x),  \\quad \\quad v(0)=v_0$$\n",
    "\n",
    "It is a set of 2 autonomous differential equations of first order. It means that the phase space $\\{x, v\\}$ is 2-dimensional.  In this phase space (which is a plane) we can analyze phase curves: $\\{x(t), v(t)\\}$ as a parametric curves with the parameter being time $t$ and the coordinate $x(t)$ and the velocity $v(t)$  change over time according to the Newton equation. \n",
    "\n",
    "\n",
    "#### Theorem: \n",
    "\n",
    "There is a function (combination) of  $x(t)$  and $v(t)$ that does not change over time:\n",
    "\n",
    "$$E = E[x(t), v(t)] = \\frac{1}{2} m v^2(t) + U(x(t)) =  \\frac{1}{2} m v^2(0) + U(x(0)) = E[x(0), v(0)]$$\n",
    "\n",
    "The quantity $E$ is called in physics the total energy of the system. \n",
    "It  consists of two parts: the kinetic energy of the particle: $E_k=mv^2/2$ and the potential energy of the particle: $E_p = U(x)$. The total ebergy is determined by initial conditions for the coordinate $x(0$ and  velocity $v(0)$ which are in the expression $E[x(0), v(0)]$. \n",
    "\n",
    "#### Proof: \n",
    "\n",
    "If $E$ does not change in time, it means that it is a constant function with respect to time and the derivative with respect to time should be zero. Indeed:\n",
    "\n",
    "$$\\frac{dE}{dt} = \\frac{d}{dt}  E[x(t), v(t)] = \\frac{\\partial E}{\\partial x}  \\, \\frac{dx}{dt} + \\frac{\\partial E}{\\partial v}  \\, \\frac{dv}{dt} =  U'(x)  \\, \\dot x +  mv \\, \\dot v = -F(x) v + v F(x), $$\n",
    "\n",
    "where we used the relationship between the force and the potential energy as well as we exploited  the Newton equation of motion.\n",
    "Because $E$ does not change in time, we say that it is a constant of motion or the  integral of motion, or the first integral of the system (the two last names seem to be bizarre, because in the expression for $E$ no integral is visible). The existence of constants or integrals of the movement facilitates the analysis of systems. \n",
    "\n",
    "\n",
    "**First conclusion - phase curves**\n",
    "\n",
    "The equation \n",
    "\n",
    "\n",
    "$$ \\frac{1}{2} m v^2 + U(x) = E$$\n",
    "\n",
    "defines a curve on the plane $\\{x, v\\}$.\n",
    "\n",
    "**Second conclusion - admisible particle positions** \n",
    "\n",
    "The equation \n",
    "\n",
    "$$U(x) = E$$\n",
    "\n",
    "is fulfilled when the velocity $v=v(t)$ of the particle is zero. It determines the interval of possible positions $x=x(t)$ of the particle. \n",
    "The curve on the plane is symmetrical with respect to the horizontal axis $x$. It follows from the relation \n",
    "\n",
    "$$ v = \\pm \\frac{2}{m} \\sqrt{E-U(x)}$$\n",
    "\n",
    "\n",
    "Let us apply the above to a harmonic oscillator for which the form of the force is well known:\n",
    "\n",
    "$$F(x) = - k x = - m\\omega^2 x, \\quad \\quad \\quad U(x) = \\frac{1}{2} k  x^2  = \\frac{1}{2} m\\omega^2 x^2, \\quad \\quad \\omega^2 = \\frac{k}{m}$$\n",
    "\n",
    "The law of energy conservation  says that\n",
    "\n",
    "$$E = \\frac{1}{2} m v^2(t) + \\frac{1}{2} k x^2(t) = const. = \\frac{1}{2} m v^2(0) + \\frac{1}{2} k x^2(0)$$\n",
    "\n",
    "We note  that the above equation in variables $\\{x, v\\}$ has the form\n",
    "\n",
    "$$ m v^2 +  k x^2 =  2E $$\n",
    "\n",
    "This is the equation of the ellipse:\n",
    "\n",
    "$$\\frac{x^2}{(2E/k)} + \\frac{v^2}{(2E/m)} = 1$$\n",
    "\n",
    "with $a=2E/k$ and $b=2E/m$ axes. Let's draw an ellipse for, say, $E = 2, k = 0.2$ and $m=1$. \n",
    "\n",
    "(Almost) everyone knows how this ellipse looks but we will do  more in order to develop a natural ability to use Sage programs to visualize and interpret results.\n"
   ]
  },
  {
   "cell_type": "code",
   "execution_count": null,
   "metadata": {},
   "outputs": [],
   "source": [
    "var('x v')\n",
    "import os\n",
    "PDF = 'PDF' in os.environ.keys()\n",
    "def draw_phase_curve(E,k,m):\n",
    "\n",
    "    plt = implicit_plot( x^2/(2*E/k)+v^2/(2*E/m) == 1, \\\n",
    "                        (x,-3,3),(v,-3,3),\\\n",
    "                        axes_labels=[r'$x$',r'$y$'],\n",
    "                       figsize=4,\n",
    "                       title=r'$E=%0.1f, k=%0.1f,m=%0.1f$'%(E,k,m))\n",
    "    plt.show()\n",
    "\n",
    "if PDF:\n",
    "    draw_phase_curve(E=1,k=1,m=1)\n",
    "    draw_phase_curve(E=1,k=.5,m=1)\n",
    "    draw_phase_curve(E=1,k=1,m=.5)\n",
    "else:\n",
    "    @interact\n",
    "    def _(E=slider(0.5,2,.1,label=r'$E$'), \\\n",
    "           k=slider(0.2,1.0,0.1,label=r'$k$'), \\\n",
    "           m=slider(0.2,2,.1,label=r'$m$')):\n",
    "        draw_phase_curve(E,k,m)\n"
   ]
  },
  {
   "cell_type": "markdown",
   "metadata": {
    "lang": "en"
   },
   "source": [
    "The particle moves in such a way that $\\{x(t), v(t)\\}$ moves on the ellipse. Because the ellipse is a closed curve,  the motion is periodic and its period can be calculated from the law of conservation energy. Below we show  step by step what to do to analyse the system using the law of energy conservation.\n",
    "\n",
    " - We draw a graph showing the potential $U(x)$\n",
    " - Below this graph, with the vertical axis set as in the potential graph, we draw 2 symmetrical curves given by the energy conservation law. The two curves $=v(x, E)$ define the phase curves.\n",
    " - The particle moves to the right when the speed is positive $v>0$ (green curve) and to the left when the speed is negative $v <0$. \n",
    "\n",
    "\n"
   ]
  },
  {
   "cell_type": "markdown",
   "metadata": {
    "lang": "en"
   },
   "source": [
    "We will try to analyze Newton's equation to obtain phase curves.\n",
    "$$m \\ddot{x} = F$$\n",
    "If the force will be linear $F=-kx$, then we will get the above described problem of the harmonic oscillator. At the beginning, we must declare the names of variables and parameters used in the model. Remember - each time, if you want to calculate something symbolically, you have to write a line and do it."
   ]
  },
  {
   "cell_type": "code",
   "execution_count": null,
   "metadata": {},
   "outputs": [],
   "source": [
    "var('x v')"
   ]
  },
  {
   "cell_type": "markdown",
   "metadata": {
    "lang": "en"
   },
   "source": [
    "We will now set the system parameters."
   ]
  },
  {
   "cell_type": "code",
   "execution_count": null,
   "metadata": {},
   "outputs": [],
   "source": [
    "x0 = 1.3\n",
    "v0 = 0.3\n",
    "k = 0.2\n",
    "m = 1"
   ]
  },
  {
   "cell_type": "markdown",
   "metadata": {
    "lang": "en"
   },
   "source": [
    "Now we declare the form of the force. In our case it will be simply"
   ]
  },
  {
   "cell_type": "code",
   "execution_count": null,
   "metadata": {},
   "outputs": [],
   "source": [
    "F = -k*x"
   ]
  },
  {
   "cell_type": "markdown",
   "metadata": {
    "lang": "en"
   },
   "source": [
    "The potential is defined as an integral of the force (with minus sign - see above). We'll calculate it using Sage."
   ]
  },
  {
   "cell_type": "code",
   "execution_count": null,
   "metadata": {},
   "outputs": [],
   "source": [
    "V = -integral(F,x)\n",
    "p1 = plot(V, xmin=-x0, xmax=x0)\n",
    "p1.show(figsize=4, axes_labels=[r'$x$',r'$V(x)=%s$'%latex(V)])"
   ]
  },
  {
   "cell_type": "markdown",
   "metadata": {
    "lang": "en"
   },
   "source": [
    "From the law of energy conservation, we now calculate how the velocity depends on the position (these phase curves)."
   ]
  },
  {
   "cell_type": "code",
   "execution_count": null,
   "metadata": {},
   "outputs": [],
   "source": [
    "E = m*v0^2 + V(x=x0)\n",
    "PZE = m*v^2 + V == E\n",
    "rozw = solve(PZE, v); show(rozw)\n",
    "v1=rozw[0].rhs()\n",
    "v2=rozw[1].rhs()"
   ]
  },
  {
   "cell_type": "markdown",
   "metadata": {
    "lang": "en"
   },
   "source": [
    "For $v=0$ we will calculate the extreme deflections of the particle."
   ]
  },
  {
   "cell_type": "code",
   "execution_count": null,
   "metadata": {},
   "outputs": [],
   "source": [
    "#ekstremalne wychylenie \n",
    "#prawo zachowania energii dla v=0\n",
    "rozw = solve(PZE(v=0), x); show(rozw)\n",
    "xmin = rozw[0].rhs()\n",
    "xmax = rozw[1].rhs()"
   ]
  },
  {
   "cell_type": "code",
   "execution_count": null,
   "metadata": {},
   "outputs": [],
   "source": [
    "#punkt początkowy (tak jak powyżej)\n",
    "ball = (x0,V(x=x0))\n",
    "p0  = point(ball,size=30) \n",
    "p0 += text(r\" initial position\",ball,vertical_alignment='bottom',horizontal_alignment='left',fontsize=8)\n",
    "\n",
    "#ekstrema\n",
    "ball = (xmax,V(x=xmax))\n",
    "p0 += point(ball,size=30,color='red') \n",
    "p0 += text(\"ekstremum_\",ball,vertical_alignment='bottom',horizontal_alignment='right',color='red',fontsize=8)\n",
    "p12a = line((ball,(xmax,0)),linestyle='dotted',color='grey')\n",
    "ball = (xmin,V(x=xmin))\n",
    "p0 += point(ball,size=30,color='red') \n",
    "p0 += text(\"_ekstremum\",ball,vertical_alignment='bottom',horizontal_alignment='left',color='red',fontsize=8)\n",
    "p12a += line((ball,(xmin,0)),linestyle='dotted',color='grey')\n",
    "\n",
    "#potencjał\n",
    "p1 = plot(V, xmin=xmin, xmax=xmax)\n",
    "\n",
    "#krzywe fazowe\n",
    "p12b = line(((xmin,0),(xmin,v2(x=0))),linestyle='dotted',color='grey')\n",
    "p12b += line(((xmax,0),(xmax,v2(x=0))),linestyle='dotted',color='grey')\n",
    "p2 =  plot(v1, (x,xmin,xmax), color='red')\n",
    "p2 += plot(v2, (x,xmin,xmax), color='green')\n",
    "\n",
    "\n",
    "(p0+p1+p12a).show(figsize=4, axes_labels=['$x$','$V(x)$'])\n",
    "(p12b+p2).show(figsize=4,xmax=xmax, axes_labels=['$x$','$v$'])"
   ]
  },
  {
   "cell_type": "markdown",
   "metadata": {
    "lang": "en"
   },
   "source": [
    "##  Many degrees of freedom \n",
    "\n",
    "A system of one  degree of freedom is always potential (i.e. there is a function $U(x)$  provided that the force depends only on the position of the particle and time). If the force also depends on the particle velocity, i.e. when $F=F(x, v)$, there is no such  a function  $F(x, v) = -U'(x) = - dU(x)/dx$. For a system of  many degrees of freedom, described by the set of Newton's equations: \n",
    "\n",
    "$$m_i \\frac{d^2\\vec r_i}{dt^2} = \\vec F_i(\\vec r_1,  \\vec r_2, \\vec r_3, ..., \\vec r_N)$$\n",
    "\n",
    "for $N$ particles, the system is potential if  there exists  a scalar function $V(\\vec r_1,  \\vec r_2, \\vec r_3, ..., \\vec r_N)$ such that the force acting on the $i$-th particle is a gradient of the potential $U$ with a minus sign. We can  explain it for the  example of one  particle moving in the 3-dimensional space:\n",
    "\n",
    "$$m\\frac{d^2x}{dt^2} = F_1(x, y, z) = - \\frac{\\partial}{\\partial x} U(x, y, z) $$ \n",
    "\n",
    "$$m\\frac{d^2y}{dt^2}   = F_2(x, y, z) = - \\frac{\\partial}{\\partial y} U(x, y, z)  $$ \n",
    "\n",
    "$$m\\frac{d^2z}{dt^2} = F_3(x, y, z) = - \\frac{\\partial}{\\partial z} U(x, y, z) $$\n",
    "\n",
    "In the general case, when there are three components of the force  $[F_1,  F_2, F_3]$, the potential cannot exist. Then we say that the system is non-potential.  There is a simple criterion to check whether the system is potential or not. If the system is potential, i.e. if \n",
    "\n",
    "$$\\vec F = - grad \\; U \\quad \\quad \\quad \\mbox{then} \\quad \\quad \\quad rot\\; \\vec F = - rot \\;grad \\;U  =  - \\vec \\nabla \\times \\vec \\nabla U \\equiv 0 $$\n",
    "\n",
    "where the nabla operator $\\vec\\nabla$ is a vector differentiation operator in the form \n",
    "\n",
    "$$\\vec\\nabla = \\hat e_x \\frac{\\partial}{\\partial x} + \\hat e_y \\frac{\\partial}{\\partial y} + \\hat e_y \\frac{\\partial}{\\partial y}$$\n",
    "\n",
    "It is sufficient to check whether rotation of the force is zero. "
   ]
  },
  {
   "cell_type": "markdown",
   "metadata": {
    "lang": "en"
   },
   "source": [
    "**Experiment with Sage!**\n",
    "\n",
    "Check if $\\vec F(x, y, z)$ forces with components\n",
    "\n",
    "$$ A.  \\quad \\quad F_1(x, y,z) = \\frac{y}{x^2 + y^2 + z^2},  \\quad F_2(x, y,z) = - \\frac{x}{x^2 + y^2 + z^2},  \\quad F_3(x, y,z) = \\frac{z}{x^2 + y^2 + z^2}$$\n",
    "\n",
    "$$ B.  \\quad \\quad F_1(x, y,z) = \\frac{x-z}{x^2 + y^2 },  \\quad F_2(x, y,z) = x e^{-y^2},  \\quad F_3(x, y,z) = z+5$$\n",
    "\n",
    "$$ C. \\quad \\quad F_1(x, y,z) = 25 x^4 y - 3y^2,  \\quad F_2(x, y,z) = 5x^5 -6xy -5,  \\quad F_3(x, y,z) =0$$\n",
    "\n",
    "are potential.\n",
    " "
   ]
  },
  {
   "cell_type": "code",
   "execution_count": null,
   "metadata": {},
   "outputs": [],
   "source": [
    "var('x y z')\n",
    "F = vector([ y/(x^2+y^2+z^2),-x/(x^2+y^2+z^2),z/(x^2+y^2+z^2) ])\n",
    "# U = (x+exp(x*y*z))/(x^2+z*y^2+z^2)\n",
    "# F = [-diff(U,x_) for x_ in [x,y,z]]\n",
    "\n",
    "def curl(F):\n",
    "    assert(len(F) == 3)\n",
    "    return vector([diff(F[2],y)-diff(F[1],z), diff(F[0],z)-diff(F[2],x), diff(F[1],x)-diff(F[0],y)]) \n",
    "  \n",
    "show( simplify(curl(F)) )"
   ]
  },
  {
   "cell_type": "markdown",
   "metadata": {
    "lang": "en"
   },
   "source": [
    " If the system is potential then one can check that, as in the case of a 1-degree system of freedom, there is an integral of motion - the total energy of the system:\n",
    "\n",
    "$$E = \\sum_i \\frac{m\\vec v^2}{2} + U(\\vec r_1,  \\vec r_2, \\vec r_3, ..., \\vec r_N)  = constant, \\quad \\quad \\quad \\frac{dE}{dt} = 0$$\n",
    "\n",
    "Therefore, this field of forces is called a conservative force field. All forces related to the potential force field are conservative forces. Of course, there are forces that are not potential forces. \n",
    " \n",
    "For a system of more than one degree of freedom, the law of energy conservation is not so useful as for the former. E.g. for a system of two degrees of freedom: \n",
    "\n",
    "$$E =  \\frac{m v_1^2}{2} + \\frac{m  v_2^2}{2} + U(x, y) = constant$$\n",
    "\n",
    "\n",
    "is a function of four variables $\\{x, y, v_1, v_2\\}$  and the above relation defines a hyper-surface in the 4-dimensional space. So, the analysis of such a geomertic object is not simple (even not possible in a general case). The eminent mathematician V. I. Arnold has written that this system is beyond capabilities of  modern mathematics. "
   ]
  },
  {
   "cell_type": "markdown",
   "metadata": {},
   "source": [
    "\\newpage"
   ]
  }
 ],
 "metadata": {
  "kernelspec": {
   "display_name": "SageMath 8.6",
   "language": "",
   "name": "sagemath"
  },
  "language": "python",
  "language_info": {
   "codemirror_mode": {
    "name": "ipython",
    "version": 2
   },
   "file_extension": ".py",
   "mimetype": "text/x-python",
   "name": "python",
   "nbconvert_exporter": "python",
   "pygments_lexer": "ipython2",
   "version": "2.7.15"
  },
  "nbTranslate": {
   "displayLangs": [
    "en",
    "pl"
   ],
   "hotkey": "alt-t",
   "langInMainMenu": true,
   "sourceLang": "pl",
   "targetLang": "en",
   "useGoogleTranslate": true
  },
  "toc": {
   "base_numbering": 1,
   "nav_menu": {},
   "number_sections": true,
   "sideBar": true,
   "skip_h1_title": false,
   "title_cell": "Table of Contents",
   "title_sidebar": "Contents",
   "toc_cell": false,
   "toc_position": {},
   "toc_section_display": true,
   "toc_window_display": false
  }
 },
 "nbformat": 4,
 "nbformat_minor": 2
}
