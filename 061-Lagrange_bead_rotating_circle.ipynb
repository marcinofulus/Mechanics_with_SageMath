{
 "cells": [
  {
   "cell_type": "markdown",
   "metadata": {},
   "source": [
    "# Bead on a rotating circle\n",
    "\n",
    "\n",
    "\n",
    "We consider a movement of a material point (bead) with the mass $m$ in a gravitational field, along a vertical circle with a radius $l$ rotating with the frequency $\\omega$ around a vertical axis, passing through the center of the circle.\n",
    "\n",
    "Turning circle creates a virtual sphere with a $R$ radius and a bead moves in this sphere. Therefore, it is most convenient to choose a reference system in $(r, \\theta, \\phi)$ spherical variables:\n",
    "$x=r \\sin \\theta \\cos \\phi$\n",
    "$y=r \\sin \\theta \\sin \\phi$\n",
    "$z=r cos \\theta$\n",
    "\n",
    "It is a system with constraints and therefore it is convenient to analyze this issue in the framework of Lagrange mechanics.\n",
    "\n",
    "The Lagrange function is the difference in the kinetic energy of the bead and its potential energy (particles in the gravitational field):\n",
    "\n",
    "$$L=L(r, \\theta, \\phi, \\dot{r}, \\dot{\\theta}, \\dot{\\phi}) = E_k -E_p$$\n",
    "\n",
    "The kinetic energy of the bead is given by the formula\n",
    "\n",
    "$$E_k =\\frac{m v^2}{2} = \\frac{m}{2} [\\dot{x}^2 + \\dot{y}^2 + \\dot{z}^2] =  \\frac{m}{2}[\\dot{r}^2 + r^2 \\dot{\\theta}^2 + r^2 \\sin^2 (\\theta) \\dot{\\phi}^2]$$\n",
    "\n",
    "The potential energy of the bead has the form\n",
    "$$E_p = mgz = mgr \\cos(\\theta)$$"
   ]
  },
  {
   "cell_type": "markdown",
   "metadata": {},
   "source": [
    "## Lagrange aproach in spherical coordinates\n",
    "\n",
    "We can  write Lagrangian of the system in   spherical coordinates in which we have simple contraints:\n",
    "\n",
    " - $r = l$\n",
    " - $\\phi(t)=\\omega_0 t$\n",
    " \n",
    "We will used CAS to derive both the form of the Lagrangian as well as equation of motion."
   ]
  },
  {
   "cell_type": "code",
   "execution_count": null,
   "metadata": {},
   "outputs": [],
   "source": [
    "load('cas_utils.sage')"
   ]
  },
  {
   "cell_type": "code",
   "execution_count": null,
   "metadata": {},
   "outputs": [],
   "source": [
    "var('t')\n",
    "var('l g w0')\n",
    "xy_names = [('x','x'),('y','y'),('z','z')]\n",
    "uv_names = [('r','r'),('phi',r'\\phi'),('theta',r'\\theta')]\n",
    "\n",
    "load('cas_utils.sage')\n",
    "\n",
    "to_fun, to_var = make_symbols(xy_names,uv_names)\n",
    "x2u = {x:l*sin(theta)*cos(phi),\n",
    "       y: l*sin(theta)*sin(phi),\n",
    "       z: l*cos(theta)}\n",
    "_  = transform_virtual_displacements(xy_names,uv_names,suffix='_uv')"
   ]
  },
  {
   "cell_type": "code",
   "execution_count": null,
   "metadata": {},
   "outputs": [],
   "source": [
    "Ek = 1/2*sum([x_.subs(x2u).subs(to_fun).diff(t).subs(to_var)^2 \\\n",
    "              for x_ in [x,y,z]])"
   ]
  },
  {
   "cell_type": "code",
   "execution_count": null,
   "metadata": {},
   "outputs": [],
   "source": [
    "Ek = Ek.subs({phi:w0*t,phid:w0}).trig_simplify()\n",
    "showmath(Ek)"
   ]
  },
  {
   "cell_type": "code",
   "execution_count": null,
   "metadata": {},
   "outputs": [],
   "source": [
    "Ep = g*z.subs(x2u)\n",
    "showmath(Ep)"
   ]
  },
  {
   "cell_type": "code",
   "execution_count": null,
   "metadata": {},
   "outputs": [],
   "source": [
    "L = Ek-Ep\n",
    "showmath(L.trig_simplify())"
   ]
  },
  {
   "cell_type": "code",
   "execution_count": null,
   "metadata": {},
   "outputs": [],
   "source": [
    "EL = L.diff(thetad).subs(to_fun).diff(t).subs(to_var) - L.diff(theta)"
   ]
  },
  {
   "cell_type": "code",
   "execution_count": null,
   "metadata": {},
   "outputs": [],
   "source": [
    "showmath(EL.trig_simplify())"
   ]
  },
  {
   "cell_type": "code",
   "execution_count": null,
   "metadata": {},
   "outputs": [],
   "source": [
    "Ueff = L.subs(thetad==0)\n",
    "showmath(Ueff)"
   ]
  },
  {
   "cell_type": "code",
   "execution_count": null,
   "metadata": {},
   "outputs": [],
   "source": [
    "plot(Ueff.subs({w0:4.2,l:1,g:9.81}),(theta,pi/2,3*pi/2))"
   ]
  },
  {
   "cell_type": "markdown",
   "metadata": {},
   "source": [
    "\\newpage"
   ]
  }
 ],
 "metadata": {
  "kernelspec": {
   "display_name": "SageMath 8.7",
   "language": "",
   "name": "sagemath"
  },
  "language": "python",
  "language_info": {
   "codemirror_mode": {
    "name": "ipython",
    "version": 2
   },
   "file_extension": ".py",
   "mimetype": "text/x-python",
   "name": "python",
   "nbconvert_exporter": "python",
   "pygments_lexer": "ipython2",
   "version": "2.7.15"
  },
  "nbTranslate": {
   "displayLangs": [
    "en",
    "pl"
   ],
   "hotkey": "alt-t",
   "langInMainMenu": true,
   "sourceLang": "pl",
   "targetLang": "en",
   "useGoogleTranslate": true
  },
  "toc": {
   "base_numbering": 1,
   "nav_menu": {},
   "number_sections": true,
   "sideBar": true,
   "skip_h1_title": false,
   "title_cell": "Table of Contents",
   "title_sidebar": "Contents",
   "toc_cell": false,
   "toc_position": {},
   "toc_section_display": true,
   "toc_window_display": false
  }
 },
 "nbformat": 4,
 "nbformat_minor": 2
}
