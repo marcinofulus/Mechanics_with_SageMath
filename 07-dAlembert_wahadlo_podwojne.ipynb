{
 "cells": [
  {
   "cell_type": "markdown",
   "metadata": {},
   "source": [
    "# Double pendulum"
   ]
  },
  {
   "cell_type": "markdown",
   "metadata": {
    "lang": "en"
   },
   "source": [
    "Consider the pendulum suspended on the pendulum. We weill use dAlembert principle to derive eqaution of motion in generalized coordinaes. Naturally, we choose two angles as coordinates which comply with contraints."
   ]
  },
  {
   "cell_type": "code",
   "execution_count": 74,
   "metadata": {},
   "outputs": [],
   "source": [
    "var('t')\n",
    "var('l1 l2 m1 m2 g')\n",
    "\n",
    "xy_names = [('x1','x1'),('y1','y1'),('x2','x2'),('y2','y2')]\n",
    "uv_names = [('phi1','\\\\varphi_1'),('phi2','\\\\varphi_2')]"
   ]
  },
  {
   "cell_type": "code",
   "execution_count": 75,
   "metadata": {},
   "outputs": [],
   "source": [
    "load('cas_utils.sage')"
   ]
  },
  {
   "cell_type": "code",
   "execution_count": 76,
   "metadata": {},
   "outputs": [
    {
     "name": "stdout",
     "output_type": "stream",
     "text": [
      "phi1  :: has been  processed\n",
      "phi2  :: has been  processed\n",
      "x1  :: has been  processed\n",
      "y1  :: has been  processed\n",
      "x2  :: has been  processed\n",
      "y2  :: has been  processed\n"
     ]
    }
   ],
   "source": [
    "to_fun, to_var = make_symbols(xy_names,uv_names)"
   ]
  },
  {
   "cell_type": "code",
   "execution_count": 77,
   "metadata": {},
   "outputs": [],
   "source": [
    "x2u = {x1:l1*sin(phi1),\\\n",
    "       y1:-l1*cos(phi1),\\\n",
    "       x2:l1*sin(phi1)+l2*sin(phi2),\\\n",
    "       y2:-l1*cos(phi1)-l2*cos(phi2)}"
   ]
  },
  {
   "cell_type": "code",
   "execution_count": 78,
   "metadata": {},
   "outputs": [
    {
     "name": "stdout",
     "output_type": "stream",
     "text": [
      "dx1_polar : is added to namespace\n"
     ]
    },
    {
     "data": {
      "text/html": [
       "<html><script type=\"math/tex; mode=display\">\\newcommand{\\Bold}[1]{\\mathbf{#1}}\\left[{\\delta x1}, {\\delta \\varphi_1} l_{1} \\cos\\left({\\varphi_1}\\right)\\right]</script></html>"
      ],
      "text/plain": [
       "[dx1, dphi1*l1*cos(phi1)]"
      ]
     },
     "metadata": {},
     "output_type": "display_data"
    },
    {
     "name": "stdout",
     "output_type": "stream",
     "text": [
      "dy1_polar : is added to namespace\n"
     ]
    },
    {
     "data": {
      "text/html": [
       "<html><script type=\"math/tex; mode=display\">\\newcommand{\\Bold}[1]{\\mathbf{#1}}\\left[{\\delta y1}, {\\delta \\varphi_1} l_{1} \\sin\\left({\\varphi_1}\\right)\\right]</script></html>"
      ],
      "text/plain": [
       "[dy1, dphi1*l1*sin(phi1)]"
      ]
     },
     "metadata": {},
     "output_type": "display_data"
    },
    {
     "name": "stdout",
     "output_type": "stream",
     "text": [
      "dx2_polar : is added to namespace\n"
     ]
    },
    {
     "data": {
      "text/html": [
       "<html><script type=\"math/tex; mode=display\">\\newcommand{\\Bold}[1]{\\mathbf{#1}}\\left[{\\delta x2}, {\\delta \\varphi_1} l_{1} \\cos\\left({\\varphi_1}\\right) + {\\delta \\varphi_2} l_{2} \\cos\\left({\\varphi_2}\\right)\\right]</script></html>"
      ],
      "text/plain": [
       "[dx2, dphi1*l1*cos(phi1) + dphi2*l2*cos(phi2)]"
      ]
     },
     "metadata": {},
     "output_type": "display_data"
    },
    {
     "name": "stdout",
     "output_type": "stream",
     "text": [
      "dy2_polar : is added to namespace\n"
     ]
    },
    {
     "data": {
      "text/html": [
       "<html><script type=\"math/tex; mode=display\">\\newcommand{\\Bold}[1]{\\mathbf{#1}}\\left[{\\delta y2}, {\\delta \\varphi_1} l_{1} \\sin\\left({\\varphi_1}\\right) + {\\delta \\varphi_2} l_{2} \\sin\\left({\\varphi_2}\\right)\\right]</script></html>"
      ],
      "text/plain": [
       "[dy2, dphi1*l1*sin(phi1) + dphi2*l2*sin(phi2)]"
      ]
     },
     "metadata": {},
     "output_type": "display_data"
    },
    {
     "data": {
      "text/plain": [
       "[dphi1*l1*cos(phi1),\n",
       " dphi1*l1*sin(phi1),\n",
       " dphi1*l1*cos(phi1) + dphi2*l2*cos(phi2),\n",
       " dphi1*l1*sin(phi1) + dphi2*l2*sin(phi2)]"
      ]
     },
     "execution_count": 78,
     "metadata": {},
     "output_type": "execute_result"
    }
   ],
   "source": [
    "transform_virtual_displacements(xy_names,uv_names,verbose=True)"
   ]
  },
  {
   "cell_type": "code",
   "execution_count": 79,
   "metadata": {},
   "outputs": [],
   "source": [
    "dAlemb = (m1*x1.subs(x2u).subs(to_fun).diff(t,2))*dx1_polar + \\\n",
    "         (m1*y1.subs(x2u).subs(to_fun).diff(t,2)+m1*g)*dy1_polar+\\\n",
    "         (m2*x2.subs(x2u).subs(to_fun).diff(t,2))*dx2_polar + \\\n",
    "         (m2*y2.subs(x2u).subs(to_fun).diff(t,2)+m2*g)*dy2_polar\n",
    "dAlemb = dAlemb.subs(to_var)"
   ]
  },
  {
   "cell_type": "code",
   "execution_count": 80,
   "metadata": {},
   "outputs": [
    {
     "data": {
      "text/latex": [
       "$$-{\\left(l_{1} {\\dot \\varphi_1}^{2} \\sin\\left({\\varphi_1}\\right) - l_{1} {\\ddot \\varphi_1} \\cos\\left({\\varphi_1}\\right)\\right)} {\\delta \\varphi_1} l_{1} m_{1} \\cos\\left({\\varphi_1}\\right) + {\\left({\\left(l_{1} {\\dot \\varphi_1}^{2} \\cos\\left({\\varphi_1}\\right) + l_{1} {\\ddot \\varphi_1} \\sin\\left({\\varphi_1}\\right)\\right)} m_{1} + g m_{1}\\right)} {\\delta \\varphi_1} l_{1} \\sin\\left({\\varphi_1}\\right) - {\\left(l_{1} {\\dot \\varphi_1}^{2} \\sin\\left({\\varphi_1}\\right) + l_{2} {\\dot \\varphi_2}^{2} \\sin\\left({\\varphi_2}\\right) - l_{1} {\\ddot \\varphi_1} \\cos\\left({\\varphi_1}\\right) - l_{2} {\\ddot \\varphi_2} \\cos\\left({\\varphi_2}\\right)\\right)} {\\left({\\delta \\varphi_1} l_{1} \\cos\\left({\\varphi_1}\\right) + {\\delta \\varphi_2} l_{2} \\cos\\left({\\varphi_2}\\right)\\right)} m_{2} + {\\left({\\delta \\varphi_1} l_{1} \\sin\\left({\\varphi_1}\\right) + {\\delta \\varphi_2} l_{2} \\sin\\left({\\varphi_2}\\right)\\right)} {\\left({\\left(l_{1} {\\dot \\varphi_1}^{2} \\cos\\left({\\varphi_1}\\right) + l_{2} {\\dot \\varphi_2}^{2} \\cos\\left({\\varphi_2}\\right) + l_{1} {\\ddot \\varphi_1} \\sin\\left({\\varphi_1}\\right) + l_{2} {\\ddot \\varphi_2} \\sin\\left({\\varphi_2}\\right)\\right)} m_{2} + g m_{2}\\right)}$$"
      ],
      "text/plain": [
       "<IPython.core.display.Math object>"
      ]
     },
     "execution_count": 80,
     "metadata": {},
     "output_type": "execute_result"
    }
   ],
   "source": [
    "showmath(dAlemb)"
   ]
  },
  {
   "cell_type": "code",
   "execution_count": 81,
   "metadata": {},
   "outputs": [
    {
     "data": {
      "text/latex": [
       "$${\\left(l_{1} l_{2} m_{2} \\cos\\left({\\varphi_2}\\right) \\sin\\left({\\varphi_1}\\right) - l_{1} l_{2} m_{2} \\cos\\left({\\varphi_1}\\right) \\sin\\left({\\varphi_2}\\right)\\right)} {\\dot \\varphi_2}^{2} + {\\left(l_{1}^{2} m_{1} + l_{1}^{2} m_{2}\\right)} {\\ddot \\varphi_1} + {\\left(l_{1} l_{2} m_{2} \\cos\\left({\\varphi_1}\\right) \\cos\\left({\\varphi_2}\\right) + l_{1} l_{2} m_{2} \\sin\\left({\\varphi_1}\\right) \\sin\\left({\\varphi_2}\\right)\\right)} {\\ddot \\varphi_2} + {\\left(g l_{1} m_{1} + g l_{1} m_{2}\\right)} \\sin\\left({\\varphi_1}\\right)$$"
      ],
      "text/plain": [
       "<IPython.core.display.Math object>"
      ]
     },
     "execution_count": 81,
     "metadata": {},
     "output_type": "execute_result"
    }
   ],
   "source": [
    "eq1 = dAlemb.expand().coefficient(dphi1).trig_simplify()\n",
    "eq2 = dAlemb.expand().coefficient(dphi2).trig_simplify()\n",
    "showmath(eq1)"
   ]
  },
  {
   "cell_type": "code",
   "execution_count": 82,
   "metadata": {},
   "outputs": [
    {
     "data": {
      "text/latex": [
       "$$l_{2}^{2} m_{2} {\\ddot \\varphi_2} - {\\left(l_{1} l_{2} m_{2} {\\dot \\varphi_1}^{2} \\sin\\left({\\varphi_1}\\right) - l_{1} l_{2} m_{2} {\\ddot \\varphi_1} \\cos\\left({\\varphi_1}\\right)\\right)} \\cos\\left({\\varphi_2}\\right) + {\\left(l_{1} l_{2} m_{2} {\\dot \\varphi_1}^{2} \\cos\\left({\\varphi_1}\\right) + l_{1} l_{2} m_{2} {\\ddot \\varphi_1} \\sin\\left({\\varphi_1}\\right) + g l_{2} m_{2}\\right)} \\sin\\left({\\varphi_2}\\right)$$"
      ],
      "text/plain": [
       "<IPython.core.display.Math object>"
      ]
     },
     "execution_count": 82,
     "metadata": {},
     "output_type": "execute_result"
    }
   ],
   "source": [
    "showmath(eq2)"
   ]
  },
  {
   "cell_type": "code",
   "execution_count": 83,
   "metadata": {},
   "outputs": [],
   "source": [
    "sol =  solve([eq1,eq2],[phi1dd,phi2dd])[0]"
   ]
  },
  {
   "cell_type": "code",
   "execution_count": 84,
   "metadata": {},
   "outputs": [
    {
     "data": {
      "text/latex": [
       "$$\\left[{\\ddot \\varphi_1} = \\frac{l_{1} m_{2} {\\dot \\varphi_1}^{2} \\cos\\left({\\varphi_1}\\right) \\cos\\left({\\varphi_2}\\right)^{2} \\sin\\left({\\varphi_1}\\right) - {\\left(l_{1} m_{2} {\\dot \\varphi_1}^{2} \\cos\\left({\\varphi_1}\\right) + g m_{2}\\right)} \\sin\\left({\\varphi_1}\\right) \\sin\\left({\\varphi_2}\\right)^{2} + {\\left(l_{2} m_{2} \\cos\\left({\\varphi_2}\\right) \\sin\\left({\\varphi_1}\\right) - l_{2} m_{2} \\cos\\left({\\varphi_1}\\right) \\sin\\left({\\varphi_2}\\right)\\right)} {\\dot \\varphi_2}^{2} - {\\left(l_{1} m_{2} {\\dot \\varphi_1}^{2} \\cos\\left({\\varphi_1}\\right)^{2} - l_{1} m_{2} {\\dot \\varphi_1}^{2} \\sin\\left({\\varphi_1}\\right)^{2} + g m_{2} \\cos\\left({\\varphi_1}\\right)\\right)} \\cos\\left({\\varphi_2}\\right) \\sin\\left({\\varphi_2}\\right) + {\\left(g m_{1} + g m_{2}\\right)} \\sin\\left({\\varphi_1}\\right)}{l_{1} m_{2} \\cos\\left({\\varphi_1}\\right)^{2} \\cos\\left({\\varphi_2}\\right)^{2} + 2 \\, l_{1} m_{2} \\cos\\left({\\varphi_1}\\right) \\cos\\left({\\varphi_2}\\right) \\sin\\left({\\varphi_1}\\right) \\sin\\left({\\varphi_2}\\right) + l_{1} m_{2} \\sin\\left({\\varphi_1}\\right)^{2} \\sin\\left({\\varphi_2}\\right)^{2} - l_{1} m_{1} - l_{1} m_{2}}, {\\ddot \\varphi_2} = -\\frac{{\\left(l_{2} m_{2} \\cos\\left({\\varphi_1}\\right) \\cos\\left({\\varphi_2}\\right)^{2} \\sin\\left({\\varphi_1}\\right) - l_{2} m_{2} \\cos\\left({\\varphi_1}\\right) \\sin\\left({\\varphi_1}\\right) \\sin\\left({\\varphi_2}\\right)^{2} - {\\left(l_{2} m_{2} \\cos\\left({\\varphi_1}\\right)^{2} - l_{2} m_{2} \\sin\\left({\\varphi_1}\\right)^{2}\\right)} \\cos\\left({\\varphi_2}\\right) \\sin\\left({\\varphi_2}\\right)\\right)} {\\dot \\varphi_2}^{2} + {\\left(l_{1} m_{1} {\\dot \\varphi_1}^{2} + l_{1} m_{2} {\\dot \\varphi_1}^{2} + {\\left(g m_{1} + g m_{2}\\right)} \\cos\\left({\\varphi_1}\\right)\\right)} \\cos\\left({\\varphi_2}\\right) \\sin\\left({\\varphi_1}\\right) + {\\left({\\left(g m_{1} + g m_{2}\\right)} \\sin\\left({\\varphi_1}\\right)^{2} - g m_{1} - g m_{2} - {\\left(l_{1} m_{1} {\\dot \\varphi_1}^{2} + l_{1} m_{2} {\\dot \\varphi_1}^{2}\\right)} \\cos\\left({\\varphi_1}\\right)\\right)} \\sin\\left({\\varphi_2}\\right)}{l_{2} m_{2} \\cos\\left({\\varphi_1}\\right)^{2} \\cos\\left({\\varphi_2}\\right)^{2} + 2 \\, l_{2} m_{2} \\cos\\left({\\varphi_1}\\right) \\cos\\left({\\varphi_2}\\right) \\sin\\left({\\varphi_1}\\right) \\sin\\left({\\varphi_2}\\right) + l_{2} m_{2} \\sin\\left({\\varphi_1}\\right)^{2} \\sin\\left({\\varphi_2}\\right)^{2} - l_{2} m_{1} - l_{2} m_{2}}\\right]$$"
      ],
      "text/plain": [
       "<IPython.core.display.Math object>"
      ]
     },
     "execution_count": 84,
     "metadata": {},
     "output_type": "execute_result"
    }
   ],
   "source": [
    "showmath(sol)"
   ]
  },
  {
   "cell_type": "code",
   "execution_count": 85,
   "metadata": {},
   "outputs": [
    {
     "data": {
      "text/latex": [
       "$$l_{1} m_{2} \\cos\\left({\\varphi_1}\\right)^{2} \\cos\\left({\\varphi_2}\\right)^{2} + 2 \\, l_{1} m_{2} \\cos\\left({\\varphi_1}\\right) \\cos\\left({\\varphi_2}\\right) \\sin\\left({\\varphi_1}\\right) \\sin\\left({\\varphi_2}\\right) + l_{1} m_{2} \\sin\\left({\\varphi_1}\\right)^{2} \\sin\\left({\\varphi_2}\\right)^{2} - l_{1} m_{1} - l_{1} m_{2}$$"
      ],
      "text/plain": [
       "<IPython.core.display.Math object>"
      ]
     },
     "execution_count": 85,
     "metadata": {},
     "output_type": "execute_result"
    }
   ],
   "source": [
    "showmath( sol[0].rhs().denominator() )"
   ]
  },
  {
   "cell_type": "code",
   "execution_count": 86,
   "metadata": {},
   "outputs": [
    {
     "data": {
      "text/html": [
       "<html><script type=\"math/tex; mode=display\">\\newcommand{\\Bold}[1]{\\mathbf{#1}}-l_{1} m_{2} \\cos\\left({\\varphi_1}\\right)^{2} \\cos\\left({\\varphi_2}\\right)^{2} + l_{1} m_{2} \\cos\\left({\\varphi_2}\\right)^{2} \\sin\\left({\\varphi_1}\\right)^{2} - 4 \\, l_{1} m_{2} \\cos\\left({\\varphi_1}\\right) \\cos\\left({\\varphi_2}\\right) \\sin\\left({\\varphi_1}\\right) \\sin\\left({\\varphi_2}\\right) + l_{1} m_{2} \\cos\\left({\\varphi_1}\\right)^{2} \\sin\\left({\\varphi_2}\\right)^{2} - l_{1} m_{2} \\sin\\left({\\varphi_1}\\right)^{2} \\sin\\left({\\varphi_2}\\right)^{2} + 2 \\, l_{1} m_{1} + l_{1} m_{2}</script></html>"
      ],
      "text/plain": [
       "-l1*m2*cos(phi1)^2*cos(phi2)^2 + l1*m2*cos(phi2)^2*sin(phi1)^2 - 4*l1*m2*cos(phi1)*cos(phi2)*sin(phi1)*sin(phi2) + l1*m2*cos(phi1)^2*sin(phi2)^2 - l1*m2*sin(phi1)^2*sin(phi2)^2 + 2*l1*m1 + l1*m2"
      ]
     },
     "metadata": {},
     "output_type": "display_data"
    }
   ],
   "source": [
    "(l1*(2*m1+m2-m2*cos(2*phi1-2*phi2))).expand_trig().expand_trig().expand().show()"
   ]
  },
  {
   "cell_type": "code",
   "execution_count": 87,
   "metadata": {},
   "outputs": [
    {
     "data": {
      "text/plain": [
       "True"
      ]
     },
     "execution_count": 87,
     "metadata": {},
     "output_type": "execute_result"
    }
   ],
   "source": [
    "bool ( -2*sol[0].rhs().denominator()==(l1*(2*m1+m2-m2*cos(2*phi1-2*phi2))).expand_trig().expand_trig().expand() )"
   ]
  },
  {
   "cell_type": "markdown",
   "metadata": {
    "lang": "en"
   },
   "source": [
    "\n",
    "Since the \"textbook\" solution contains a slightly different form, let's check if we have these formulas:\n",
    "\n",
    "$$T(\\varphi_1,\\varphi_2,\\dot{\\varphi}_1,\\dot{\\varphi}_2) = \\frac{m_1}{2} l_1^2 \\dot{\\varphi}_1^2 + \\frac{m_2}{2} \\left( l_1^2 \\dot{\\varphi}_1^2 + l_2^2 \\dot{\\varphi}_2^2 + 2 l_1 l_2 \\dot{\\varphi}_1 \\dot{\\varphi}_2 \\cos(\\varphi_1-\\varphi_2) \\right)$$ $$V(\\varphi_1,\\varphi_2) = -(m_1+m_2) g l_1 \\cos\\varphi_1 - m_2 g l_2 \\cos\\varphi_2$$\n",
    "$$m_{2}l_{2}\\ddot{\\varphi}_{2}\\cos\\left(\\varphi_{1}-\\varphi_{2}\\right)+\\left(m_{1}+m_{2}\\right)l_{1}\\ddot{\\varphi}_{1}+m_{2}l_{2}\\dot{\\varphi}_{2}^{2}\\sin\\left(\\varphi_{1}-\\varphi_{2}\\right)+\\left(m_{1}+m_{2}\\right)g\\sin\\varphi_{1}=0$$\n",
    "$$l_{2}\\ddot{\\varphi}_{2}+l_{1}\\ddot{\\varphi}_{1}\\cos\\left(\\varphi_{1}-\\varphi_{2}\\right)-l_{1}\\dot{\\varphi}_{1}^{2}\\sin\\left(\\varphi_{1}-\\varphi_{2}\\right)+g\\sin\\varphi_{2}=0$$"
   ]
  },
  {
   "cell_type": "code",
   "execution_count": null,
   "metadata": {},
   "outputs": [],
   "source": [
    "rown_wiki = [m2*l2*cos(phi1-phi2)*phi2dd+(m1+m2)*l1*phi1dd+m2*l2*phi2d^2 * sin(phi1-phi2)+ (m1+m2)*g*sin(phi1),\\\n",
    " l2*phi2dd+l1*cos(phi1-phi2)*phi1dd-l1*phi1d^2*sin(phi1-phi2)+g*sin(phi2)]"
   ]
  },
  {
   "cell_type": "code",
   "execution_count": 105,
   "metadata": {},
   "outputs": [
    {
     "data": {
      "text/latex": [
       "$$l_{2} m_{2} {\\dot \\varphi_2}^{2} \\sin\\left({\\varphi_1} - {\\varphi_2}\\right) + l_{2} m_{2} {\\ddot \\varphi_2} \\cos\\left({\\varphi_1} - {\\varphi_2}\\right) + l_{1} {\\left(m_{1} + m_{2}\\right)} {\\ddot \\varphi_1} + g {\\left(m_{1} + m_{2}\\right)} \\sin\\left({\\varphi_1}\\right)$$"
      ],
      "text/plain": [
       "<IPython.core.display.Math object>"
      ]
     },
     "execution_count": 105,
     "metadata": {},
     "output_type": "execute_result"
    }
   ],
   "source": [
    "showmath(rown_wiki[0])"
   ]
  },
  {
   "cell_type": "code",
   "execution_count": 106,
   "metadata": {},
   "outputs": [
    {
     "data": {
      "text/latex": [
       "$$-l_{1} {\\dot \\varphi_1}^{2} \\sin\\left({\\varphi_1} - {\\varphi_2}\\right) + l_{1} {\\ddot \\varphi_1} \\cos\\left({\\varphi_1} - {\\varphi_2}\\right) + l_{2} {\\ddot \\varphi_2} + g \\sin\\left({\\varphi_2}\\right)$$"
      ],
      "text/plain": [
       "<IPython.core.display.Math object>"
      ]
     },
     "execution_count": 106,
     "metadata": {},
     "output_type": "execute_result"
    }
   ],
   "source": [
    "showmath(rown_wiki[1])"
   ]
  },
  {
   "cell_type": "code",
   "execution_count": 108,
   "metadata": {},
   "outputs": [
    {
     "data": {
      "text/html": [
       "<html><script type=\"math/tex; mode=display\">\\newcommand{\\Bold}[1]{\\mathbf{#1}}l_{2} m_{2} {\\dot \\varphi_2}^{2} \\sin\\left({\\varphi_1} - {\\varphi_2}\\right) + l_{2} m_{2} {\\ddot \\varphi_2} \\cos\\left({\\varphi_1} - {\\varphi_2}\\right) + l_{1} {\\left(m_{1} + m_{2}\\right)} {\\ddot \\varphi_1} + g {\\left(m_{1} + m_{2}\\right)} \\sin\\left({\\varphi_1}\\right)</script></html>"
      ],
      "text/plain": [
       "l2*m2*phi2d^2*sin(phi1 - phi2) + l2*m2*phi2dd*cos(phi1 - phi2) + l1*(m1 + m2)*phi1dd + g*(m1 + m2)*sin(phi1)"
      ]
     },
     "metadata": {},
     "output_type": "display_data"
    }
   ],
   "source": [
    "rown_wiki[0].show()"
   ]
  },
  {
   "cell_type": "code",
   "execution_count": 109,
   "metadata": {},
   "outputs": [
    {
     "data": {
      "text/html": [
       "<html><script type=\"math/tex; mode=display\">\\newcommand{\\Bold}[1]{\\mathbf{#1}}-l_{2} m_{2} {\\dot \\varphi_2}^{2} \\sin\\left(-{\\varphi_1} + {\\varphi_2}\\right) + l_{2} m_{2} {\\ddot \\varphi_2} \\cos\\left(-{\\varphi_1} + {\\varphi_2}\\right) + l_{1} m_{1} {\\ddot \\varphi_1} + l_{1} m_{2} {\\ddot \\varphi_1} + g m_{1} \\sin\\left({\\varphi_1}\\right) + g m_{2} \\sin\\left({\\varphi_1}\\right)</script></html>"
      ],
      "text/plain": [
       "-l2*m2*phi2d^2*sin(-phi1 + phi2) + l2*m2*phi2dd*cos(-phi1 + phi2) + l1*m1*phi1dd + l1*m2*phi1dd + g*m1*sin(phi1) + g*m2*sin(phi1)"
      ]
     },
     "metadata": {},
     "output_type": "display_data"
    }
   ],
   "source": [
    "(eq1/l1).reduce_trig().show()"
   ]
  },
  {
   "cell_type": "code",
   "execution_count": 110,
   "metadata": {},
   "outputs": [
    {
     "data": {
      "text/html": [
       "<html><script type=\"math/tex; mode=display\">\\newcommand{\\Bold}[1]{\\mathbf{#1}}l_{2} m_{2} {\\dot \\varphi_2}^{2} \\sin\\left({\\varphi_1} - {\\varphi_2}\\right) + l_{2} m_{2} {\\ddot \\varphi_2} \\cos\\left({\\varphi_1} - {\\varphi_2}\\right) + l_{1} {\\left(m_{1} + m_{2}\\right)} {\\ddot \\varphi_1} + g {\\left(m_{1} + m_{2}\\right)} \\sin\\left({\\varphi_1}\\right)</script></html>"
      ],
      "text/plain": [
       "l2*m2*phi2d^2*sin(phi1 - phi2) + l2*m2*phi2dd*cos(phi1 - phi2) + l1*(m1 + m2)*phi1dd + g*(m1 + m2)*sin(phi1)"
      ]
     },
     "metadata": {},
     "output_type": "display_data"
    }
   ],
   "source": [
    "rown_wiki[0].show()"
   ]
  },
  {
   "cell_type": "code",
   "execution_count": 115,
   "metadata": {},
   "outputs": [
    {
     "data": {
      "text/plain": [
       "True"
      ]
     },
     "execution_count": 115,
     "metadata": {},
     "output_type": "execute_result"
    }
   ],
   "source": [
    "bool((eq1/l1) == rown_wiki[0] )"
   ]
  },
  {
   "cell_type": "code",
   "execution_count": 116,
   "metadata": {},
   "outputs": [
    {
     "data": {
      "text/html": [
       "<html><script type=\"math/tex; mode=display\">\\newcommand{\\Bold}[1]{\\mathbf{#1}}l_{1} {\\dot \\varphi_1}^{2} \\sin\\left(-{\\varphi_1} + {\\varphi_2}\\right) + l_{1} {\\ddot \\varphi_1} \\cos\\left(-{\\varphi_1} + {\\varphi_2}\\right) + l_{2} {\\ddot \\varphi_2} + g \\sin\\left({\\varphi_2}\\right)</script></html>"
      ],
      "text/plain": [
       "l1*phi1d^2*sin(-phi1 + phi2) + l1*phi1dd*cos(-phi1 + phi2) + l2*phi2dd + g*sin(phi2)"
      ]
     },
     "metadata": {},
     "output_type": "display_data"
    },
    {
     "data": {
      "text/html": [
       "<html><script type=\"math/tex; mode=display\">\\newcommand{\\Bold}[1]{\\mathbf{#1}}-l_{1} {\\dot \\varphi_1}^{2} \\sin\\left({\\varphi_1} - {\\varphi_2}\\right) + l_{1} {\\ddot \\varphi_1} \\cos\\left({\\varphi_1} - {\\varphi_2}\\right) + l_{2} {\\ddot \\varphi_2} + g \\sin\\left({\\varphi_2}\\right)</script></html>"
      ],
      "text/plain": [
       "-l1*phi1d^2*sin(phi1 - phi2) + l1*phi1dd*cos(phi1 - phi2) + l2*phi2dd + g*sin(phi2)"
      ]
     },
     "metadata": {},
     "output_type": "display_data"
    }
   ],
   "source": [
    "(eq2/l2/m2).reduce_trig().show()\n",
    "rown_wiki[1].show()"
   ]
  },
  {
   "cell_type": "code",
   "execution_count": 114,
   "metadata": {},
   "outputs": [
    {
     "data": {
      "text/plain": [
       "True"
      ]
     },
     "execution_count": 114,
     "metadata": {},
     "output_type": "execute_result"
    }
   ],
   "source": [
    "bool((eq2/l2/m2) == rown_wiki[1] )"
   ]
  },
  {
   "cell_type": "markdown",
   "metadata": {},
   "source": [
    "## Euler -Langrange\n"
   ]
  },
  {
   "cell_type": "code",
   "execution_count": 117,
   "metadata": {},
   "outputs": [],
   "source": [
    "Ekin = 1/2*(m1*x1.subs(x2u).subs(to_fun).diff(t).subs(to_var)^2+\\\n",
    "m1*y1.subs(x2u).subs(to_fun).diff(t).subs(to_var)^2+\\\n",
    "m2*x2.subs(x2u).subs(to_fun).diff(t).subs(to_var)^2+\\\n",
    "m2*y2.subs(x2u).subs(to_fun).diff(t).subs(to_var)^2 )\n",
    "\n",
    "Epot = m1*g*y1.subs(x2u)+m2*g*y2.subs(x2u)"
   ]
  },
  {
   "cell_type": "code",
   "execution_count": 118,
   "metadata": {},
   "outputs": [
    {
     "data": {
      "text/latex": [
       "$$-g l_{2} m_{2} \\cos\\left({\\varphi_2}\\right) - {\\left(g l_{1} m_{1} + g l_{1} m_{2}\\right)} \\cos\\left({\\varphi_1}\\right)$$"
      ],
      "text/plain": [
       "<IPython.core.display.Math object>"
      ]
     },
     "execution_count": 118,
     "metadata": {},
     "output_type": "execute_result"
    }
   ],
   "source": [
    "showmath( Epot.collect(cos(phi1)) )"
   ]
  },
  {
   "cell_type": "code",
   "execution_count": 119,
   "metadata": {},
   "outputs": [
    {
     "data": {
      "text/latex": [
       "$$\\frac{1}{2} \\, l_{2}^{2} m_{2} {\\dot \\varphi_2}^{2} + \\frac{1}{2} \\, {\\left(l_{1}^{2} m_{1} + l_{1}^{2} m_{2}\\right)} {\\dot \\varphi_1}^{2} + {\\left(l_{1} l_{2} m_{2} {\\dot \\varphi_1} \\cos\\left({\\varphi_1}\\right) \\cos\\left({\\varphi_2}\\right) + l_{1} l_{2} m_{2} {\\dot \\varphi_1} \\sin\\left({\\varphi_1}\\right) \\sin\\left({\\varphi_2}\\right)\\right)} {\\dot \\varphi_2}$$"
      ],
      "text/plain": [
       "<IPython.core.display.Math object>"
      ]
     },
     "execution_count": 119,
     "metadata": {},
     "output_type": "execute_result"
    }
   ],
   "source": [
    "showmath( Ekin.trig_simplify() )"
   ]
  },
  {
   "cell_type": "code",
   "execution_count": 120,
   "metadata": {},
   "outputs": [],
   "source": [
    "L = Ekin - Epot\n"
   ]
  },
  {
   "cell_type": "code",
   "execution_count": 121,
   "metadata": {},
   "outputs": [],
   "source": [
    "EL1 = L.diff(phi1d).subs(to_fun).diff(t).subs(to_var) - L.diff(phi1)\n",
    "EL2 = L.diff(phi2d).subs(to_fun).diff(t).subs(to_var) - L.diff(phi2)"
   ]
  },
  {
   "cell_type": "code",
   "execution_count": 122,
   "metadata": {},
   "outputs": [
    {
     "data": {
      "text/latex": [
       "$$-l_{2} m_{2} {\\dot \\varphi_2}^{2} \\sin\\left(-{\\varphi_1} + {\\varphi_2}\\right) + l_{2} m_{2} {\\ddot \\varphi_2} \\cos\\left(-{\\varphi_1} + {\\varphi_2}\\right) + l_{1} m_{1} {\\ddot \\varphi_1} + l_{1} m_{2} {\\ddot \\varphi_1} + g m_{1} \\sin\\left({\\varphi_1}\\right) + g m_{2} \\sin\\left({\\varphi_1}\\right)$$"
      ],
      "text/plain": [
       "<IPython.core.display.Math object>"
      ]
     },
     "execution_count": 122,
     "metadata": {},
     "output_type": "execute_result"
    }
   ],
   "source": [
    "EL1 = (EL1/l1).trig_reduce()\n",
    "EL2 = (EL2/l2).trig_reduce()\n",
    "showmath(EL1)"
   ]
  },
  {
   "cell_type": "code",
   "execution_count": 123,
   "metadata": {},
   "outputs": [
    {
     "data": {
      "text/html": [
       "<html><script type=\"math/tex; mode=display\">\\newcommand{\\Bold}[1]{\\mathbf{#1}}\\left[{\\ddot \\varphi_1} = -\\frac{l_{1} m_{2} {\\dot \\varphi_1}^{2} \\cos\\left(-{\\varphi_1} + {\\varphi_2}\\right) \\sin\\left(-{\\varphi_1} + {\\varphi_2}\\right) + l_{2} m_{2} {\\dot \\varphi_2}^{2} \\sin\\left(-{\\varphi_1} + {\\varphi_2}\\right) + g m_{2} \\cos\\left(-{\\varphi_1} + {\\varphi_2}\\right) \\sin\\left({\\varphi_2}\\right) - {\\left(g m_{1} + g m_{2}\\right)} \\sin\\left({\\varphi_1}\\right)}{l_{1} m_{2} \\cos\\left(-{\\varphi_1} + {\\varphi_2}\\right)^{2} - l_{1} m_{1} - l_{1} m_{2}}, {\\ddot \\varphi_2} = \\frac{l_{2} m_{2} {\\dot \\varphi_2}^{2} \\cos\\left(-{\\varphi_1} + {\\varphi_2}\\right) \\sin\\left(-{\\varphi_1} + {\\varphi_2}\\right) - {\\left(g m_{1} + g m_{2}\\right)} \\cos\\left(-{\\varphi_1} + {\\varphi_2}\\right) \\sin\\left({\\varphi_1}\\right) + g m_{1} \\sin\\left({\\varphi_2}\\right) + g m_{2} \\sin\\left({\\varphi_2}\\right) + {\\left(l_{1} m_{1} {\\dot \\varphi_1}^{2} + l_{1} m_{2} {\\dot \\varphi_1}^{2}\\right)} \\sin\\left(-{\\varphi_1} + {\\varphi_2}\\right)}{l_{2} m_{2} \\cos\\left(-{\\varphi_1} + {\\varphi_2}\\right)^{2} - l_{2} m_{1} - l_{2} m_{2}}\\right]</script></html>"
      ],
      "text/plain": [
       "[phi1dd == -(l1*m2*phi1d^2*cos(-phi1 + phi2)*sin(-phi1 + phi2) + l2*m2*phi2d^2*sin(-phi1 + phi2) + g*m2*cos(-phi1 + phi2)*sin(phi2) - (g*m1 + g*m2)*sin(phi1))/(l1*m2*cos(-phi1 + phi2)^2 - l1*m1 - l1*m2),\n",
       " phi2dd == (l2*m2*phi2d^2*cos(-phi1 + phi2)*sin(-phi1 + phi2) - (g*m1 + g*m2)*cos(-phi1 + phi2)*sin(phi1) + g*m1*sin(phi2) + g*m2*sin(phi2) + (l1*m1*phi1d^2 + l1*m2*phi1d^2)*sin(-phi1 + phi2))/(l2*m2*cos(-phi1 + phi2)^2 - l2*m1 - l2*m2)]"
      ]
     },
     "metadata": {},
     "output_type": "display_data"
    }
   ],
   "source": [
    "sol =  solve([EL1,EL2],[phi1dd,phi2dd])[0]\n",
    "show(sol)"
   ]
  },
  {
   "cell_type": "code",
   "execution_count": 128,
   "metadata": {},
   "outputs": [],
   "source": [
    "expr = sol[0].rhs()"
   ]
  },
  {
   "cell_type": "code",
   "execution_count": 140,
   "metadata": {},
   "outputs": [
    {
     "data": {
      "text/html": [
       "<html><script type=\"math/tex; mode=display\">\\newcommand{\\Bold}[1]{\\mathbf{#1}}-l_{1} m_{2} {\\dot \\varphi_1}^{2} \\cos\\left(-{\\varphi_1} + {\\varphi_2}\\right) \\sin\\left(-{\\varphi_1} + {\\varphi_2}\\right)</script></html>"
      ],
      "text/plain": [
       "-l1*m2*phi1d^2*cos(-phi1 + phi2)*sin(-phi1 + phi2)"
      ]
     },
     "metadata": {},
     "output_type": "display_data"
    },
    {
     "data": {
      "text/html": [
       "<html><script type=\"math/tex; mode=display\">\\newcommand{\\Bold}[1]{\\mathbf{#1}}-l_{2} m_{2} {\\dot \\varphi_2}^{2} \\sin\\left(-{\\varphi_1} + {\\varphi_2}\\right)</script></html>"
      ],
      "text/plain": [
       "-l2*m2*phi2d^2*sin(-phi1 + phi2)"
      ]
     },
     "metadata": {},
     "output_type": "display_data"
    },
    {
     "data": {
      "text/html": [
       "<html><script type=\"math/tex; mode=display\">\\newcommand{\\Bold}[1]{\\mathbf{#1}}-g m_{2} \\cos\\left(-{\\varphi_1} + {\\varphi_2}\\right) \\sin\\left({\\varphi_2}\\right)</script></html>"
      ],
      "text/plain": [
       "-g*m2*cos(-phi1 + phi2)*sin(phi2)"
      ]
     },
     "metadata": {},
     "output_type": "display_data"
    },
    {
     "data": {
      "text/html": [
       "<html><script type=\"math/tex; mode=display\">\\newcommand{\\Bold}[1]{\\mathbf{#1}}g m_{1} \\sin\\left({\\varphi_1}\\right)</script></html>"
      ],
      "text/plain": [
       "g*m1*sin(phi1)"
      ]
     },
     "metadata": {},
     "output_type": "display_data"
    },
    {
     "data": {
      "text/html": [
       "<html><script type=\"math/tex; mode=display\">\\newcommand{\\Bold}[1]{\\mathbf{#1}}g m_{2} \\sin\\left({\\varphi_1}\\right)</script></html>"
      ],
      "text/plain": [
       "g*m2*sin(phi1)"
      ]
     },
     "metadata": {},
     "output_type": "display_data"
    }
   ],
   "source": [
    "for ex_ in expr.factor().numerator().operands():\n",
    "    show(ex_)"
   ]
  },
  {
   "cell_type": "markdown",
   "metadata": {},
   "source": [
    "## Numerical analysis\n",
    "\n"
   ]
  },
  {
   "cell_type": "code",
   "execution_count": 149,
   "metadata": {},
   "outputs": [
    {
     "data": {
      "image/png": "[encoded data removed]",
      "text/plain": [
       "Graphics object consisting of 1 graphics primitive"
      ]
     },
     "metadata": {},
     "output_type": "display_data"
    }
   ],
   "source": [
    "import numpy as np \n",
    "\n",
    "ode =  [phi1d,phi2d]+[sol[0].rhs(),sol[1].rhs()]\n",
    "ode = map(lambda x:x.subs({l1:1,l2:1,m1:1,m2:1,g:9.81}),ode)\n",
    "\n",
    "times = srange(0,5,.01)\n",
    "numsol = desolve_odeint(ode,[2.1,0,0,0],times,[phi1,phi2,phi1d,phi2d])\n",
    "p = line ( zip(np.sin(numsol[:,0])+np.sin(numsol[:,1]),\\\n",
    "               -np.cos(numsol[:,0])-np.cos(numsol[:,1])), color='gray' )\n",
    "p.show(figsize=4)"
   ]
  },
  {
   "cell_type": "code",
   "execution_count": 147,
   "metadata": {},
   "outputs": [],
   "source": [
    "def plot_dp(f1,f2,pars):\n",
    "    mass1 = vector([x1,y1]).subs(x2u).subs(pars).subs({phi1:f1,phi2:f2})\n",
    "    mass2 = vector([x2,y2]).subs(x2u).subs(pars).subs({phi1:f1,phi2:f2})\n",
    "    plt = point([(0,0),mass1],aspect_ratio=1,size=40)\n",
    "    plt += point(mass2,xmin=-2,xmax=2,ymin=-2,ymax=2,size=40)\n",
    "    plt += line([(0,0),mass1,mass2],color='gray')\n",
    "\n",
    "    return plt"
   ]
  },
  {
   "cell_type": "code",
   "execution_count": 148,
   "metadata": {},
   "outputs": [
    {
     "data": {
      "image/png": "[encoded data removed]",
      "text/plain": [
       "Graphics object consisting of 4 graphics primitives"
      ]
     },
     "execution_count": 148,
     "metadata": {},
     "output_type": "execute_result"
    }
   ],
   "source": [
    "plot_dp(numsol[213,0],numsol[213,1],{l1:1,l2:1})+p"
   ]
  },
  {
   "cell_type": "code",
   "execution_count": 150,
   "metadata": {},
   "outputs": [
    {
     "data": {
      "application/vnd.jupyter.widget-view+json": {
       "model_id": "a786070df35f4f2d8eac9f94f69ee4aa",
       "version_major": 2,
       "version_minor": 0
      },
      "text/plain": [
       "SW50ZXJhY3RpdmUgZnVuY3Rpb24gPGZ1bmN0aW9uIF8gYXQgMHgyYTA5NjljZjg+IHdpdGggMSB3aWRnZXQKICBpdGg6IFRyYW5zZm9ybUludFNsaWRlcih2YWx1ZT0wLCBkZXNjcmlwdGlvbj3igKY=\n"
      ]
     },
     "metadata": {},
     "output_type": "display_data"
    }
   ],
   "source": [
    "@interact\n",
    "def _(ith=slider(0,numsol.shape[0]-1)):\n",
    "    f1,f2 = numsol[ith,:2]\n",
    "    plot_dp(f1,f2,{l1:1,l2:1}).show(axes=False)\n",
    "    "
   ]
  },
  {
   "cell_type": "markdown",
   "metadata": {},
   "source": [
    "## Triple  pendulum\n",
    "\n",
    "We can easily generalize our symbolic scheme to cases where the number of points is arbitrary.\n"
   ]
  },
  {
   "cell_type": "code",
   "execution_count": 22,
   "metadata": {},
   "outputs": [],
   "source": [
    "N = 4\n",
    "var('t g')\n",
    "for i in range(1,1+N):\n",
    "    var('l%d m%d'%(i,i))"
   ]
  },
  {
   "cell_type": "code",
   "execution_count": 23,
   "metadata": {},
   "outputs": [],
   "source": [
    "xy_names = [('x%d'%i,'x_%d'%i) for i in range(1,1+N)] \n",
    "xy_names += [('y%d'%i,'y_%d'%i) for i in range(1,1+N)] \n",
    "uv_names = [ ('phi%d'%i,'\\\\varphi_%d'%i) for i in range(1,1+N)] \n"
   ]
  },
  {
   "cell_type": "code",
   "execution_count": 4,
   "metadata": {},
   "outputs": [],
   "source": [
    "load('cas_utils.sage')"
   ]
  },
  {
   "cell_type": "code",
   "execution_count": 5,
   "metadata": {},
   "outputs": [
    {
     "name": "stdout",
     "output_type": "stream",
     "text": [
      "phi1  :: has been  processed\n",
      "phi2  :: has been  processed\n",
      "phi3  :: has been  processed\n",
      "phi4  :: has been  processed\n",
      "x1  :: has been  processed\n",
      "x2  :: has been  processed\n",
      "x3  :: has been  processed\n",
      "x4  :: has been  processed\n",
      "y1  :: has been  processed\n",
      "y2  :: has been  processed\n",
      "y3  :: has been  processed\n",
      "y4  :: has been  processed\n"
     ]
    }
   ],
   "source": [
    "to_fun, to_var = make_symbols(xy_names,uv_names)"
   ]
  },
  {
   "cell_type": "code",
   "execution_count": 6,
   "metadata": {},
   "outputs": [
    {
     "data": {
      "text/html": [
       "<html><script type=\"math/tex; mode=display\">\\newcommand{\\Bold}[1]{\\mathbf{#1}}\\left[{\\varphi_1}, {\\varphi_2}, {\\varphi_3}, {\\varphi_4}\\right]</script></html>"
      ],
      "text/plain": [
       "[phi1, phi2, phi3, phi4]"
      ]
     },
     "metadata": {},
     "output_type": "display_data"
    }
   ],
   "source": [
    "ls = [vars()['l%d'%i] for i in range(1,1+N)]\n",
    "xs = [vars()['x%d'%i] for i in range(1,1+N)]\n",
    "ys = [vars()['y%d'%i] for i in range(1,1+N)]\n",
    "phis = [vars()['phi%d'%i] for i in range(1,1+N)]\n",
    "ms = [vars()['m%d'%i] for i in range(1,1+N)]\n",
    "\n",
    "show(phis)"
   ]
  },
  {
   "cell_type": "code",
   "execution_count": 7,
   "metadata": {},
   "outputs": [],
   "source": [
    "x2u = {x1:l1*sin(phi1),\\\n",
    "       y1:-l1*cos(phi1) }\n",
    "\n",
    "for x_prev,x_,y_prev,y_,l_,phi_ in zip(xs[:-1],xs[1:],ys[:-1],ys[1:],ls[1:],phis[1:]):\n",
    "    x2u[x_] = x2u[x_prev] + l_*sin(phi_)\n",
    "    x2u[y_] = x2u[y_prev] - l_*cos(phi_)\n"
   ]
  },
  {
   "cell_type": "code",
   "execution_count": 8,
   "metadata": {},
   "outputs": [
    {
     "data": {
      "text/plain": [
       "[dphi1*l1*cos(phi1),\n",
       " dphi1*l1*cos(phi1) + dphi2*l2*cos(phi2),\n",
       " dphi1*l1*cos(phi1) + dphi2*l2*cos(phi2) + dphi3*l3*cos(phi3),\n",
       " dphi1*l1*cos(phi1) + dphi2*l2*cos(phi2) + dphi3*l3*cos(phi3) + dphi4*l4*cos(phi4),\n",
       " dphi1*l1*sin(phi1),\n",
       " dphi1*l1*sin(phi1) + dphi2*l2*sin(phi2),\n",
       " dphi1*l1*sin(phi1) + dphi2*l2*sin(phi2) + dphi3*l3*sin(phi3),\n",
       " dphi1*l1*sin(phi1) + dphi2*l2*sin(phi2) + dphi3*l3*sin(phi3) + dphi4*l4*sin(phi4)]"
      ]
     },
     "execution_count": 8,
     "metadata": {},
     "output_type": "execute_result"
    }
   ],
   "source": [
    "transform_virtual_displacements(xy_names,uv_names,verbose=False)"
   ]
  },
  {
   "cell_type": "code",
   "execution_count": 9,
   "metadata": {},
   "outputs": [],
   "source": [
    "dxs = [vars()['dx%d_polar'%i] for i in range(1,1+N) ]\n",
    "dys = [vars()['dy%d_polar'%i] for i in range(1,1+N) ]"
   ]
  },
  {
   "cell_type": "code",
   "execution_count": 10,
   "metadata": {},
   "outputs": [],
   "source": [
    "dAlemb = sum( (m_*x_.subs(x2u).subs(to_fun).diff(t,2))*dx_ for m_,x_,dx_ in zip(ms,xs,dxs) )\n",
    "dAlemb += sum( (m_*x_.subs(x2u).subs(to_fun).diff(t,2) + m_*g)*dx_ for m_,x_,dx_ in zip(ms,ys,dys) )\n",
    "dAlemb = dAlemb.subs(to_var)"
   ]
  },
  {
   "cell_type": "code",
   "execution_count": 11,
   "metadata": {},
   "outputs": [],
   "source": [
    "#showmath(dAlemb)"
   ]
  },
  {
   "cell_type": "code",
   "execution_count": 12,
   "metadata": {},
   "outputs": [],
   "source": [
    "dphis = [vars()['dphi%d'%i] for i in range(1,1+N) ]"
   ]
  },
  {
   "cell_type": "code",
   "execution_count": 13,
   "metadata": {},
   "outputs": [],
   "source": [
    "eqs = [dAlemb.expand().coefficient(dphi_).trig_simplify() for dphi_ in dphis]"
   ]
  },
  {
   "cell_type": "code",
   "execution_count": 14,
   "metadata": {},
   "outputs": [
    {
     "data": {
      "text/latex": [
       "$${\\left(l_{3} l_{4} m_{4} \\cos\\left({\\varphi_4}\\right) \\sin\\left({\\varphi_3}\\right) - l_{3} l_{4} m_{4} \\cos\\left({\\varphi_3}\\right) \\sin\\left({\\varphi_4}\\right)\\right)} {\\dot \\varphi_4}^{2} + {\\left(l_{3}^{2} m_{3} + l_{3}^{2} m_{4}\\right)} {\\ddot \\varphi_3} + {\\left(l_{3} l_{4} m_{4} \\cos\\left({\\varphi_3}\\right) \\cos\\left({\\varphi_4}\\right) + l_{3} l_{4} m_{4} \\sin\\left({\\varphi_3}\\right) \\sin\\left({\\varphi_4}\\right)\\right)} {\\ddot \\varphi_4} - {\\left({\\left(l_{1} l_{3} m_{3} + l_{1} l_{3} m_{4}\\right)} {\\dot \\varphi_1}^{2} \\sin\\left({\\varphi_1}\\right) + {\\left(l_{2} l_{3} m_{3} + l_{2} l_{3} m_{4}\\right)} {\\dot \\varphi_2}^{2} \\sin\\left({\\varphi_2}\\right) - {\\left(l_{1} l_{3} m_{3} + l_{1} l_{3} m_{4}\\right)} {\\ddot \\varphi_1} \\cos\\left({\\varphi_1}\\right) - {\\left(l_{2} l_{3} m_{3} + l_{2} l_{3} m_{4}\\right)} {\\ddot \\varphi_2} \\cos\\left({\\varphi_2}\\right)\\right)} \\cos\\left({\\varphi_3}\\right) + {\\left({\\left(l_{1} l_{3} m_{3} + l_{1} l_{3} m_{4}\\right)} {\\dot \\varphi_1}^{2} \\cos\\left({\\varphi_1}\\right) + {\\left(l_{2} l_{3} m_{3} + l_{2} l_{3} m_{4}\\right)} {\\dot \\varphi_2}^{2} \\cos\\left({\\varphi_2}\\right) + g l_{3} m_{3} + g l_{3} m_{4} + {\\left(l_{1} l_{3} m_{3} + l_{1} l_{3} m_{4}\\right)} {\\ddot \\varphi_1} \\sin\\left({\\varphi_1}\\right) + {\\left(l_{2} l_{3} m_{3} + l_{2} l_{3} m_{4}\\right)} {\\ddot \\varphi_2} \\sin\\left({\\varphi_2}\\right)\\right)} \\sin\\left({\\varphi_3}\\right)$$"
      ],
      "text/plain": [
       "<IPython.core.display.Math object>"
      ]
     },
     "execution_count": 14,
     "metadata": {},
     "output_type": "execute_result"
    }
   ],
   "source": [
    "\n",
    "showmath(eqs[2])"
   ]
  },
  {
   "cell_type": "code",
   "execution_count": 15,
   "metadata": {},
   "outputs": [],
   "source": [
    "phidds = [vars()['phi%ddd'%i] for i in range(1,1+N) ]\n"
   ]
  },
  {
   "cell_type": "code",
   "execution_count": 16,
   "metadata": {},
   "outputs": [],
   "source": [
    "sol =  solve(eqs,phidds)[0]"
   ]
  },
  {
   "cell_type": "code",
   "execution_count": 17,
   "metadata": {},
   "outputs": [
    {
     "data": {
      "text/plain": [
       "62"
      ]
     },
     "execution_count": 17,
     "metadata": {},
     "output_type": "execute_result"
    }
   ],
   "source": [
    "len(sol[1].rhs().trig_reduce().operands())"
   ]
  },
  {
   "cell_type": "code",
   "execution_count": 34,
   "metadata": {},
   "outputs": [],
   "source": [
    "pars= {m_:1 for m_ in ms}\n",
    "\n",
    "for i,l_ in enumerate(ls):\n",
    "    pars[l_]  = 1/ (i+1)\n",
    "pars[g] = 9.81"
   ]
  },
  {
   "cell_type": "code",
   "execution_count": null,
   "metadata": {},
   "outputs": [],
   "source": []
  },
  {
   "cell_type": "code",
   "execution_count": 35,
   "metadata": {},
   "outputs": [
    {
     "data": {
      "text/plain": [
       "[phi1dd, phi2dd, phi3dd, phi4dd]"
      ]
     },
     "execution_count": 35,
     "metadata": {},
     "output_type": "execute_result"
    }
   ],
   "source": [
    "phidds"
   ]
  },
  {
   "cell_type": "code",
   "execution_count": 47,
   "metadata": {},
   "outputs": [],
   "source": [
    "import numpy as np \n",
    "\n",
    "phids = [vars()['phi%dd'%i] for i in range(1,1+N) ]\n",
    "\n",
    "ode =  phids + [sol_.rhs() for sol_ in sol]\n",
    "ode = map(lambda x:x.subs(pars),ode)\n",
    "\n",
    "times = srange(0,5,.01)\n",
    "\n",
    "ics = [0]*(N*2)\n",
    "ics[-1] = .01\n",
    "ics[:N]= [pi.n()]*N\n",
    "numsol = desolve_odeint(ode,ics,times, phis + phids)"
   ]
  },
  {
   "cell_type": "code",
   "execution_count": null,
   "metadata": {},
   "outputs": [],
   "source": []
  },
  {
   "cell_type": "code",
   "execution_count": 48,
   "metadata": {},
   "outputs": [
    {
     "data": {
      "application/vnd.jupyter.widget-view+json": {
       "model_id": "48d23de9da3041d5b138bd3a2faed6d8",
       "version_major": 2,
       "version_minor": 0
      },
      "text/plain": [
       "SW50ZXJhY3RpdmUgZnVuY3Rpb24gPGZ1bmN0aW9uIF8gYXQgMHgxMTI1MGU1MDA+IHdpdGggMSB3aWRnZXQKICBpdGg6IFRyYW5zZm9ybUludFNsaWRlcih2YWx1ZT0wLCBkZXNjcmlwdGlvbj3igKY=\n"
      ]
     },
     "metadata": {},
     "output_type": "display_data"
    }
   ],
   "source": [
    "phi_subs = lambda ith: {phi_:numval_ for phi_,numval_ in zip(phis,numsol[ith,:N])}\n",
    "\n",
    "@interact\n",
    "def _(ith=slider(0,numsol.shape[0]-1,step_size=10)):\n",
    "    xnum = [0]+[x_.subs(x2u).subs(pars).subs(phi_subs(ith)) for x_ in xs]\n",
    "    ynum = [0]+[x_.subs(x2u).subs(pars).subs(phi_subs(ith)) for x_ in ys]\n",
    "    plt = line(zip(xnum,ynum),\\\n",
    "        xmin=-N,xmax=N,ymin=-N,ymax=N,marker='o')\n",
    "    plt.show(axes=False,figsize=4,aspect_ratio=1)"
   ]
  },
  {
   "cell_type": "code",
   "execution_count": null,
   "metadata": {},
   "outputs": [],
   "source": []
  },
  {
   "cell_type": "markdown",
   "metadata": {},
   "source": [
    "\\newpage"
   ]
  }
 ],
 "metadata": {
  "kernelspec": {
   "display_name": "SageMath 8.7",
   "language": "",
   "name": "sagemath"
  },
  "language": "python",
  "language_info": {
   "codemirror_mode": {
    "name": "ipython",
    "version": 2
   },
   "file_extension": ".py",
   "mimetype": "text/x-python",
   "name": "python",
   "nbconvert_exporter": "python",
   "pygments_lexer": "ipython2",
   "version": "2.7.15"
  },
  "nbTranslate": {
   "displayLangs": [
    "en",
    "pl"
   ],
   "hotkey": "alt-t",
   "langInMainMenu": true,
   "sourceLang": "pl",
   "targetLang": "en",
   "useGoogleTranslate": true
  },
  "toc": {
   "base_numbering": 1,
   "nav_menu": {},
   "number_sections": true,
   "sideBar": true,
   "skip_h1_title": false,
   "title_cell": "Table of Contents",
   "title_sidebar": "Contents",
   "toc_cell": false,
   "toc_position": {},
   "toc_section_display": true,
   "toc_window_display": false
  }
 },
 "nbformat": 4,
 "nbformat_minor": 2
}
